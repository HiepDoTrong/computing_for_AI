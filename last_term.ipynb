{
 "cells": [
  {
   "cell_type": "markdown",
   "metadata": {},
   "source": [
    "# Import packages"
   ]
  },
  {
   "cell_type": "code",
   "execution_count": 248,
   "metadata": {},
   "outputs": [],
   "source": [
    "from pyspark.sql import SparkSession, DataFrame\n",
    "from pyspark.sql.functions import col, sum, when, col, rand, split, monotonically_increasing_id\n",
    "from pyspark.sql.types import StringType, FloatType\n",
    "from sklearn.preprocessing import LabelEncoder\n",
    "from pyspark.ml import Pipeline\n",
    "from pyspark.ml.feature import StringIndexer, PCA, StandardScaler, VectorAssembler\n",
    "from pyspark.ml.linalg import Vectors\n",
    "from pyspark.ml.classification import LogisticRegression, DecisionTreeClassifier, RandomForestClassifier\n",
    "from pyspark.ml.evaluation import BinaryClassificationEvaluator"
   ]
  },
  {
   "cell_type": "markdown",
   "metadata": {},
   "source": [
    "# Create spark session and load data"
   ]
  },
  {
   "cell_type": "code",
   "execution_count": 216,
   "metadata": {},
   "outputs": [
    {
     "name": "stderr",
     "output_type": "stream",
     "text": [
      "                                                                                \r"
     ]
    }
   ],
   "source": [
    "spark = SparkSession.builder.appName(\"analyze\").getOrCreate()\n",
    "\n",
    "file_path = \"/home/dotronghiep/Documents/Datasets/Bank_Credit_Default/loan/loan.csv\"\n",
    "df = spark.read.csv(file_path, header=True, inferSchema=True)"
   ]
  },
  {
   "cell_type": "code",
   "execution_count": 217,
   "metadata": {},
   "outputs": [
    {
     "name": "stdout",
     "output_type": "stream",
     "text": [
      "+----+---------+---------+-----------+---------------+----------+--------+-----------+-----+---------+--------------------+----------+--------------+----------+-------------------+--------+-----------+----------+----+----+------------------+--------------------+--------+----------+-----+-----------+----------------+--------------+----------------------+----------------------+--------+-------+---------+----------+---------+-------------------+---------+-------------+-----------+---------------+---------------+-------------+------------------+----------+-----------------------+------------+---------------+------------+------------------+--------------------------+---------------------------+-----------+----------------+----------------+---------+-------------------------+--------------+------------+-----------+-----------+-----------+-----------+-----------+------------------+------------+-------+-----------+-----------+----------+--------+----------------+------+-----------+------------+--------------------+-----------+--------------+-------+------------------------+-----------+------------------+--------------------+---------------------+--------------+--------+--------------------+------------------------+---------------------+------------------------------+---------------------+--------------+---------------+-----------+---------+---------+-------------+-------------+-------------------+--------+----------------+------------+------------------+------------------+--------------+----------------+--------------------+---------+---------------+-----------------+--------------+--------------------------+---------------+------------------------+----------------------+----------------+----------------+------------------+-------------------+---------------------+--------------------------------+----------------------------------+-----------------------------------+-------------+-------------+---------------+---------------+-------------+---------------+-------------------+-----------------+-----------------------+---------------+------------+--------------------+------------------------------------------+------------------------------+----------------------------+-------------------+--------------------+-------------------------+-----------------+---------------+-----------------+---------------------+---------------+\n",
      "|  id|member_id|loan_amnt|funded_amnt|funded_amnt_inv|      term|int_rate|installment|grade|sub_grade|           emp_title|emp_length|home_ownership|annual_inc|verification_status| issue_d|loan_status|pymnt_plan| url|desc|           purpose|               title|zip_code|addr_state|  dti|delinq_2yrs|earliest_cr_line|inq_last_6mths|mths_since_last_delinq|mths_since_last_record|open_acc|pub_rec|revol_bal|revol_util|total_acc|initial_list_status|out_prncp|out_prncp_inv|total_pymnt|total_pymnt_inv|total_rec_prncp|total_rec_int|total_rec_late_fee|recoveries|collection_recovery_fee|last_pymnt_d|last_pymnt_amnt|next_pymnt_d|last_credit_pull_d|collections_12_mths_ex_med|mths_since_last_major_derog|policy_code|application_type|annual_inc_joint|dti_joint|verification_status_joint|acc_now_delinq|tot_coll_amt|tot_cur_bal|open_acc_6m|open_act_il|open_il_12m|open_il_24m|mths_since_rcnt_il|total_bal_il|il_util|open_rv_12m|open_rv_24m|max_bal_bc|all_util|total_rev_hi_lim|inq_fi|total_cu_tl|inq_last_12m|acc_open_past_24mths|avg_cur_bal|bc_open_to_buy|bc_util|chargeoff_within_12_mths|delinq_amnt|mo_sin_old_il_acct|mo_sin_old_rev_tl_op|mo_sin_rcnt_rev_tl_op|mo_sin_rcnt_tl|mort_acc|mths_since_recent_bc|mths_since_recent_bc_dlq|mths_since_recent_inq|mths_since_recent_revol_delinq|num_accts_ever_120_pd|num_actv_bc_tl|num_actv_rev_tl|num_bc_sats|num_bc_tl|num_il_tl|num_op_rev_tl|num_rev_accts|num_rev_tl_bal_gt_0|num_sats|num_tl_120dpd_2m|num_tl_30dpd|num_tl_90g_dpd_24m|num_tl_op_past_12m|pct_tl_nvr_dlq|percent_bc_gt_75|pub_rec_bankruptcies|tax_liens|tot_hi_cred_lim|total_bal_ex_mort|total_bc_limit|total_il_high_credit_limit|revol_bal_joint|sec_app_earliest_cr_line|sec_app_inq_last_6mths|sec_app_mort_acc|sec_app_open_acc|sec_app_revol_util|sec_app_open_act_il|sec_app_num_rev_accts|sec_app_chargeoff_within_12_mths|sec_app_collections_12_mths_ex_med|sec_app_mths_since_last_major_derog|hardship_flag|hardship_type|hardship_reason|hardship_status|deferral_term|hardship_amount|hardship_start_date|hardship_end_date|payment_plan_start_date|hardship_length|hardship_dpd|hardship_loan_status|orig_projected_additional_accrued_interest|hardship_payoff_balance_amount|hardship_last_payment_amount|disbursement_method|debt_settlement_flag|debt_settlement_flag_date|settlement_status|settlement_date|settlement_amount|settlement_percentage|settlement_term|\n",
      "+----+---------+---------+-----------+---------------+----------+--------+-----------+-----+---------+--------------------+----------+--------------+----------+-------------------+--------+-----------+----------+----+----+------------------+--------------------+--------+----------+-----+-----------+----------------+--------------+----------------------+----------------------+--------+-------+---------+----------+---------+-------------------+---------+-------------+-----------+---------------+---------------+-------------+------------------+----------+-----------------------+------------+---------------+------------+------------------+--------------------------+---------------------------+-----------+----------------+----------------+---------+-------------------------+--------------+------------+-----------+-----------+-----------+-----------+-----------+------------------+------------+-------+-----------+-----------+----------+--------+----------------+------+-----------+------------+--------------------+-----------+--------------+-------+------------------------+-----------+------------------+--------------------+---------------------+--------------+--------+--------------------+------------------------+---------------------+------------------------------+---------------------+--------------+---------------+-----------+---------+---------+-------------+-------------+-------------------+--------+----------------+------------+------------------+------------------+--------------+----------------+--------------------+---------+---------------+-----------------+--------------+--------------------------+---------------+------------------------+----------------------+----------------+----------------+------------------+-------------------+---------------------+--------------------------------+----------------------------------+-----------------------------------+-------------+-------------+---------------+---------------+-------------+---------------+-------------------+-----------------+-----------------------+---------------+------------+--------------------+------------------------------------------+------------------------------+----------------------------+-------------------+--------------------+-------------------------+-----------------+---------------+-----------------+---------------------+---------------+\n",
      "|NULL|     NULL|     2500|       2500|         2500.0| 36 months|   13.56|      84.92|    C|       C1|                Chef| 10+ years|          RENT|     55000|       Not Verified|Dec-2018|    Current|         n|NULL|NULL|debt_consolidation|  Debt consolidation|   109xx|        NY|18.24|          0|        Apr-2001|             1|                  NULL|                    45|       9|      1|     4341|      10.3|       34|                  w|  2386.02|      2386.02|     167.02|         167.02|         113.98|        53.04|               0.0|       0.0|                    0.0|    Feb-2019|          84.92|    Mar-2019|          Feb-2019|                         0|                       NULL|          1|      Individual|            NULL|     NULL|                     NULL|             0|           0|      16901|          2|          2|          1|          2|                 2|       12560|     69|          2|          7|      2137|      28|           42000|     1|         11|           2|                   9|       1878|         34360|    5.9|                     0.0|          0|             140.0|                 212|                    1|             1|       0|                   1|                    NULL|                    2|                          NULL|                    0|             2|              5|          3|        3|       16|            7|           18|                  5|       9|               0|           0|                 0|                 3|         100.0|             0.0|                   1|        0|          60124|            16901|         36500|                     18124|           NULL|                    NULL|                  NULL|            NULL|            NULL|              NULL|               NULL|                 NULL|                            NULL|                              NULL|                               NULL|            N|         NULL|           NULL|           NULL|         NULL|           NULL|               NULL|             NULL|                   NULL|           NULL|        NULL|                NULL|                                      NULL|                          NULL|                        NULL|               Cash|                   N|                     NULL|             NULL|           NULL|             NULL|                 NULL|           NULL|\n",
      "|NULL|     NULL|    30000|      30000|        30000.0| 60 months|   18.94|     777.23|    D|       D2|         Postmaster | 10+ years|      MORTGAGE|     90000|    Source Verified|Dec-2018|    Current|         n|NULL|NULL|debt_consolidation|  Debt consolidation|   713xx|        LA|26.52|          0|        Jun-1987|             0|                    71|                    75|      13|      1|    12315|      24.2|       44|                  w| 29387.75|     29387.75|    1507.11|        1507.11|         612.25|       894.86|               0.0|       0.0|                    0.0|    Feb-2019|         777.23|    Mar-2019|          Feb-2019|                         0|                       NULL|          1|      Individual|            NULL|     NULL|                     NULL|             0|        1208|     321915|          4|          4|          2|          3|                 3|       87153|     88|          4|          5|       998|      57|           50800|     2|         15|           2|                  10|      24763|         13761|    8.3|                     0.0|          0|             163.0|                 378|                    4|             3|       3|                   4|                    NULL|                    4|                          NULL|                    0|             2|              4|          4|        9|       27|            8|           14|                  4|      13|               0|           0|                 0|                 6|          95.0|             0.0|                   1|        0|         372872|            99468|         15000|                     94072|           NULL|                    NULL|                  NULL|            NULL|            NULL|              NULL|               NULL|                 NULL|                            NULL|                              NULL|                               NULL|            N|         NULL|           NULL|           NULL|         NULL|           NULL|               NULL|             NULL|                   NULL|           NULL|        NULL|                NULL|                                      NULL|                          NULL|                        NULL|               Cash|                   N|                     NULL|             NULL|           NULL|             NULL|                 NULL|           NULL|\n",
      "|NULL|     NULL|     5000|       5000|         5000.0| 36 months|   17.97|     180.69|    D|       D1|      Administrative|   6 years|      MORTGAGE|     59280|    Source Verified|Dec-2018|    Current|         n|NULL|NULL|debt_consolidation|  Debt consolidation|   490xx|        MI|10.51|          0|        Apr-2011|             0|                  NULL|                  NULL|       8|      0|     4599|      19.1|       13|                  w|  4787.21|      4787.21|     353.89|         353.89|         212.79|       141.10|               0.0|       0.0|                    0.0|    Feb-2019|         180.69|    Mar-2019|          Feb-2019|                         0|                       NULL|          1|      Individual|            NULL|     NULL|                     NULL|             0|           0|     110299|          0|          1|          0|          2|                14|        7150|     72|          0|          2|         0|      35|           24100|     1|          5|           0|                   4|      18383|         13800|      0|                     0.0|          0|              87.0|                  92|                   15|            14|       2|                  77|                    NULL|                   14|                          NULL|                    0|             0|              3|          3|        3|        4|            6|            7|                  3|       8|               0|           0|                 0|                 0|         100.0|             0.0|                   0|        0|         136927|            11749|         13800|                     10000|           NULL|                    NULL|                  NULL|            NULL|            NULL|              NULL|               NULL|                 NULL|                            NULL|                              NULL|                               NULL|            N|         NULL|           NULL|           NULL|         NULL|           NULL|               NULL|             NULL|                   NULL|           NULL|        NULL|                NULL|                                      NULL|                          NULL|                        NULL|               Cash|                   N|                     NULL|             NULL|           NULL|             NULL|                 NULL|           NULL|\n",
      "|NULL|     NULL|     4000|       4000|         4000.0| 36 months|   18.94|     146.51|    D|       D2|       IT Supervisor| 10+ years|      MORTGAGE|     92000|    Source Verified|Dec-2018|    Current|         n|NULL|NULL|debt_consolidation|  Debt consolidation|   985xx|        WA|16.74|          0|        Feb-2006|             0|                  NULL|                  NULL|      10|      0|     5468|      78.1|       13|                  w|  3831.93|      3831.93|     286.71|         286.71|         168.07|       118.64|               0.0|       0.0|                    0.0|    Feb-2019|         146.51|    Mar-2019|          Feb-2019|                         0|                       NULL|          1|      Individual|            NULL|     NULL|                     NULL|             0|         686|     305049|          1|          5|          3|          5|                 5|       30683|     68|          0|          0|      3761|      70|            7000|     2|          4|           3|                   5|      30505|          1239|   75.2|                     0.0|          0|              62.0|                 154|                   64|             5|       3|                  64|                    NULL|                    5|                          NULL|                    0|             1|              2|          1|        2|        7|            2|            3|                  2|      10|               0|           0|                 0|                 3|         100.0|           100.0|                   0|        0|         385183|            36151|          5000|                     44984|           NULL|                    NULL|                  NULL|            NULL|            NULL|              NULL|               NULL|                 NULL|                            NULL|                              NULL|                               NULL|            N|         NULL|           NULL|           NULL|         NULL|           NULL|               NULL|             NULL|                   NULL|           NULL|        NULL|                NULL|                                      NULL|                          NULL|                        NULL|               Cash|                   N|                     NULL|             NULL|           NULL|             NULL|                 NULL|           NULL|\n",
      "|NULL|     NULL|    30000|      30000|        30000.0| 60 months|   16.14|     731.78|    C|       C4|            Mechanic| 10+ years|      MORTGAGE|     57250|       Not Verified|Dec-2018|    Current|         n|NULL|NULL|debt_consolidation|  Debt consolidation|   212xx|        MD|26.35|          0|        Dec-2000|             0|                  NULL|                  NULL|      12|      0|      829|       3.6|       26|                  w| 29339.02|     29339.02|    1423.21|        1423.21|         660.98|       762.23|               0.0|       0.0|                    0.0|    Feb-2019|         731.78|    Mar-2019|          Feb-2019|                         0|                       NULL|          1|      Individual|            NULL|     NULL|                     NULL|             0|           0|     116007|          3|          5|          3|          5|                 4|       28845|     89|          2|          4|       516|      54|           23100|     1|          0|           0|                   9|       9667|          8471|    8.9|                     0.0|          0|              53.0|                 216|                    2|             2|       2|                   2|                    NULL|                   13|                          NULL|                    0|             2|              2|          3|        8|        9|            6|           15|                  2|      12|               0|           0|                 0|                 5|          92.3|             0.0|                   0|        0|         157548|            29674|          9300|                     32332|           NULL|                    NULL|                  NULL|            NULL|            NULL|              NULL|               NULL|                 NULL|                            NULL|                              NULL|                               NULL|            N|         NULL|           NULL|           NULL|         NULL|           NULL|               NULL|             NULL|                   NULL|           NULL|        NULL|                NULL|                                      NULL|                          NULL|                        NULL|               Cash|                   N|                     NULL|             NULL|           NULL|             NULL|                 NULL|           NULL|\n",
      "|NULL|     NULL|     5550|       5550|         5550.0| 36 months|   15.02|     192.45|    C|       C3|        Director COE| 10+ years|      MORTGAGE|    152500|       Not Verified|Dec-2018|    Current|         n|NULL|NULL|       credit_card|Credit card refin...|   461xx|        IN|37.94|          0|        Sep-2002|             3|                  NULL|                  NULL|      18|      0|    53854|      48.1|       44|                  w|  5302.50|      5302.50|     377.95|         377.95|         247.50|       130.45|               0.0|       0.0|                    0.0|    Feb-2019|         192.45|    Mar-2019|          Feb-2019|                         0|                       NULL|          1|      Individual|            NULL|     NULL|                     NULL|             0|           0|     685749|          1|          7|          2|          3|                 4|      131524|     72|          1|          4|     17584|      58|          111900|     2|          4|           6|                   8|      40338|         23746|     64|                     0.0|          0|             195.0|                 176|                   10|             4|       6|                  20|                    NULL|                    3|                          NULL|                    0|             4|              6|          6|       10|       23|            9|           15|                  7|      18|               0|           0|                 0|                 4|         100.0|            60.0|                   0|        0|         831687|           185378|         65900|                    203159|           NULL|                    NULL|                  NULL|            NULL|            NULL|              NULL|               NULL|                 NULL|                            NULL|                              NULL|                               NULL|            N|         NULL|           NULL|           NULL|         NULL|           NULL|               NULL|             NULL|                   NULL|           NULL|        NULL|                NULL|                                      NULL|                          NULL|                        NULL|               Cash|                   N|                     NULL|             NULL|           NULL|             NULL|                 NULL|           NULL|\n",
      "|NULL|     NULL|     2000|       2000|         2000.0| 36 months|   17.97|      72.28|    D|       D1|     Account Manager|   4 years|          RENT|     51000|    Source Verified|Dec-2018|    Current|         n|NULL|NULL|debt_consolidation|  Debt consolidation|   606xx|        IL|  2.4|          0|        Nov-2004|             1|                  NULL|                  NULL|       1|      0|        0|      NULL|        9|                  w|  1914.71|      1914.71|     141.56|         141.56|          85.29|        56.27|               0.0|       0.0|                    0.0|    Feb-2019|          72.28|    Mar-2019|          Feb-2019|                         0|                       NULL|          1|      Individual|            NULL|     NULL|                     NULL|             0|           0|        854|          0|          0|          2|          3|                 7|           0|   NULL|          0|          1|         0|     100|               0|     0|          0|           1|                   4|        854|          NULL|   NULL|                     0.0|          0|             169.0|                  40|                   23|             7|       0|                NULL|                    NULL|                    1|                          NULL|                    0|             0|              0|          0|        3|        5|            0|            3|                  0|       1|               0|           0|                 0|                 2|         100.0|            NULL|                   0|        0|            854|              854|             0|                         0|           NULL|                    NULL|                  NULL|            NULL|            NULL|              NULL|               NULL|                 NULL|                            NULL|                              NULL|                               NULL|            N|         NULL|           NULL|           NULL|         NULL|           NULL|               NULL|             NULL|                   NULL|           NULL|        NULL|                NULL|                                      NULL|                          NULL|                        NULL|               Cash|                   N|                     NULL|             NULL|           NULL|             NULL|                 NULL|           NULL|\n",
      "|NULL|     NULL|     6000|       6000|         6000.0| 36 months|   13.56|     203.79|    C|       C1|  Assistant Director| 10+ years|          RENT|     65000|    Source Verified|Dec-2018|    Current|         n|NULL|NULL|       credit_card|Credit card refin...|   460xx|        IN| 30.1|          0|        Nov-1997|             0|                  NULL|                  NULL|      19|      0|    38476|      69.3|       37|                  w|  5864.01|      5864.01|     201.53|         201.53|         135.99|        65.54|               0.0|       0.0|                    0.0|    Feb-2019|         208.31|    Mar-2019|          Feb-2019|                         0|                       NULL|          1|      Individual|            NULL|     NULL|                     NULL|             0|           0|      91535|          0|          5|          0|          1|                23|       53059|     87|          0|          2|      9413|      74|           55500|     1|          2|           0|                   3|       5085|          3034|   90.8|                     0.0|          0|             169.0|                 253|                   13|            13|       1|                  14|                    NULL|                   13|                          NULL|                    0|             7|             12|          8|       10|       15|           14|           20|                 12|      19|               0|           0|                 0|                 0|         100.0|            85.7|                   0|        0|         117242|            91535|         33100|                     61742|           NULL|                    NULL|                  NULL|            NULL|            NULL|              NULL|               NULL|                 NULL|                            NULL|                              NULL|                               NULL|            N|         NULL|           NULL|           NULL|         NULL|           NULL|               NULL|             NULL|                   NULL|           NULL|        NULL|                NULL|                                      NULL|                          NULL|                        NULL|          DirectPay|                   N|                     NULL|             NULL|           NULL|             NULL|                 NULL|           NULL|\n",
      "|NULL|     NULL|     5000|       5000|         5000.0| 36 months|   17.97|     180.69|    D|       D1| Legal Assistant III| 10+ years|      MORTGAGE|     53580|    Source Verified|Dec-2018|    Current|         n|NULL|NULL|debt_consolidation|  Debt consolidation|   327xx|        FL|21.16|          0|        Aug-1998|             1|                    32|                  NULL|       8|      0|     8018|      35.2|       38|                  w|  4786.79|      4786.79|     353.89|         353.89|         213.21|       140.68|               0.0|       0.0|                    0.0|    Feb-2019|         180.69|    Mar-2019|          Feb-2019|                         0|                         45|          1|      Individual|            NULL|     NULL|                     NULL|             0|           0|      41882|          5|          2|          5|          5|                 3|       33864|     98|          1|          6|      3132|      73|           22800|     2|          1|           4|                  12|       5235|         13786|   35.9|                     0.0|          0|             145.0|                 244|                    6|             3|       3|                   6|                      33|                    2|                            32|                    2|             4|              5|          5|       10|       20|            6|           15|                  5|       8|               0|           0|                 0|                 6|          78.9|            60.0|                   0|        0|          57426|            41882|         21500|                     34626|           NULL|                    NULL|                  NULL|            NULL|            NULL|              NULL|               NULL|                 NULL|                            NULL|                              NULL|                               NULL|            N|         NULL|           NULL|           NULL|         NULL|           NULL|               NULL|             NULL|                   NULL|           NULL|        NULL|                NULL|                                      NULL|                          NULL|                        NULL|               Cash|                   N|                     NULL|             NULL|           NULL|             NULL|                 NULL|           NULL|\n",
      "|NULL|     NULL|     6000|       6000|         6000.0| 36 months|   14.47|     206.44|    C|       C2|                NULL|  < 1 year|           OWN|    300000|       Not Verified|Dec-2018|    Current|         n|NULL|NULL|debt_consolidation|  Debt consolidation|   068xx|        CT|17.43|          1|        Apr-2002|             1|                    17|                  NULL|      38|      0|    65950|      49.8|       58|                  w|  5730.20|      5730.20|     405.64|         405.64|         269.80|       135.84|               0.0|       0.0|                    0.0|    Feb-2019|         206.44|    Mar-2019|          Feb-2019|                         0|                       NULL|          1|      Individual|            NULL|     NULL|                     NULL|             0|           0|     349502|          1|          4|          1|          3|                 7|       39961|     45|          1|         12|     15926|      48|          132500|     2|          2|           2|                  15|       9197|         38683|   60.6|                     0.0|          0|             166.0|                 200|                    4|             4|       1|                   4|                    NULL|                    4|                            17|                    0|            16|             20|         19|       26|        9|           33|           48|                 20|      38|               0|           0|                 0|                 2|         100.0|            26.3|                   0|        0|         477390|           105911|         98300|                     89600|           NULL|                    NULL|                  NULL|            NULL|            NULL|              NULL|               NULL|                 NULL|                            NULL|                              NULL|                               NULL|            N|         NULL|           NULL|           NULL|         NULL|           NULL|               NULL|             NULL|                   NULL|           NULL|        NULL|                NULL|                                      NULL|                          NULL|                        NULL|               Cash|                   N|                     NULL|             NULL|           NULL|             NULL|                 NULL|           NULL|\n",
      "|NULL|     NULL|     5500|       5500|         5500.0| 36 months|   22.35|     211.05|    D|       D5|                NULL|  < 1 year|      MORTGAGE|     50000|       Not Verified|Dec-2018|    Current|         n|NULL|NULL|       credit_card|Credit card refin...|   711xx|        LA|15.94|          1|        May-2007|             0|                    22|                  NULL|       6|      0|     4529|      94.4|       13|                  w|  5280.75|      5280.75|     411.86|         411.86|         219.25|       192.61|               0.0|       0.0|                    0.0|    Feb-2019|         211.05|    Mar-2019|          Feb-2019|                         0|                         22|          1|      Individual|            NULL|     NULL|                     NULL|             0|           0|     228151|          2|          2|          1|          2|                 4|       13656|     87|          1|          1|      2837|      89|            4800|     2|          0|           0|                   3|      38025|           271|   94.4|                     0.0|          0|             139.0|                 105|                    5|             4|       3|                   5|                      22|                    4|                            22|                    2|             3|              3|          3|        4|        5|            3|            5|                  3|       6|               0|           0|                 1|                 2|          84.6|           100.0|                   0|        0|         243452|            18185|          4800|                     15649|           NULL|                    NULL|                  NULL|            NULL|            NULL|              NULL|               NULL|                 NULL|                            NULL|                              NULL|                               NULL|            N|         NULL|           NULL|           NULL|         NULL|           NULL|               NULL|             NULL|                   NULL|           NULL|        NULL|                NULL|                                      NULL|                          NULL|                        NULL|               Cash|                   N|                     NULL|             NULL|           NULL|             NULL|                 NULL|           NULL|\n",
      "|NULL|     NULL|    28000|      28000|        28000.0| 60 months|   11.31|     613.13|    B|       B3|          Consultant|   2 years|      MORTGAGE|     70000|       Not Verified|Dec-2018|    Current|         n|NULL|NULL|       credit_card|Credit card refin...|   300xx|        GA|22.01|          0|        Dec-2003|             1|                  NULL|                  NULL|      10|      0|    56152|      55.9|       23|                  w| 27298.25|     27298.25|    1199.87|        1199.87|         701.75|       498.12|               0.0|       0.0|                    0.0|    Feb-2019|         613.13|    Mar-2019|          Feb-2019|                         0|                       NULL|          1|      Individual|            NULL|     NULL|                     NULL|             0|           0|     177406|          1|          1|          0|          0|                62|        9484|     54|          1|          2|     16284|      56|          100400|     1|          0|           1|                   2|      17741|         44248|   55.9|                     0.0|          0|             180.0|                 165|                    6|             6|       1|                   6|                    NULL|                    6|                          NULL|                    0|             5|              5|          8|        9|       13|            8|            9|                  5|      10|               0|           0|                 0|                 1|         100.0|            37.5|                   0|        0|         259435|            65636|        100400|                     17535|           NULL|                    NULL|                  NULL|            NULL|            NULL|              NULL|               NULL|                 NULL|                            NULL|                              NULL|                               NULL|            N|         NULL|           NULL|           NULL|         NULL|           NULL|               NULL|             NULL|                   NULL|           NULL|        NULL|                NULL|                                      NULL|                          NULL|                        NULL|          DirectPay|                   N|                     NULL|             NULL|           NULL|             NULL|                 NULL|           NULL|\n",
      "|NULL|     NULL|    11200|      11200|        11200.0| 36 months|    8.19|     351.95|    A|       A4|Job Coach Supervisor| 10+ years|      MORTGAGE|     65000|       Not Verified|Dec-2018|    Current|         n|NULL|NULL|       credit_card|Credit card refin...|   840xx|        UT| 23.6|          0|        Jun-2003|             0|                  NULL|                  NULL|      20|      0|     8836|      16.6|       27|                  w| 10647.10|     10647.10|     696.26|         696.26|         552.90|       143.36|               0.0|       0.0|                    0.0|    Feb-2019|         351.95|    Mar-2019|          Feb-2019|                         0|                       NULL|          1|      Individual|            NULL|     NULL|                     NULL|             0|           0|     249643|          2|          8|          2|          3|                 1|       69959|     68|          0|          0|      4603|      45|           53100|     3|          0|           3|                   3|      12482|         26289|   24.7|                     0.0|          0|             170.0|                 186|                   25|             1|       4|                  65|                    NULL|                    1|                          NULL|                    0|             4|              5|          5|        5|       13|           10|           10|                  5|      20|               0|           0|                 0|                 2|         100.0|            20.0|                   0|        0|         345654|            78795|         34900|                    114578|           NULL|                    NULL|                  NULL|            NULL|            NULL|              NULL|               NULL|                 NULL|                            NULL|                              NULL|                               NULL|            N|         NULL|           NULL|           NULL|         NULL|           NULL|               NULL|             NULL|                   NULL|           NULL|        NULL|                NULL|                                      NULL|                          NULL|                        NULL|               Cash|                   N|                     NULL|             NULL|           NULL|             NULL|                 NULL|           NULL|\n",
      "|NULL|     NULL|     6500|       6500|         6500.0| 36 months|   17.97|      234.9|    D|       D1|Quality Field Eng...|   4 years|      MORTGAGE|    154000|    Source Verified|Dec-2018|    Current|         n|NULL|NULL|debt_consolidation|  Debt consolidation|   278xx|        NC|28.78|          2|        Oct-2008|             0|                     6|                  NULL|      27|      0|    23754|      60.4|       41|                  w|  6222.82|      6222.82|     460.07|         460.07|         277.18|       182.89|               0.0|       0.0|                    0.0|    Feb-2019|          234.9|    Mar-2019|          Feb-2019|                         0|                          6|          1|      Individual|            NULL|     NULL|                     NULL|             0|           0|     116747|          2|          8|          3|          5|                 1|       92993|     78|          1|          6|      3943|      72|           39300|     3|          3|           3|                  11|       4324|          4578|   62.8|                     1.0|          0|             122.0|                  74|                   11|             1|       0|                  13|                    NULL|                    4|                          NULL|                    1|             5|             19|          5|        8|       17|           19|           24|                 19|      27|               0|           0|                 1|                 4|          90.2|            20.0|                   0|        0|         169160|           116747|         12300|                    129860|           NULL|                    NULL|                  NULL|            NULL|            NULL|              NULL|               NULL|                 NULL|                            NULL|                              NULL|                               NULL|            N|         NULL|           NULL|           NULL|         NULL|           NULL|               NULL|             NULL|                   NULL|           NULL|        NULL|                NULL|                                      NULL|                          NULL|                        NULL|               Cash|                   N|                     NULL|             NULL|           NULL|             NULL|                 NULL|           NULL|\n",
      "|NULL|     NULL|    22000|      22000|        22000.0| 60 months|   12.98|     500.35|    B|       B5|             Teller | 10+ years|      MORTGAGE|     65000|    Source Verified|Dec-2018|    Current|         n|NULL|NULL|debt_consolidation|  Debt consolidation|   413xx|        KY|11.19|          0|        Jul-1990|             0|                  NULL|                  NULL|       8|      0|      134|       0.5|       16|                  w| 21472.40|     21472.40|      976.9|         976.90|         527.60|       449.30|               0.0|       0.0|                    0.0|    Feb-2019|         500.35|    Mar-2019|          Feb-2019|                         0|                       NULL|          1|      Individual|            NULL|     NULL|                     NULL|             0|           0|      22337|          1|          1|          0|          0|                36|       22127|   NULL|          1|          2|         3|       1|           29500|     0|          0|           0|                   2|       3191|         27197|      0|                     0.0|          0|             162.0|                 341|                    4|             4|       1|                   4|                    NULL|                   15|                          NULL|                    0|             1|              2|          3|        4|        6|            6|            8|                  2|       8|               0|           0|                 0|                 1|         100.0|             0.0|                   0|        0|          71932|            22337|         27200|                     38535|           NULL|                    NULL|                  NULL|            NULL|            NULL|              NULL|               NULL|                 NULL|                            NULL|                              NULL|                               NULL|            N|         NULL|           NULL|           NULL|         NULL|           NULL|               NULL|             NULL|                   NULL|           NULL|        NULL|                NULL|                                      NULL|                          NULL|                        NULL|               Cash|                   N|                     NULL|             NULL|           NULL|             NULL|                 NULL|           NULL|\n",
      "|NULL|     NULL|     3500|       3500|         3500.0| 36 months|   16.14|      123.3|    C|       C4|respritory therapist| 10+ years|      MORTGAGE|     80000|           Verified|Dec-2018|    Current|         n|NULL|NULL|debt_consolidation|  Debt consolidation|   604xx|        IL|13.63|          0|        Dec-1988|             0|                    43|                  NULL|       7|      0|     8952|      58.5|       27|                  w|  3346.52|      3346.52|     218.36|         218.36|         153.48|        64.88|               0.0|       0.0|                    0.0|    Feb-2019|          123.3|    Mar-2019|          Feb-2019|                         0|                         48|          1|       Joint App|          104424|    10.77|                 Verified|             0|           0|      16085|          2|          2|          0|          0|                57|        7133|     26|          3|          4|      3873|      38|           15300|     0|          0|           1|                   4|       2298|          4127|   48.4|                     0.0|          0|             144.0|                 360|                    4|             4|       2|                   7|                    NULL|                    7|                           117|                    7|             1|              3|          2|        3|       10|            5|           15|                  3|       7|               0|           0|                 0|                 3|          76.0|            50.0|                   0|        0|          42328|            16085|          8000|                     27028|          10286|                May-2002|                     2|               3|               2|              44.1|                  0|                    6|                               0|                                 0|                               NULL|            N|         NULL|           NULL|           NULL|         NULL|           NULL|               NULL|             NULL|                   NULL|           NULL|        NULL|                NULL|                                      NULL|                          NULL|                        NULL|               Cash|                   N|                     NULL|             NULL|           NULL|             NULL|                 NULL|           NULL|\n",
      "|NULL|     NULL|     7000|       7000|         7000.0| 36 months|   12.98|      235.8|    B|       B5|    Worship Director|   4 years|      MORTGAGE|    102500|       Not Verified|Dec-2018|    Current|         n|NULL|NULL|             house|         Home buying|   436xx|        OH| 15.2|          0|        Dec-2002|             0|                    38|                  NULL|       9|      0|     1057|       7.2|       21|                  w|  6678.10|      6678.10|     464.03|         464.03|         321.90|       142.13|               0.0|       0.0|                    0.0|    Feb-2019|          235.8|    Mar-2019|          Feb-2019|                         0|                         68|          1|      Individual|            NULL|     NULL|                     NULL|             0|           0|     174891|          1|          4|          1|          1|                10|       75652|     78|          1|          2|         0|      69|           14700|     1|          0|           3|                   3|      19432|          7200|      0|                     0.0|          0|             182.0|                 192|                    6|             6|       4|                  26|                    NULL|                   10|                          NULL|                    1|             0|              2|          2|        3|        8|            4|            9|                  2|       9|               0|           0|                 0|                 2|          80.0|             0.0|                   0|        0|         214624|            76709|          7200|                     96826|           NULL|                    NULL|                  NULL|            NULL|            NULL|              NULL|               NULL|                 NULL|                            NULL|                              NULL|                               NULL|            N|         NULL|           NULL|           NULL|         NULL|           NULL|               NULL|             NULL|                   NULL|           NULL|        NULL|                NULL|                                      NULL|                          NULL|                        NULL|               Cash|                   N|                     NULL|             NULL|           NULL|             NULL|                 NULL|           NULL|\n",
      "|NULL|     NULL|    25000|      25000|        25000.0| 60 months|   16.91|     620.11|    C|       C5|          Processor | 10+ years|      MORTGAGE|     23878|       Not Verified|Dec-2018|    Current|         n|NULL|NULL|debt_consolidation|  Debt consolidation|   453xx|        OH| 6.26|          0|        Oct-2010|             0|                  NULL|                  NULL|       4|      0|     3044|      54.4|        8|                  w| 24460.59|     24460.59|    1204.99|        1204.99|         539.41|       665.58|               0.0|       0.0|                    0.0|    Feb-2019|         620.11|    Mar-2019|          Feb-2019|                         0|                       NULL|          1|       Joint App|           64793|    18.91|             Not Verified|             0|           0|      79660|          0|          0|          0|          0|                47|           0|   NULL|          0|          0|      1044|      54|            5600|     0|          0|           0|                   0|      19915|             0|  104.4|                     0.0|          0|              90.0|                  98|                   27|            27|       2|                  84|                    NULL|                 NULL|                          NULL|                    0|             1|              3|          1|        1|        2|            3|            4|                  3|       4|               0|           0|                 0|                 0|         100.0|           100.0|                   0|        0|          92334|             3044|          1000|                         0|          24654|                Aug-2003|                     0|               2|               9|              78.9|                  1|                   12|                               0|                                 0|                               NULL|            N|         NULL|           NULL|           NULL|         NULL|           NULL|               NULL|             NULL|                   NULL|           NULL|        NULL|                NULL|                                      NULL|                          NULL|                        NULL|               Cash|                   N|                     NULL|             NULL|           NULL|             NULL|                 NULL|           NULL|\n",
      "|NULL|     NULL|    16000|      16000|        16000.0| 60 months|   20.89|     431.87|    D|       D4|Neonatal Nurse Pr...|   4 years|      MORTGAGE|    120000|       Not Verified|Dec-2018|    Current|         n|NULL|NULL|       credit_card|Credit card refin...|   720xx|        AR|27.57|          1|        Jul-2005|             0|                     8|                  NULL|      13|      0|    18826|      82.2|       37|                  w| 15690.66|     15690.66|     835.89|         835.89|         309.34|       526.55|               0.0|       0.0|                    0.0|    Feb-2019|         431.87|    Mar-2019|          Feb-2019|                         0|                         35|          1|      Individual|            NULL|     NULL|                     NULL|             0|           0|     434239|          1|          6|          1|          4|                 4|      247928|     90|          1|          1|      9439|      87|           22900|     6|          1|           2|                   5|      33403|           430|   96.8|                     0.0|          0|             136.0|                 146|                   12|             4|       2|                  12|                      48|                    4|                             8|                    2|             2|              4|          2|        5|       24|            6|           10|                  4|      13|               0|           0|                 0|                 2|          86.5|           100.0|                   0|        0|         444217|           266754|         13500|                    239338|           NULL|                    NULL|                  NULL|            NULL|            NULL|              NULL|               NULL|                 NULL|                            NULL|                              NULL|                               NULL|            N|         NULL|           NULL|           NULL|         NULL|           NULL|               NULL|             NULL|                   NULL|           NULL|        NULL|                NULL|                                      NULL|                          NULL|                        NULL|               Cash|                   N|                     NULL|             NULL|           NULL|             NULL|                 NULL|           NULL|\n",
      "|NULL|     NULL|    13000|      13000|        13000.0| 60 months|   14.47|     305.67|    C|       C2| Stationary Engineer| 10+ years|      MORTGAGE|     75000|       Not Verified|Dec-2018|    Current|         n|NULL|NULL|debt_consolidation|  Debt consolidation|   741xx|        OK|26.16|          0|        Feb-2001|             1|                  NULL|                  NULL|       9|      0|    15551|      58.2|       13|                  w| 12700.38|     12700.38|     595.66|         595.66|         299.62|       296.04|               0.0|       0.0|                    0.0|    Feb-2019|         305.67|    Mar-2019|          Feb-2019|                         0|                       NULL|          1|      Individual|            NULL|     NULL|                     NULL|             0|           0|     131400|          0|          5|          1|          4|                10|       35369|     70|          0|          0|     13287|      66|           26700|     2|          0|           1|                   4|      14600|         11149|   58.2|                     0.0|          0|             159.0|                 214|                   81|            10|       1|                  81|                    NULL|                    5|                          NULL|                    0|             3|              3|          3|        3|        8|            3|            4|                  3|       9|               0|           0|                 0|                 1|         100.0|            33.3|                   0|        0|         176598|            50920|         26700|                     50898|           NULL|                    NULL|                  NULL|            NULL|            NULL|              NULL|               NULL|                 NULL|                            NULL|                              NULL|                               NULL|            N|         NULL|           NULL|           NULL|         NULL|           NULL|               NULL|             NULL|                   NULL|           NULL|        NULL|                NULL|                                      NULL|                          NULL|                        NULL|               Cash|                   N|                     NULL|             NULL|           NULL|             NULL|                 NULL|           NULL|\n",
      "+----+---------+---------+-----------+---------------+----------+--------+-----------+-----+---------+--------------------+----------+--------------+----------+-------------------+--------+-----------+----------+----+----+------------------+--------------------+--------+----------+-----+-----------+----------------+--------------+----------------------+----------------------+--------+-------+---------+----------+---------+-------------------+---------+-------------+-----------+---------------+---------------+-------------+------------------+----------+-----------------------+------------+---------------+------------+------------------+--------------------------+---------------------------+-----------+----------------+----------------+---------+-------------------------+--------------+------------+-----------+-----------+-----------+-----------+-----------+------------------+------------+-------+-----------+-----------+----------+--------+----------------+------+-----------+------------+--------------------+-----------+--------------+-------+------------------------+-----------+------------------+--------------------+---------------------+--------------+--------+--------------------+------------------------+---------------------+------------------------------+---------------------+--------------+---------------+-----------+---------+---------+-------------+-------------+-------------------+--------+----------------+------------+------------------+------------------+--------------+----------------+--------------------+---------+---------------+-----------------+--------------+--------------------------+---------------+------------------------+----------------------+----------------+----------------+------------------+-------------------+---------------------+--------------------------------+----------------------------------+-----------------------------------+-------------+-------------+---------------+---------------+-------------+---------------+-------------------+-----------------+-----------------------+---------------+------------+--------------------+------------------------------------------+------------------------------+----------------------------+-------------------+--------------------+-------------------------+-----------------+---------------+-----------------+---------------------+---------------+\n",
      "only showing top 20 rows\n",
      "\n"
     ]
    }
   ],
   "source": [
    "df.show()"
   ]
  },
  {
   "cell_type": "markdown",
   "metadata": {},
   "source": [
    "# Dataset's basic infors"
   ]
  },
  {
   "cell_type": "code",
   "execution_count": 218,
   "metadata": {},
   "outputs": [
    {
     "name": "stdout",
     "output_type": "stream",
     "text": [
      "Number of rows: 2260668\n",
      "Number of columns: 145\n"
     ]
    }
   ],
   "source": [
    "num_rows = df.count()\n",
    "num_columns = len(df.columns)\n",
    "print(f\"Number of rows: {num_rows}\")\n",
    "print(f\"Number of columns: {num_columns}\")"
   ]
  },
  {
   "cell_type": "code",
   "execution_count": 219,
   "metadata": {},
   "outputs": [
    {
     "name": "stdout",
     "output_type": "stream",
     "text": [
      "['id', 'member_id', 'loan_amnt', 'funded_amnt', 'funded_amnt_inv', 'term', 'int_rate', 'installment', 'grade', 'sub_grade', 'emp_title', 'emp_length', 'home_ownership', 'annual_inc', 'verification_status', 'issue_d', 'loan_status', 'pymnt_plan', 'url', 'desc', 'purpose', 'title', 'zip_code', 'addr_state', 'dti', 'delinq_2yrs', 'earliest_cr_line', 'inq_last_6mths', 'mths_since_last_delinq', 'mths_since_last_record', 'open_acc', 'pub_rec', 'revol_bal', 'revol_util', 'total_acc', 'initial_list_status', 'out_prncp', 'out_prncp_inv', 'total_pymnt', 'total_pymnt_inv', 'total_rec_prncp', 'total_rec_int', 'total_rec_late_fee', 'recoveries', 'collection_recovery_fee', 'last_pymnt_d', 'last_pymnt_amnt', 'next_pymnt_d', 'last_credit_pull_d', 'collections_12_mths_ex_med', 'mths_since_last_major_derog', 'policy_code', 'application_type', 'annual_inc_joint', 'dti_joint', 'verification_status_joint', 'acc_now_delinq', 'tot_coll_amt', 'tot_cur_bal', 'open_acc_6m', 'open_act_il', 'open_il_12m', 'open_il_24m', 'mths_since_rcnt_il', 'total_bal_il', 'il_util', 'open_rv_12m', 'open_rv_24m', 'max_bal_bc', 'all_util', 'total_rev_hi_lim', 'inq_fi', 'total_cu_tl', 'inq_last_12m', 'acc_open_past_24mths', 'avg_cur_bal', 'bc_open_to_buy', 'bc_util', 'chargeoff_within_12_mths', 'delinq_amnt', 'mo_sin_old_il_acct', 'mo_sin_old_rev_tl_op', 'mo_sin_rcnt_rev_tl_op', 'mo_sin_rcnt_tl', 'mort_acc', 'mths_since_recent_bc', 'mths_since_recent_bc_dlq', 'mths_since_recent_inq', 'mths_since_recent_revol_delinq', 'num_accts_ever_120_pd', 'num_actv_bc_tl', 'num_actv_rev_tl', 'num_bc_sats', 'num_bc_tl', 'num_il_tl', 'num_op_rev_tl', 'num_rev_accts', 'num_rev_tl_bal_gt_0', 'num_sats', 'num_tl_120dpd_2m', 'num_tl_30dpd', 'num_tl_90g_dpd_24m', 'num_tl_op_past_12m', 'pct_tl_nvr_dlq', 'percent_bc_gt_75', 'pub_rec_bankruptcies', 'tax_liens', 'tot_hi_cred_lim', 'total_bal_ex_mort', 'total_bc_limit', 'total_il_high_credit_limit', 'revol_bal_joint', 'sec_app_earliest_cr_line', 'sec_app_inq_last_6mths', 'sec_app_mort_acc', 'sec_app_open_acc', 'sec_app_revol_util', 'sec_app_open_act_il', 'sec_app_num_rev_accts', 'sec_app_chargeoff_within_12_mths', 'sec_app_collections_12_mths_ex_med', 'sec_app_mths_since_last_major_derog', 'hardship_flag', 'hardship_type', 'hardship_reason', 'hardship_status', 'deferral_term', 'hardship_amount', 'hardship_start_date', 'hardship_end_date', 'payment_plan_start_date', 'hardship_length', 'hardship_dpd', 'hardship_loan_status', 'orig_projected_additional_accrued_interest', 'hardship_payoff_balance_amount', 'hardship_last_payment_amount', 'disbursement_method', 'debt_settlement_flag', 'debt_settlement_flag_date', 'settlement_status', 'settlement_date', 'settlement_amount', 'settlement_percentage', 'settlement_term']\n"
     ]
    }
   ],
   "source": [
    "print(df.columns)"
   ]
  },
  {
   "cell_type": "markdown",
   "metadata": {},
   "source": [
    "# Take useful sample with direct label"
   ]
  },
  {
   "cell_type": "code",
   "execution_count": 220,
   "metadata": {},
   "outputs": [
    {
     "name": "stderr",
     "output_type": "stream",
     "text": [
      "[Stage 1588:>                                                     (0 + 12) / 12]\r"
     ]
    },
    {
     "name": "stdout",
     "output_type": "stream",
     "text": [
      "+--------------------+\n",
      "|         loan_status|\n",
      "+--------------------+\n",
      "|          Fully Paid|\n",
      "|     In Grace Period|\n",
      "|         Charged Off|\n",
      "|  Late (31-120 days)|\n",
      "|             Current|\n",
      "|   Late (16-30 days)|\n",
      "|             Default|\n",
      "|            Oct-2015|\n",
      "|Does not meet the...|\n",
      "|Does not meet the...|\n",
      "+--------------------+\n",
      "\n"
     ]
    },
    {
     "name": "stderr",
     "output_type": "stream",
     "text": [
      "                                                                                \r"
     ]
    }
   ],
   "source": [
    "# check labels\n",
    "df.select('loan_status').distinct().show()"
   ]
  },
  {
   "cell_type": "code",
   "execution_count": 221,
   "metadata": {},
   "outputs": [],
   "source": [
    "# just take 3 labels: 'Fully Paid' is 1, 'Charged Off' and 'Default' are 0\n",
    "df_useful = df.filter(df.loan_status.isin(\"Fully Paid\", \"Charged Off\", \"Default\"))\n",
    "df_useful_label = df_useful.withColumn(\"loan_status_binary\", when(col(\"loan_status\") == \"Fully Paid\", 0).otherwise(1)).drop(\"loan_status\")"
   ]
  },
  {
   "cell_type": "code",
   "execution_count": 222,
   "metadata": {},
   "outputs": [
    {
     "name": "stderr",
     "output_type": "stream",
     "text": [
      "[Stage 1591:====>                                                 (1 + 11) / 12]\r"
     ]
    },
    {
     "name": "stdout",
     "output_type": "stream",
     "text": [
      "Number of rows: 1303637\n",
      "Number of columns: 145\n"
     ]
    },
    {
     "name": "stderr",
     "output_type": "stream",
     "text": [
      "                                                                                \r"
     ]
    }
   ],
   "source": [
    "new_num_rows = df_useful_label.count()\n",
    "new_num_columns = len(df_useful_label.columns)\n",
    "print(f\"Number of rows: {new_num_rows}\")\n",
    "print(f\"Number of columns: {new_num_columns}\")"
   ]
  },
  {
   "cell_type": "code",
   "execution_count": 223,
   "metadata": {},
   "outputs": [
    {
     "name": "stderr",
     "output_type": "stream",
     "text": [
      "[Stage 1594:>                                                     (0 + 12) / 12]\r"
     ]
    },
    {
     "name": "stdout",
     "output_type": "stream",
     "text": [
      "+------------------+\n",
      "|loan_status_binary|\n",
      "+------------------+\n",
      "|                 1|\n",
      "|                 0|\n",
      "+------------------+\n",
      "\n"
     ]
    },
    {
     "name": "stderr",
     "output_type": "stream",
     "text": [
      "                                                                                \r"
     ]
    }
   ],
   "source": [
    "# check labels\n",
    "df_useful_label.select('loan_status_binary').distinct().show()"
   ]
  },
  {
   "cell_type": "markdown",
   "metadata": {},
   "source": [
    "# Delete columns have more than 10000 null values"
   ]
  },
  {
   "cell_type": "code",
   "execution_count": 224,
   "metadata": {},
   "outputs": [
    {
     "name": "stderr",
     "output_type": "stream",
     "text": [
      "[Stage 1597:=========================================>             (9 + 3) / 12]\r"
     ]
    },
    {
     "name": "stdout",
     "output_type": "stream",
     "text": [
      "+-------+---------+---------+-----------+---------------+----+--------+-----------+-----+---------+---------+----------+--------------+----------+-------------------+-------+----------+-------+-------+-------+-----+--------+----------+---+-----------+----------------+--------------+----------------------+----------------------+--------+-------+---------+----------+---------+-------------------+---------+-------------+-----------+---------------+---------------+-------------+------------------+----------+-----------------------+------------+---------------+------------+------------------+--------------------------+---------------------------+-----------+----------------+----------------+---------+-------------------------+--------------+------------+-----------+-----------+-----------+-----------+-----------+------------------+------------+-------+-----------+-----------+----------+--------+----------------+------+-----------+------------+--------------------+-----------+--------------+-------+------------------------+-----------+------------------+--------------------+---------------------+--------------+--------+--------------------+------------------------+---------------------+------------------------------+---------------------+--------------+---------------+-----------+---------+---------+-------------+-------------+-------------------+--------+----------------+------------+------------------+------------------+--------------+----------------+--------------------+---------+---------------+-----------------+--------------+--------------------------+---------------+------------------------+----------------------+----------------+----------------+------------------+-------------------+---------------------+--------------------------------+----------------------------------+-----------------------------------+-------------+-------------+---------------+---------------+-------------+---------------+-------------------+-----------------+-----------------------+---------------+------------+--------------------+------------------------------------------+------------------------------+----------------------------+-------------------+--------------------+-------------------------+-----------------+---------------+-----------------+---------------------+---------------+------------------+\n",
      "|     id|member_id|loan_amnt|funded_amnt|funded_amnt_inv|term|int_rate|installment|grade|sub_grade|emp_title|emp_length|home_ownership|annual_inc|verification_status|issue_d|pymnt_plan|    url|   desc|purpose|title|zip_code|addr_state|dti|delinq_2yrs|earliest_cr_line|inq_last_6mths|mths_since_last_delinq|mths_since_last_record|open_acc|pub_rec|revol_bal|revol_util|total_acc|initial_list_status|out_prncp|out_prncp_inv|total_pymnt|total_pymnt_inv|total_rec_prncp|total_rec_int|total_rec_late_fee|recoveries|collection_recovery_fee|last_pymnt_d|last_pymnt_amnt|next_pymnt_d|last_credit_pull_d|collections_12_mths_ex_med|mths_since_last_major_derog|policy_code|application_type|annual_inc_joint|dti_joint|verification_status_joint|acc_now_delinq|tot_coll_amt|tot_cur_bal|open_acc_6m|open_act_il|open_il_12m|open_il_24m|mths_since_rcnt_il|total_bal_il|il_util|open_rv_12m|open_rv_24m|max_bal_bc|all_util|total_rev_hi_lim|inq_fi|total_cu_tl|inq_last_12m|acc_open_past_24mths|avg_cur_bal|bc_open_to_buy|bc_util|chargeoff_within_12_mths|delinq_amnt|mo_sin_old_il_acct|mo_sin_old_rev_tl_op|mo_sin_rcnt_rev_tl_op|mo_sin_rcnt_tl|mort_acc|mths_since_recent_bc|mths_since_recent_bc_dlq|mths_since_recent_inq|mths_since_recent_revol_delinq|num_accts_ever_120_pd|num_actv_bc_tl|num_actv_rev_tl|num_bc_sats|num_bc_tl|num_il_tl|num_op_rev_tl|num_rev_accts|num_rev_tl_bal_gt_0|num_sats|num_tl_120dpd_2m|num_tl_30dpd|num_tl_90g_dpd_24m|num_tl_op_past_12m|pct_tl_nvr_dlq|percent_bc_gt_75|pub_rec_bankruptcies|tax_liens|tot_hi_cred_lim|total_bal_ex_mort|total_bc_limit|total_il_high_credit_limit|revol_bal_joint|sec_app_earliest_cr_line|sec_app_inq_last_6mths|sec_app_mort_acc|sec_app_open_acc|sec_app_revol_util|sec_app_open_act_il|sec_app_num_rev_accts|sec_app_chargeoff_within_12_mths|sec_app_collections_12_mths_ex_med|sec_app_mths_since_last_major_derog|hardship_flag|hardship_type|hardship_reason|hardship_status|deferral_term|hardship_amount|hardship_start_date|hardship_end_date|payment_plan_start_date|hardship_length|hardship_dpd|hardship_loan_status|orig_projected_additional_accrued_interest|hardship_payoff_balance_amount|hardship_last_payment_amount|disbursement_method|debt_settlement_flag|debt_settlement_flag_date|settlement_status|settlement_date|settlement_amount|settlement_percentage|settlement_term|loan_status_binary|\n",
      "+-------+---------+---------+-----------+---------------+----+--------+-----------+-----+---------+---------+----------+--------------+----------+-------------------+-------+----------+-------+-------+-------+-----+--------+----------+---+-----------+----------------+--------------+----------------------+----------------------+--------+-------+---------+----------+---------+-------------------+---------+-------------+-----------+---------------+---------------+-------------+------------------+----------+-----------------------+------------+---------------+------------+------------------+--------------------------+---------------------------+-----------+----------------+----------------+---------+-------------------------+--------------+------------+-----------+-----------+-----------+-----------+-----------+------------------+------------+-------+-----------+-----------+----------+--------+----------------+------+-----------+------------+--------------------+-----------+--------------+-------+------------------------+-----------+------------------+--------------------+---------------------+--------------+--------+--------------------+------------------------+---------------------+------------------------------+---------------------+--------------+---------------+-----------+---------+---------+-------------+-------------+-------------------+--------+----------------+------------+------------------+------------------+--------------+----------------+--------------------+---------+---------------+-----------------+--------------+--------------------------+---------------+------------------------+----------------------+----------------+----------------+------------------+-------------------+---------------------+--------------------------------+----------------------------------+-----------------------------------+-------------+-------------+---------------+---------------+-------------+---------------+-------------------+-----------------+-----------------------+---------------+------------+--------------------+------------------------------------------+------------------------------+----------------------------+-------------------+--------------------+-------------------------+-----------------+---------------+-----------------+---------------------+---------------+------------------+\n",
      "|1303637|  1303637|        0|          0|              0|   0|       0|          0|    0|        0|    82558|         0|             0|         0|                  0|      0|         0|1303637|1180309|      0|15425|       2|         1|313|          1|               1|             2|                657689|               1081691|      72|     58|       48|       839|       17|                 14|       15|           21|         12|             10|              9|            3|                 3|         2|                      5|        2268|              3|     1303383|               106|                        99|                     961067|         72|              57|         1280210|  1280249|                  1280429|           143|       67413|      67439|     803982|     803996|     804018|     804027|            817033|      804035| 870919|     804050|     804044|    804048|  804106|           67524|804057|     804053|      804061|               47278|      67545|         60639|  61387|                     281|        174|            104205|               67454|                67474|         67493|   47260|               59725|                  994458|               169530|                        867772|                67516|         67518|          67525|      55839|    67526|    67521|        67520|        67526|              67525|   55839|          115570|       67527|             67525|             67525|         67681|           61048|                 911|      216|          67440|            47209|         47228|                     67493|        1287099|                 1287103|               1287098|         1287098|         1287106|           1287403|            1287111|              1287117|                         1287118|                           1287119|                            1297695|          219|      1298251|        1298259|        1298266|      1298280|        1298289|            1298292|          1298291|                1298290|        1298292|     1298297|             1298295|                                   1300202|                       1298301|                     1298301|                226|                 171|                  1271553|          1271568|        1271588|          1271609|              1271623|        1271627|                 0|\n",
      "+-------+---------+---------+-----------+---------------+----+--------+-----------+-----+---------+---------+----------+--------------+----------+-------------------+-------+----------+-------+-------+-------+-----+--------+----------+---+-----------+----------------+--------------+----------------------+----------------------+--------+-------+---------+----------+---------+-------------------+---------+-------------+-----------+---------------+---------------+-------------+------------------+----------+-----------------------+------------+---------------+------------+------------------+--------------------------+---------------------------+-----------+----------------+----------------+---------+-------------------------+--------------+------------+-----------+-----------+-----------+-----------+-----------+------------------+------------+-------+-----------+-----------+----------+--------+----------------+------+-----------+------------+--------------------+-----------+--------------+-------+------------------------+-----------+------------------+--------------------+---------------------+--------------+--------+--------------------+------------------------+---------------------+------------------------------+---------------------+--------------+---------------+-----------+---------+---------+-------------+-------------+-------------------+--------+----------------+------------+------------------+------------------+--------------+----------------+--------------------+---------+---------------+-----------------+--------------+--------------------------+---------------+------------------------+----------------------+----------------+----------------+------------------+-------------------+---------------------+--------------------------------+----------------------------------+-----------------------------------+-------------+-------------+---------------+---------------+-------------+---------------+-------------------+-----------------+-----------------------+---------------+------------+--------------------+------------------------------------------+------------------------------+----------------------------+-------------------+--------------------+-------------------------+-----------------+---------------+-----------------+---------------------+---------------+------------------+\n",
      "\n"
     ]
    },
    {
     "name": "stderr",
     "output_type": "stream",
     "text": [
      "                                                                                \r"
     ]
    }
   ],
   "source": [
    "# count the number of missing values in each column\n",
    "null_counts = df_useful_label.select([sum(col(c).isNull().cast(\"int\")).alias(c) for c in df_useful_label.columns])\n",
    "null_counts.show()"
   ]
  },
  {
   "cell_type": "code",
   "execution_count": 225,
   "metadata": {},
   "outputs": [
    {
     "name": "stderr",
     "output_type": "stream",
     "text": [
      "                                                                                \r"
     ]
    }
   ],
   "source": [
    "# convert the row to dictionary\n",
    "null_counts_row = null_counts.collect()[0].asDict()\n",
    "\n",
    "# find the list have number of null values greater than 10000, else fill with mode\n",
    "columns_to_drop = []\n",
    "columns_to_fill = []\n",
    "\n",
    "for k, v in null_counts_row.items():\n",
    "    if v > 10000:\n",
    "        columns_to_drop.append(k)\n",
    "    else:\n",
    "        columns_to_fill.append(k)\n",
    "\n",
    "# drop these columns\n",
    "df_cleaned = df_useful_label.drop(*columns_to_drop)\n",
    "\n",
    "# fill missing values with mode\n",
    "\n",
    "# Điền giá trị thiếu bằng giá trị trung bình tương ứng\n",
    "for column in columns_to_fill:\n",
    "    # Tính giá trị mode của cột\n",
    "    mode_value = df_cleaned.groupBy(column).count().orderBy('count', ascending=False).first()[0]\n",
    "    \n",
    "    # Thay thế null bằng giá trị mode\n",
    "    df_cleaned = df_cleaned.fillna({column: mode_value})"
   ]
  },
  {
   "cell_type": "code",
   "execution_count": 226,
   "metadata": {},
   "outputs": [
    {
     "data": {
      "text/plain": [
       "51"
      ]
     },
     "execution_count": 226,
     "metadata": {},
     "output_type": "execute_result"
    }
   ],
   "source": [
    "len(df_cleaned.columns)"
   ]
  },
  {
   "cell_type": "code",
   "execution_count": 227,
   "metadata": {},
   "outputs": [
    {
     "name": "stdout",
     "output_type": "stream",
     "text": [
      "root\n",
      " |-- loan_amnt: integer (nullable = false)\n",
      " |-- funded_amnt: integer (nullable = false)\n",
      " |-- funded_amnt_inv: double (nullable = false)\n",
      " |-- term: string (nullable = false)\n",
      " |-- int_rate: double (nullable = false)\n",
      " |-- installment: double (nullable = false)\n",
      " |-- grade: string (nullable = false)\n",
      " |-- sub_grade: string (nullable = false)\n",
      " |-- emp_length: string (nullable = false)\n",
      " |-- home_ownership: string (nullable = false)\n",
      " |-- annual_inc: string (nullable = false)\n",
      " |-- verification_status: string (nullable = false)\n",
      " |-- issue_d: string (nullable = false)\n",
      " |-- pymnt_plan: string (nullable = false)\n",
      " |-- purpose: string (nullable = false)\n",
      " |-- zip_code: string (nullable = false)\n",
      " |-- addr_state: string (nullable = false)\n",
      " |-- dti: string (nullable = false)\n",
      " |-- delinq_2yrs: string (nullable = false)\n",
      " |-- earliest_cr_line: string (nullable = false)\n",
      " |-- inq_last_6mths: string (nullable = false)\n",
      " |-- open_acc: string (nullable = false)\n",
      " |-- pub_rec: string (nullable = false)\n",
      " |-- revol_bal: string (nullable = false)\n",
      " |-- revol_util: string (nullable = false)\n",
      " |-- total_acc: string (nullable = false)\n",
      " |-- initial_list_status: string (nullable = false)\n",
      " |-- out_prncp: string (nullable = false)\n",
      " |-- out_prncp_inv: string (nullable = false)\n",
      " |-- total_pymnt: string (nullable = false)\n",
      " |-- total_pymnt_inv: string (nullable = false)\n",
      " |-- total_rec_prncp: string (nullable = false)\n",
      " |-- total_rec_int: string (nullable = false)\n",
      " |-- total_rec_late_fee: string (nullable = false)\n",
      " |-- recoveries: string (nullable = false)\n",
      " |-- collection_recovery_fee: string (nullable = false)\n",
      " |-- last_pymnt_d: string (nullable = false)\n",
      " |-- last_pymnt_amnt: string (nullable = false)\n",
      " |-- last_credit_pull_d: string (nullable = false)\n",
      " |-- collections_12_mths_ex_med: string (nullable = false)\n",
      " |-- policy_code: string (nullable = false)\n",
      " |-- application_type: string (nullable = false)\n",
      " |-- acc_now_delinq: string (nullable = false)\n",
      " |-- chargeoff_within_12_mths: double (nullable = false)\n",
      " |-- delinq_amnt: integer (nullable = false)\n",
      " |-- pub_rec_bankruptcies: integer (nullable = false)\n",
      " |-- tax_liens: integer (nullable = false)\n",
      " |-- hardship_flag: string (nullable = false)\n",
      " |-- disbursement_method: string (nullable = false)\n",
      " |-- debt_settlement_flag: string (nullable = false)\n",
      " |-- loan_status_binary: integer (nullable = false)\n",
      "\n"
     ]
    }
   ],
   "source": [
    "df_cleaned.printSchema()"
   ]
  },
  {
   "cell_type": "code",
   "execution_count": 228,
   "metadata": {},
   "outputs": [
    {
     "name": "stderr",
     "output_type": "stream",
     "text": [
      "[Stage 1756:=========================================>             (9 + 3) / 12]\r"
     ]
    },
    {
     "name": "stdout",
     "output_type": "stream",
     "text": [
      "+---------+-----------+---------------+----+--------+-----------+-----+---------+----------+--------------+----------+-------------------+-------+----------+-------+--------+----------+---+-----------+----------------+--------------+--------+-------+---------+----------+---------+-------------------+---------+-------------+-----------+---------------+---------------+-------------+------------------+----------+-----------------------+------------+---------------+------------------+--------------------------+-----------+----------------+--------------+------------------------+-----------+--------------------+---------+-------------+-------------------+--------------------+------------------+\n",
      "|loan_amnt|funded_amnt|funded_amnt_inv|term|int_rate|installment|grade|sub_grade|emp_length|home_ownership|annual_inc|verification_status|issue_d|pymnt_plan|purpose|zip_code|addr_state|dti|delinq_2yrs|earliest_cr_line|inq_last_6mths|open_acc|pub_rec|revol_bal|revol_util|total_acc|initial_list_status|out_prncp|out_prncp_inv|total_pymnt|total_pymnt_inv|total_rec_prncp|total_rec_int|total_rec_late_fee|recoveries|collection_recovery_fee|last_pymnt_d|last_pymnt_amnt|last_credit_pull_d|collections_12_mths_ex_med|policy_code|application_type|acc_now_delinq|chargeoff_within_12_mths|delinq_amnt|pub_rec_bankruptcies|tax_liens|hardship_flag|disbursement_method|debt_settlement_flag|loan_status_binary|\n",
      "+---------+-----------+---------------+----+--------+-----------+-----+---------+----------+--------------+----------+-------------------+-------+----------+-------+--------+----------+---+-----------+----------------+--------------+--------+-------+---------+----------+---------+-------------------+---------+-------------+-----------+---------------+---------------+-------------+------------------+----------+-----------------------+------------+---------------+------------------+--------------------------+-----------+----------------+--------------+------------------------+-----------+--------------------+---------+-------------+-------------------+--------------------+------------------+\n",
      "|        0|          0|              0|   0|       0|          0|    0|        0|         0|             0|         0|                  0|      0|         0|      0|       0|         0|  0|          0|               0|             0|       0|      0|        0|         0|        0|                  0|        0|            0|          0|              0|              0|            0|                 0|         0|                      0|           0|              0|                 0|                         0|          0|               0|             0|                       0|          0|                   0|        0|            0|                  0|                   0|                 0|\n",
      "+---------+-----------+---------------+----+--------+-----------+-----+---------+----------+--------------+----------+-------------------+-------+----------+-------+--------+----------+---+-----------+----------------+--------------+--------+-------+---------+----------+---------+-------------------+---------+-------------+-----------+---------------+---------------+-------------+------------------+----------+-----------------------+------------+---------------+------------------+--------------------------+-----------+----------------+--------------+------------------------+-----------+--------------------+---------+-------------+-------------------+--------------------+------------------+\n",
      "\n"
     ]
    },
    {
     "name": "stderr",
     "output_type": "stream",
     "text": [
      "                                                                                \r"
     ]
    }
   ],
   "source": [
    "# count the number of missing values in each column of new dataframe\n",
    "null_counts_cleaned = df_cleaned.select([sum(col(c).isNull().cast(\"int\")).alias(c) for c in df_cleaned.columns])\n",
    "null_counts_cleaned.show()"
   ]
  },
  {
   "cell_type": "code",
   "execution_count": 229,
   "metadata": {},
   "outputs": [
    {
     "name": "stdout",
     "output_type": "stream",
     "text": [
      "+---------+-----------+---------------+----------+--------+-----------+-----+---------+----------+--------------+----------+-------------------+--------+----------+------------------+--------+----------+-----+-----------+----------------+--------------+--------+-------+---------+----------+---------+-------------------+---------+-------------+----------------+---------------+---------------+-------------+------------------+----------+-----------------------+------------+---------------+------------------+--------------------------+-----------+----------------+--------------+------------------------+-----------+--------------------+---------+-------------+-------------------+--------------------+------------------+\n",
      "|loan_amnt|funded_amnt|funded_amnt_inv|      term|int_rate|installment|grade|sub_grade|emp_length|home_ownership|annual_inc|verification_status| issue_d|pymnt_plan|           purpose|zip_code|addr_state|  dti|delinq_2yrs|earliest_cr_line|inq_last_6mths|open_acc|pub_rec|revol_bal|revol_util|total_acc|initial_list_status|out_prncp|out_prncp_inv|     total_pymnt|total_pymnt_inv|total_rec_prncp|total_rec_int|total_rec_late_fee|recoveries|collection_recovery_fee|last_pymnt_d|last_pymnt_amnt|last_credit_pull_d|collections_12_mths_ex_med|policy_code|application_type|acc_now_delinq|chargeoff_within_12_mths|delinq_amnt|pub_rec_bankruptcies|tax_liens|hardship_flag|disbursement_method|debt_settlement_flag|loan_status_binary|\n",
      "+---------+-----------+---------------+----------+--------+-----------+-----+---------+----------+--------------+----------+-------------------+--------+----------+------------------+--------+----------+-----+-----------+----------------+--------------+--------+-------+---------+----------+---------+-------------------+---------+-------------+----------------+---------------+---------------+-------------+------------------+----------+-----------------------+------------+---------------+------------------+--------------------------+-----------+----------------+--------------+------------------------+-----------+--------------------+---------+-------------+-------------------+--------------------+------------------+\n",
      "|    30000|      30000|        30000.0| 36 months|   22.35|    1151.16|    D|       D5|   5 years|      MORTGAGE|    100000|    Source Verified|Dec-2018|         n|debt_consolidation|   917xx|        CA|30.46|          0|        Jan-2012|             0|      11|      1|    15603|      37.0|       19|                  w|     0.00|         0.00|      30026.4425|       30026.44|       30000.00|        26.44|               0.0|       0.0|                    0.0|    Jan-2019|       30082.32|          Jan-2019|                         0|          1|       Joint App|             0|                     0.0|          0|                   1|        0|            N|               Cash|                   N|                 0|\n",
      "|    40000|      40000|        40000.0| 60 months|   16.14|     975.71|    C|       C4|  < 1 year|      MORTGAGE|     45000|           Verified|Dec-2018|         n|       credit_card|   456xx|        OH|50.53|          0|        Jun-2009|             0|      18|      0|    34971|      64.5|       37|                  w|     0.00|         0.00| 40856.678960349|       40856.68|       40000.00|       856.68|               0.0|       0.0|                    0.0|    Feb-2019|       40910.48|          Feb-2019|                         0|          1|       Joint App|             0|                     0.0|          0|                   0|        0|            N|               Cash|                   N|                 0|\n",
      "|    20000|      20000|        20000.0| 36 months|    7.56|     622.68|    A|       A3| 10+ years|      MORTGAGE|    100000|       Not Verified|Dec-2018|         n|       credit_card|   982xx|        WA|18.92|          0|        Feb-1999|             0|       9|      0|    25416|      29.9|       19|                  w|     0.00|         0.00|     20215.79243|       20215.79|       20000.00|       215.79|               0.0|       0.0|                    0.0|    Feb-2019|       20228.39|          Feb-2019|                         0|          1|       Joint App|             0|                     0.0|          0|                   0|        0|            N|               Cash|                   N|                 0|\n",
      "|     4500|       4500|         4500.0| 36 months|   11.31|     147.99|    B|       B3| 10+ years|          RENT|     38500|       Not Verified|Dec-2018|         n|       credit_card|   786xx|        TX| 4.64|          0|        Dec-2003|             0|      12|      0|     4472|      15.3|       25|                  w|     0.00|         0.00| 4549.2171485504|        4549.22|        4500.00|        49.22|               0.0|       0.0|                    0.0|    Feb-2019|        4553.46|          Feb-2019|                         0|          1|      Individual|             0|                     0.0|          0|                   0|        0|            N|               Cash|                   N|                 0|\n",
      "|     8425|       8425|         8425.0| 36 months|   27.27|     345.18|    E|       E5|   3 years|      MORTGAGE|    450000|           Verified|Dec-2018|         n|       credit_card|   020xx|        MA|12.37|          0|        Oct-1997|             0|      21|      0|    36812|      65.7|       37|                  w|     0.00|         0.00| 8735.1489749534|        8735.15|        8425.00|       310.15|               0.0|       0.0|                    0.0|    Feb-2019|         8754.3|          Feb-2019|                         0|          1|       Joint App|             0|                     0.0|          0|                   0|        0|            N|               Cash|                   N|                 0|\n",
      "|    20000|      20000|        20000.0| 60 months|   17.97|     507.55|    D|       D1|   4 years|          RENT|     57000|       Not Verified|Dec-2018|         n|debt_consolidation|   981xx|        WA|22.18|          0|        Apr-1995|             0|      10|      0|    33356|      45.9|       16|                  w|     0.00|         0.00|20013.5773333332|       20013.58|       20000.00|        13.58|               0.0|       0.0|                    0.0|    Jan-2019|       20043.53|          Jan-2019|                         0|          1|      Individual|             0|                     0.0|          0|                   0|        0|            N|               Cash|                   N|                 0|\n",
      "|     6600|       6600|         6325.0| 36 months|   11.31|     217.05|    B|       B3| 10+ years|          RENT|     45000|       Not Verified|Dec-2018|         n|       credit_card|   750xx|        TX|16.21|          0|        Apr-2009|             0|       6|      0|     6167|      58.2|       13|                  f|     0.00|         0.00| 6622.8090000603|        6346.86|        6600.00|        22.81|               0.0|       0.0|                    0.0|    Jan-2019|        6629.03|          Feb-2019|                         0|          1|      Individual|             0|                     0.0|          0|                   0|        0|            N|               Cash|                   N|                 0|\n",
      "|     2500|       2500|         2475.0| 36 months|   13.56|      84.92|    C|       C1|   5 years|          RENT|     42000|       Not Verified|Dec-2018|         n|             other|   194xx|        PA|15.09|          0|        Mar-2004|             0|       3|      0|     3319|      31.6|        6|                  f|     0.00|         0.00|  2501.285666669|        2476.27|        2500.00|         1.29|               0.0|       0.0|                    0.0|    Jan-2019|        2504.11|          Jan-2019|                         0|          1|      Individual|             0|                     0.0|          0|                   0|        0|            N|               Cash|                   N|                 0|\n",
      "|     4000|       4000|         4000.0| 36 months|   17.97|     144.55|    D|       D1|   5 years|      MORTGAGE|     60000|    Source Verified|Dec-2018|         n|             house|   760xx|        TX| 19.1|          0|        Jun-2007|             1|      11|      0|      382|       7.3|       18|                  w|     0.00|         0.00| 4049.9166666676|        4049.92|        4000.00|        49.92|               0.0|       0.0|                    0.0|    Feb-2019|          55.91|          Jan-2019|                         0|          1|      Individual|             0|                     0.0|          0|                   0|        0|            N|               Cash|                   N|                 0|\n",
      "|     2700|       2700|         2675.0| 36 months|    8.19|      84.85|    A|       A4|   4 years|           OWN|     24000|       Not Verified|Dec-2018|         n|       credit_card|   481xx|        MI|24.95|          0|        Oct-2002|             0|      21|      1|     2696|      36.4|       28|                  f|     0.00|         0.00| 2700.8381300019|        2675.83|        2700.00|         0.84|               0.0|       0.0|                    0.0|    Jan-2019|        2702.68|          Feb-2019|                         0|          1|      Individual|             0|                     0.0|          0|                   1|        0|            N|               Cash|                   N|                 0|\n",
      "|     1000|       1000|         1000.0| 36 months|    23.4|      38.92|    E|       E1|   3 years|          RENT|     60000|    Source Verified|Dec-2018|         n|debt_consolidation|   435xx|        OH|20.78|          0|        Sep-2007|             0|       4|      0|    13326|      72.8|       38|                  f|     0.00|         0.00|     1022.649016|        1022.65|        1000.00|        22.65|               0.0|       0.0|                    0.0|    Feb-2019|         1024.6|          Feb-2019|                         0|          1|      Individual|             0|                     0.0|          0|                   0|        0|            N|               Cash|                   N|                 0|\n",
      "|    15000|      15000|        15000.0| 36 months|    7.56|     467.01|    A|       A3| 10+ years|      MORTGAGE|    200000|       Not Verified|Dec-2018|         n|             house|   836xx|        ID| 2.62|          0|        Feb-2006|             0|       7|      0|    19386|      39.2|       45|                  w|     0.00|         0.00|         15063.0|       15063.00|       15000.00|        63.00|               0.0|       0.0|                    0.0|    Jan-2019|       15072.45|          Jan-2019|                         0|          1|      Individual|             0|                     0.0|          0|                   0|        0|            N|               Cash|                   N|                 0|\n",
      "|     8000|       8000|         8000.0| 36 months|    7.56|     249.08|    A|       A3| 10+ years|      MORTGAGE|    250000|       Not Verified|Dec-2018|         n|             other|   920xx|        CA| 20.1|          0|        Jan-1987|             0|      17|      0|   133414|      61.2|       29|                  w|     0.00|         0.00|     8053.551386|        8053.55|        8000.00|        53.55|               0.0|       0.0|                    0.0|    Feb-2019|        8058.59|          Feb-2019|                         0|          1|      Individual|             0|                     0.0|          0|                   0|        0|            N|               Cash|                   N|                 0|\n",
      "|     5000|       5000|         5000.0| 36 months|    7.56|     155.67|    A|       A3|   5 years|      MORTGAGE|     98000|       Not Verified|Dec-2018|         n|       credit_card|   775xx|        TX|14.78|          0|        Mar-2008|             0|       6|      0|    10190|      55.1|       13|                  w|     0.00|         0.00|         5013.65|        5013.65|        5000.00|        13.65|               0.0|       0.0|                    0.0|    Jan-2019|         5016.8|          Feb-2019|                         0|          1|      Individual|             0|                     0.0|          0|                   0|        0|            N|               Cash|                   N|                 0|\n",
      "|    12950|      12950|        12950.0| 36 months|    7.56|     403.19|    A|       A3| 10+ years|      MORTGAGE|     55000|    Source Verified|Dec-2018|         n|debt_consolidation|   850xx|        AZ|19.88|          0|        Dec-2005|             1|      15|      0|     2160|       5.0|       24|                  w|     0.00|         0.00|      13020.7055|       13020.71|       12950.00|        70.71|               0.0|       0.0|                    0.0|    Feb-2019|       13028.87|          Jan-2019|                         0|          1|      Individual|             0|                     0.0|          0|                   0|        0|            N|               Cash|                   N|                 0|\n",
      "|    10450|      10450|        10450.0| 60 months|   12.98|     237.67|    B|       B5| 10+ years|      MORTGAGE|     58000|       Not Verified|Dec-2018|         n|       credit_card|   145xx|        NY|21.17|          0|        May-2003|             1|      20|      0|     8956|      18.3|       40|                  w|     0.00|         0.00|10573.6669265171|       10573.67|       10450.00|       123.67|               0.0|       0.0|                    0.0|    Jan-2019|       10584.97|          Feb-2019|                         0|          1|      Individual|             0|                     0.0|          0|                   0|        0|            N|               Cash|                   N|                 0|\n",
      "|    20000|      20000|        20000.0| 60 months|   26.31|     602.49|    E|       E4|   4 years|      MORTGAGE|     58000|       Not Verified|Dec-2018|         n|       credit_card|   712xx|        LA|22.66|          0|        Jun-2005|             0|       5|      0|    11580|      84.5|       19|                  w|     0.00|         0.00|20306.9500000008|       20306.95|       20000.00|       306.95|               0.0|       0.0|                    0.0|    Jan-2019|        20350.8|          Jan-2019|                         0|          1|       Joint App|             0|                     0.0|          0|                   0|        0|            N|               Cash|                   N|                 0|\n",
      "|    10000|      10000|        10000.0| 60 months|   12.98|     227.43|    B|       B5|    1 year|      MORTGAGE|     60000|       Not Verified|Dec-2018|         n|               car|   028xx|        RI|12.25|          1|        Aug-1995|             1|      23|      0|    15927|      21.8|       40|                  w|     0.00|         0.00|10072.1077777788|       10072.11|       10000.00|        72.11|               0.0|       0.0|                    0.0|    Jan-2019|       10082.93|          Feb-2019|                         0|          1|      Individual|             0|                     0.0|          0|                   0|        0|            N|               Cash|                   N|                 0|\n",
      "|    29050|      29050|        29050.0| 36 months|   10.33|     941.87|    B|       B1|  < 1 year|      MORTGAGE|     68000|    Source Verified|Dec-2018|         n|  home_improvement|   605xx|        IL|23.65|          0|        Jan-2009|             0|      17|      0|     2252|       3.1|       35|                  w|     0.00|         0.00| 29275.062083333|       29275.06|       29050.00|       225.06|               0.0|       0.0|                    0.0|    Feb-2019|       29300.07|          Jan-2019|                         0|          1|      Individual|             0|                     0.0|          0|                   0|        0|            N|          DirectPay|                   N|                 0|\n",
      "|     1000|       1000|         1000.0| 36 months|   13.56|      33.97|    C|       C1|    1 year|          RENT|     42140|    Source Verified|Dec-2018|         n|            moving|   370xx|        TN|24.18|          0|        Mar-2003|             2|       7|      0|      398|       5.8|       14|                  f|     0.00|         0.00| 1007.5333333357|        1007.53|        1000.00|         7.53|               0.0|       0.0|                    0.0|    Jan-2019|        1008.66|          Feb-2019|                         0|          1|      Individual|             0|                     0.0|          0|                   0|        0|            N|               Cash|                   N|                 0|\n",
      "+---------+-----------+---------------+----------+--------+-----------+-----+---------+----------+--------------+----------+-------------------+--------+----------+------------------+--------+----------+-----+-----------+----------------+--------------+--------+-------+---------+----------+---------+-------------------+---------+-------------+----------------+---------------+---------------+-------------+------------------+----------+-----------------------+------------+---------------+------------------+--------------------------+-----------+----------------+--------------+------------------------+-----------+--------------------+---------+-------------+-------------------+--------------------+------------------+\n",
      "only showing top 20 rows\n",
      "\n"
     ]
    }
   ],
   "source": [
    "df_cleaned.show()"
   ]
  },
  {
   "cell_type": "markdown",
   "metadata": {},
   "source": [
    "# Xóa cột grade, zip_code"
   ]
  },
  {
   "cell_type": "markdown",
   "metadata": {},
   "source": [
    "Thông tin cột grade được biểu diễn thông qua cột sub_grade\n",
    "\n",
    "Cột zip_code là ID, không chứa thông tin quan trọng"
   ]
  },
  {
   "cell_type": "code",
   "execution_count": 230,
   "metadata": {},
   "outputs": [],
   "source": [
    "df_cleaned = df_cleaned.drop('grade', 'zip_code')\n"
   ]
  },
  {
   "cell_type": "code",
   "execution_count": 231,
   "metadata": {},
   "outputs": [
    {
     "data": {
      "text/plain": [
       "49"
      ]
     },
     "execution_count": 231,
     "metadata": {},
     "output_type": "execute_result"
    }
   ],
   "source": [
    "len(df_cleaned.columns)"
   ]
  },
  {
   "cell_type": "markdown",
   "metadata": {},
   "source": [
    "# Tách cột tháng-năm"
   ]
  },
  {
   "cell_type": "code",
   "execution_count": 232,
   "metadata": {},
   "outputs": [],
   "source": [
    "time_columns = ['issue_d', 'earliest_cr_line', 'last_pymnt_d', 'last_credit_pull_d']\n",
    "for column in time_columns:\n",
    "    df_cleaned = df_cleaned.withColumn(\"month_\"+ column, split(col(column), \"-\").getItem(0))\n",
    "    df_cleaned = df_cleaned.withColumn(\"year_\"+column, split(col(column), \"-\").getItem(1))\n",
    "    df_cleaned = df_cleaned.drop(column)"
   ]
  },
  {
   "cell_type": "code",
   "execution_count": 233,
   "metadata": {},
   "outputs": [
    {
     "name": "stdout",
     "output_type": "stream",
     "text": [
      "+---------+-----------+---------------+----------+--------+-----------+---------+----------+--------------+----------+-------------------+----------+------------------+----------+-----+-----------+--------------+--------+-------+---------+----------+---------+-------------------+---------+-------------+----------------+---------------+---------------+-------------+------------------+----------+-----------------------+---------------+--------------------------+-----------+----------------+--------------+------------------------+-----------+--------------------+---------+-------------+-------------------+--------------------+------------------+-------------+------------+----------------------+---------------------+------------------+-----------------+------------------------+-----------------------+\n",
      "|loan_amnt|funded_amnt|funded_amnt_inv|      term|int_rate|installment|sub_grade|emp_length|home_ownership|annual_inc|verification_status|pymnt_plan|           purpose|addr_state|  dti|delinq_2yrs|inq_last_6mths|open_acc|pub_rec|revol_bal|revol_util|total_acc|initial_list_status|out_prncp|out_prncp_inv|     total_pymnt|total_pymnt_inv|total_rec_prncp|total_rec_int|total_rec_late_fee|recoveries|collection_recovery_fee|last_pymnt_amnt|collections_12_mths_ex_med|policy_code|application_type|acc_now_delinq|chargeoff_within_12_mths|delinq_amnt|pub_rec_bankruptcies|tax_liens|hardship_flag|disbursement_method|debt_settlement_flag|loan_status_binary|month_issue_d|year_issue_d|month_earliest_cr_line|year_earliest_cr_line|month_last_pymnt_d|year_last_pymnt_d|month_last_credit_pull_d|year_last_credit_pull_d|\n",
      "+---------+-----------+---------------+----------+--------+-----------+---------+----------+--------------+----------+-------------------+----------+------------------+----------+-----+-----------+--------------+--------+-------+---------+----------+---------+-------------------+---------+-------------+----------------+---------------+---------------+-------------+------------------+----------+-----------------------+---------------+--------------------------+-----------+----------------+--------------+------------------------+-----------+--------------------+---------+-------------+-------------------+--------------------+------------------+-------------+------------+----------------------+---------------------+------------------+-----------------+------------------------+-----------------------+\n",
      "|    30000|      30000|        30000.0| 36 months|   22.35|    1151.16|       D5|   5 years|      MORTGAGE|    100000|    Source Verified|         n|debt_consolidation|        CA|30.46|          0|             0|      11|      1|    15603|      37.0|       19|                  w|     0.00|         0.00|      30026.4425|       30026.44|       30000.00|        26.44|               0.0|       0.0|                    0.0|       30082.32|                         0|          1|       Joint App|             0|                     0.0|          0|                   1|        0|            N|               Cash|                   N|                 0|          Dec|        2018|                   Jan|                 2012|               Jan|             2019|                     Jan|                   2019|\n",
      "|    40000|      40000|        40000.0| 60 months|   16.14|     975.71|       C4|  < 1 year|      MORTGAGE|     45000|           Verified|         n|       credit_card|        OH|50.53|          0|             0|      18|      0|    34971|      64.5|       37|                  w|     0.00|         0.00| 40856.678960349|       40856.68|       40000.00|       856.68|               0.0|       0.0|                    0.0|       40910.48|                         0|          1|       Joint App|             0|                     0.0|          0|                   0|        0|            N|               Cash|                   N|                 0|          Dec|        2018|                   Jun|                 2009|               Feb|             2019|                     Feb|                   2019|\n",
      "|    20000|      20000|        20000.0| 36 months|    7.56|     622.68|       A3| 10+ years|      MORTGAGE|    100000|       Not Verified|         n|       credit_card|        WA|18.92|          0|             0|       9|      0|    25416|      29.9|       19|                  w|     0.00|         0.00|     20215.79243|       20215.79|       20000.00|       215.79|               0.0|       0.0|                    0.0|       20228.39|                         0|          1|       Joint App|             0|                     0.0|          0|                   0|        0|            N|               Cash|                   N|                 0|          Dec|        2018|                   Feb|                 1999|               Feb|             2019|                     Feb|                   2019|\n",
      "|     4500|       4500|         4500.0| 36 months|   11.31|     147.99|       B3| 10+ years|          RENT|     38500|       Not Verified|         n|       credit_card|        TX| 4.64|          0|             0|      12|      0|     4472|      15.3|       25|                  w|     0.00|         0.00| 4549.2171485504|        4549.22|        4500.00|        49.22|               0.0|       0.0|                    0.0|        4553.46|                         0|          1|      Individual|             0|                     0.0|          0|                   0|        0|            N|               Cash|                   N|                 0|          Dec|        2018|                   Dec|                 2003|               Feb|             2019|                     Feb|                   2019|\n",
      "|     8425|       8425|         8425.0| 36 months|   27.27|     345.18|       E5|   3 years|      MORTGAGE|    450000|           Verified|         n|       credit_card|        MA|12.37|          0|             0|      21|      0|    36812|      65.7|       37|                  w|     0.00|         0.00| 8735.1489749534|        8735.15|        8425.00|       310.15|               0.0|       0.0|                    0.0|         8754.3|                         0|          1|       Joint App|             0|                     0.0|          0|                   0|        0|            N|               Cash|                   N|                 0|          Dec|        2018|                   Oct|                 1997|               Feb|             2019|                     Feb|                   2019|\n",
      "|    20000|      20000|        20000.0| 60 months|   17.97|     507.55|       D1|   4 years|          RENT|     57000|       Not Verified|         n|debt_consolidation|        WA|22.18|          0|             0|      10|      0|    33356|      45.9|       16|                  w|     0.00|         0.00|20013.5773333332|       20013.58|       20000.00|        13.58|               0.0|       0.0|                    0.0|       20043.53|                         0|          1|      Individual|             0|                     0.0|          0|                   0|        0|            N|               Cash|                   N|                 0|          Dec|        2018|                   Apr|                 1995|               Jan|             2019|                     Jan|                   2019|\n",
      "|     6600|       6600|         6325.0| 36 months|   11.31|     217.05|       B3| 10+ years|          RENT|     45000|       Not Verified|         n|       credit_card|        TX|16.21|          0|             0|       6|      0|     6167|      58.2|       13|                  f|     0.00|         0.00| 6622.8090000603|        6346.86|        6600.00|        22.81|               0.0|       0.0|                    0.0|        6629.03|                         0|          1|      Individual|             0|                     0.0|          0|                   0|        0|            N|               Cash|                   N|                 0|          Dec|        2018|                   Apr|                 2009|               Jan|             2019|                     Feb|                   2019|\n",
      "|     2500|       2500|         2475.0| 36 months|   13.56|      84.92|       C1|   5 years|          RENT|     42000|       Not Verified|         n|             other|        PA|15.09|          0|             0|       3|      0|     3319|      31.6|        6|                  f|     0.00|         0.00|  2501.285666669|        2476.27|        2500.00|         1.29|               0.0|       0.0|                    0.0|        2504.11|                         0|          1|      Individual|             0|                     0.0|          0|                   0|        0|            N|               Cash|                   N|                 0|          Dec|        2018|                   Mar|                 2004|               Jan|             2019|                     Jan|                   2019|\n",
      "|     4000|       4000|         4000.0| 36 months|   17.97|     144.55|       D1|   5 years|      MORTGAGE|     60000|    Source Verified|         n|             house|        TX| 19.1|          0|             1|      11|      0|      382|       7.3|       18|                  w|     0.00|         0.00| 4049.9166666676|        4049.92|        4000.00|        49.92|               0.0|       0.0|                    0.0|          55.91|                         0|          1|      Individual|             0|                     0.0|          0|                   0|        0|            N|               Cash|                   N|                 0|          Dec|        2018|                   Jun|                 2007|               Feb|             2019|                     Jan|                   2019|\n",
      "|     2700|       2700|         2675.0| 36 months|    8.19|      84.85|       A4|   4 years|           OWN|     24000|       Not Verified|         n|       credit_card|        MI|24.95|          0|             0|      21|      1|     2696|      36.4|       28|                  f|     0.00|         0.00| 2700.8381300019|        2675.83|        2700.00|         0.84|               0.0|       0.0|                    0.0|        2702.68|                         0|          1|      Individual|             0|                     0.0|          0|                   1|        0|            N|               Cash|                   N|                 0|          Dec|        2018|                   Oct|                 2002|               Jan|             2019|                     Feb|                   2019|\n",
      "|     1000|       1000|         1000.0| 36 months|    23.4|      38.92|       E1|   3 years|          RENT|     60000|    Source Verified|         n|debt_consolidation|        OH|20.78|          0|             0|       4|      0|    13326|      72.8|       38|                  f|     0.00|         0.00|     1022.649016|        1022.65|        1000.00|        22.65|               0.0|       0.0|                    0.0|         1024.6|                         0|          1|      Individual|             0|                     0.0|          0|                   0|        0|            N|               Cash|                   N|                 0|          Dec|        2018|                   Sep|                 2007|               Feb|             2019|                     Feb|                   2019|\n",
      "|    15000|      15000|        15000.0| 36 months|    7.56|     467.01|       A3| 10+ years|      MORTGAGE|    200000|       Not Verified|         n|             house|        ID| 2.62|          0|             0|       7|      0|    19386|      39.2|       45|                  w|     0.00|         0.00|         15063.0|       15063.00|       15000.00|        63.00|               0.0|       0.0|                    0.0|       15072.45|                         0|          1|      Individual|             0|                     0.0|          0|                   0|        0|            N|               Cash|                   N|                 0|          Dec|        2018|                   Feb|                 2006|               Jan|             2019|                     Jan|                   2019|\n",
      "|     8000|       8000|         8000.0| 36 months|    7.56|     249.08|       A3| 10+ years|      MORTGAGE|    250000|       Not Verified|         n|             other|        CA| 20.1|          0|             0|      17|      0|   133414|      61.2|       29|                  w|     0.00|         0.00|     8053.551386|        8053.55|        8000.00|        53.55|               0.0|       0.0|                    0.0|        8058.59|                         0|          1|      Individual|             0|                     0.0|          0|                   0|        0|            N|               Cash|                   N|                 0|          Dec|        2018|                   Jan|                 1987|               Feb|             2019|                     Feb|                   2019|\n",
      "|     5000|       5000|         5000.0| 36 months|    7.56|     155.67|       A3|   5 years|      MORTGAGE|     98000|       Not Verified|         n|       credit_card|        TX|14.78|          0|             0|       6|      0|    10190|      55.1|       13|                  w|     0.00|         0.00|         5013.65|        5013.65|        5000.00|        13.65|               0.0|       0.0|                    0.0|         5016.8|                         0|          1|      Individual|             0|                     0.0|          0|                   0|        0|            N|               Cash|                   N|                 0|          Dec|        2018|                   Mar|                 2008|               Jan|             2019|                     Feb|                   2019|\n",
      "|    12950|      12950|        12950.0| 36 months|    7.56|     403.19|       A3| 10+ years|      MORTGAGE|     55000|    Source Verified|         n|debt_consolidation|        AZ|19.88|          0|             1|      15|      0|     2160|       5.0|       24|                  w|     0.00|         0.00|      13020.7055|       13020.71|       12950.00|        70.71|               0.0|       0.0|                    0.0|       13028.87|                         0|          1|      Individual|             0|                     0.0|          0|                   0|        0|            N|               Cash|                   N|                 0|          Dec|        2018|                   Dec|                 2005|               Feb|             2019|                     Jan|                   2019|\n",
      "|    10450|      10450|        10450.0| 60 months|   12.98|     237.67|       B5| 10+ years|      MORTGAGE|     58000|       Not Verified|         n|       credit_card|        NY|21.17|          0|             1|      20|      0|     8956|      18.3|       40|                  w|     0.00|         0.00|10573.6669265171|       10573.67|       10450.00|       123.67|               0.0|       0.0|                    0.0|       10584.97|                         0|          1|      Individual|             0|                     0.0|          0|                   0|        0|            N|               Cash|                   N|                 0|          Dec|        2018|                   May|                 2003|               Jan|             2019|                     Feb|                   2019|\n",
      "|    20000|      20000|        20000.0| 60 months|   26.31|     602.49|       E4|   4 years|      MORTGAGE|     58000|       Not Verified|         n|       credit_card|        LA|22.66|          0|             0|       5|      0|    11580|      84.5|       19|                  w|     0.00|         0.00|20306.9500000008|       20306.95|       20000.00|       306.95|               0.0|       0.0|                    0.0|        20350.8|                         0|          1|       Joint App|             0|                     0.0|          0|                   0|        0|            N|               Cash|                   N|                 0|          Dec|        2018|                   Jun|                 2005|               Jan|             2019|                     Jan|                   2019|\n",
      "|    10000|      10000|        10000.0| 60 months|   12.98|     227.43|       B5|    1 year|      MORTGAGE|     60000|       Not Verified|         n|               car|        RI|12.25|          1|             1|      23|      0|    15927|      21.8|       40|                  w|     0.00|         0.00|10072.1077777788|       10072.11|       10000.00|        72.11|               0.0|       0.0|                    0.0|       10082.93|                         0|          1|      Individual|             0|                     0.0|          0|                   0|        0|            N|               Cash|                   N|                 0|          Dec|        2018|                   Aug|                 1995|               Jan|             2019|                     Feb|                   2019|\n",
      "|    29050|      29050|        29050.0| 36 months|   10.33|     941.87|       B1|  < 1 year|      MORTGAGE|     68000|    Source Verified|         n|  home_improvement|        IL|23.65|          0|             0|      17|      0|     2252|       3.1|       35|                  w|     0.00|         0.00| 29275.062083333|       29275.06|       29050.00|       225.06|               0.0|       0.0|                    0.0|       29300.07|                         0|          1|      Individual|             0|                     0.0|          0|                   0|        0|            N|          DirectPay|                   N|                 0|          Dec|        2018|                   Jan|                 2009|               Feb|             2019|                     Jan|                   2019|\n",
      "|     1000|       1000|         1000.0| 36 months|   13.56|      33.97|       C1|    1 year|          RENT|     42140|    Source Verified|         n|            moving|        TN|24.18|          0|             2|       7|      0|      398|       5.8|       14|                  f|     0.00|         0.00| 1007.5333333357|        1007.53|        1000.00|         7.53|               0.0|       0.0|                    0.0|        1008.66|                         0|          1|      Individual|             0|                     0.0|          0|                   0|        0|            N|               Cash|                   N|                 0|          Dec|        2018|                   Mar|                 2003|               Jan|             2019|                     Feb|                   2019|\n",
      "+---------+-----------+---------------+----------+--------+-----------+---------+----------+--------------+----------+-------------------+----------+------------------+----------+-----+-----------+--------------+--------+-------+---------+----------+---------+-------------------+---------+-------------+----------------+---------------+---------------+-------------+------------------+----------+-----------------------+---------------+--------------------------+-----------+----------------+--------------+------------------------+-----------+--------------------+---------+-------------+-------------------+--------------------+------------------+-------------+------------+----------------------+---------------------+------------------+-----------------+------------------------+-----------------------+\n",
      "only showing top 20 rows\n",
      "\n"
     ]
    }
   ],
   "source": [
    "df_cleaned.show()"
   ]
  },
  {
   "cell_type": "markdown",
   "metadata": {},
   "source": [
    "# LabelEncoder "
   ]
  },
  {
   "cell_type": "code",
   "execution_count": 234,
   "metadata": {},
   "outputs": [
    {
     "data": {
      "text/plain": [
       "17"
      ]
     },
     "execution_count": 234,
     "metadata": {},
     "output_type": "execute_result"
    }
   ],
   "source": [
    "# list of columns need to encode\n",
    "text_columns = ['term','sub_grade','emp_length', 'home_ownership', 'verification_status', \n",
    "                'pymnt_plan', 'purpose', 'addr_state', 'initial_list_status', \n",
    "                'application_type', 'hardship_flag', 'disbursement_method', 'debt_settlement_flag',\n",
    "                'month_issue_d', 'month_earliest_cr_line', 'month_last_pymnt_d', 'month_last_credit_pull_d']\n",
    "len(text_columns)"
   ]
  },
  {
   "cell_type": "code",
   "execution_count": 235,
   "metadata": {},
   "outputs": [
    {
     "name": "stderr",
     "output_type": "stream",
     "text": [
      "                                                                                \r"
     ]
    }
   ],
   "source": [
    "for column in text_columns:\n",
    "    indexer = StringIndexer(inputCol=column, outputCol=f\"{column}_index\")\n",
    "    df_cleaned = indexer.fit(df_cleaned).transform(df_cleaned)\n",
    "    df_cleaned = df_cleaned.drop(column)"
   ]
  },
  {
   "cell_type": "code",
   "execution_count": 236,
   "metadata": {},
   "outputs": [
    {
     "name": "stdout",
     "output_type": "stream",
     "text": [
      "root\n",
      " |-- loan_amnt: integer (nullable = false)\n",
      " |-- funded_amnt: integer (nullable = false)\n",
      " |-- funded_amnt_inv: double (nullable = false)\n",
      " |-- int_rate: double (nullable = false)\n",
      " |-- installment: double (nullable = false)\n",
      " |-- annual_inc: string (nullable = false)\n",
      " |-- dti: string (nullable = false)\n",
      " |-- delinq_2yrs: string (nullable = false)\n",
      " |-- inq_last_6mths: string (nullable = false)\n",
      " |-- open_acc: string (nullable = false)\n",
      " |-- pub_rec: string (nullable = false)\n",
      " |-- revol_bal: string (nullable = false)\n",
      " |-- revol_util: string (nullable = false)\n",
      " |-- total_acc: string (nullable = false)\n",
      " |-- out_prncp: string (nullable = false)\n",
      " |-- out_prncp_inv: string (nullable = false)\n",
      " |-- total_pymnt: string (nullable = false)\n",
      " |-- total_pymnt_inv: string (nullable = false)\n",
      " |-- total_rec_prncp: string (nullable = false)\n",
      " |-- total_rec_int: string (nullable = false)\n",
      " |-- total_rec_late_fee: string (nullable = false)\n",
      " |-- recoveries: string (nullable = false)\n",
      " |-- collection_recovery_fee: string (nullable = false)\n",
      " |-- last_pymnt_amnt: string (nullable = false)\n",
      " |-- collections_12_mths_ex_med: string (nullable = false)\n",
      " |-- policy_code: string (nullable = false)\n",
      " |-- acc_now_delinq: string (nullable = false)\n",
      " |-- chargeoff_within_12_mths: double (nullable = false)\n",
      " |-- delinq_amnt: integer (nullable = false)\n",
      " |-- pub_rec_bankruptcies: integer (nullable = false)\n",
      " |-- tax_liens: integer (nullable = false)\n",
      " |-- loan_status_binary: integer (nullable = false)\n",
      " |-- year_issue_d: string (nullable = true)\n",
      " |-- year_earliest_cr_line: string (nullable = true)\n",
      " |-- year_last_pymnt_d: string (nullable = true)\n",
      " |-- year_last_credit_pull_d: string (nullable = true)\n",
      " |-- term_index: double (nullable = false)\n",
      " |-- sub_grade_index: double (nullable = false)\n",
      " |-- emp_length_index: double (nullable = false)\n",
      " |-- home_ownership_index: double (nullable = false)\n",
      " |-- verification_status_index: double (nullable = false)\n",
      " |-- pymnt_plan_index: double (nullable = false)\n",
      " |-- purpose_index: double (nullable = false)\n",
      " |-- addr_state_index: double (nullable = false)\n",
      " |-- initial_list_status_index: double (nullable = false)\n",
      " |-- application_type_index: double (nullable = false)\n",
      " |-- hardship_flag_index: double (nullable = false)\n",
      " |-- disbursement_method_index: double (nullable = false)\n",
      " |-- debt_settlement_flag_index: double (nullable = false)\n",
      " |-- month_issue_d_index: double (nullable = false)\n",
      " |-- month_earliest_cr_line_index: double (nullable = false)\n",
      " |-- month_last_pymnt_d_index: double (nullable = false)\n",
      " |-- month_last_credit_pull_d_index: double (nullable = false)\n",
      "\n"
     ]
    }
   ],
   "source": [
    "df_cleaned.printSchema()"
   ]
  },
  {
   "cell_type": "code",
   "execution_count": 237,
   "metadata": {},
   "outputs": [
    {
     "name": "stdout",
     "output_type": "stream",
     "text": [
      "+---------+-----------+---------------+--------+-----------+----------+-----+-----------+--------------+--------+-------+---------+----------+---------+---------+-------------+----------------+---------------+---------------+-------------+------------------+----------+-----------------------+---------------+--------------------------+-----------+--------------+------------------------+-----------+--------------------+---------+------------------+------------+---------------------+-----------------+-----------------------+----------+---------------+----------------+--------------------+-------------------------+----------------+-------------+----------------+-------------------------+----------------------+-------------------+-------------------------+--------------------------+-------------------+----------------------------+------------------------+------------------------------+\n",
      "|loan_amnt|funded_amnt|funded_amnt_inv|int_rate|installment|annual_inc|  dti|delinq_2yrs|inq_last_6mths|open_acc|pub_rec|revol_bal|revol_util|total_acc|out_prncp|out_prncp_inv|     total_pymnt|total_pymnt_inv|total_rec_prncp|total_rec_int|total_rec_late_fee|recoveries|collection_recovery_fee|last_pymnt_amnt|collections_12_mths_ex_med|policy_code|acc_now_delinq|chargeoff_within_12_mths|delinq_amnt|pub_rec_bankruptcies|tax_liens|loan_status_binary|year_issue_d|year_earliest_cr_line|year_last_pymnt_d|year_last_credit_pull_d|term_index|sub_grade_index|emp_length_index|home_ownership_index|verification_status_index|pymnt_plan_index|purpose_index|addr_state_index|initial_list_status_index|application_type_index|hardship_flag_index|disbursement_method_index|debt_settlement_flag_index|month_issue_d_index|month_earliest_cr_line_index|month_last_pymnt_d_index|month_last_credit_pull_d_index|\n",
      "+---------+-----------+---------------+--------+-----------+----------+-----+-----------+--------------+--------+-------+---------+----------+---------+---------+-------------+----------------+---------------+---------------+-------------+------------------+----------+-----------------------+---------------+--------------------------+-----------+--------------+------------------------+-----------+--------------------+---------+------------------+------------+---------------------+-----------------+-----------------------+----------+---------------+----------------+--------------------+-------------------------+----------------+-------------+----------------+-------------------------+----------------------+-------------------+-------------------------+--------------------------+-------------------+----------------------------+------------------------+------------------------------+\n",
      "|    30000|      30000|        30000.0|   22.35|    1151.16|    100000|30.46|          0|             0|      11|      1|    15603|      37.0|       19|     0.00|         0.00|      30026.4425|       30026.44|       30000.00|        26.44|               0.0|       0.0|                    0.0|       30082.32|                         0|          1|             0|                     0.0|          0|                   1|        0|                 0|        2018|                 2012|             2019|                   2019|       0.0|           19.0|             5.0|                 0.0|                      0.0|             0.0|          0.0|             0.0|                      0.0|                   1.0|                0.0|                      0.0|                       0.0|                7.0|                        10.0|                     1.0|                           2.0|\n",
      "|    40000|      40000|        40000.0|   16.14|     975.71|     45000|50.53|          0|             0|      18|      0|    34971|      64.5|       37|     0.00|         0.00| 40856.678960349|       40856.68|       40000.00|       856.68|               0.0|       0.0|                    0.0|       40910.48|                         0|          1|             0|                     0.0|          0|                   0|        0|                 0|        2018|                 2009|             2019|                   2019|       1.0|            6.0|             2.0|                 0.0|                      1.0|             0.0|          1.0|             7.0|                      0.0|                   1.0|                0.0|                      0.0|                       0.0|                7.0|                         8.0|                     6.0|                           0.0|\n",
      "|    20000|      20000|        20000.0|    7.56|     622.68|    100000|18.92|          0|             0|       9|      0|    25416|      29.9|       19|     0.00|         0.00|     20215.79243|       20215.79|       20000.00|       215.79|               0.0|       0.0|                    0.0|       20228.39|                         0|          1|             0|                     0.0|          0|                   0|        0|                 0|        2018|                 1999|             2019|                   2019|       0.0|           16.0|             0.0|                 0.0|                      2.0|             0.0|          1.0|            16.0|                      0.0|                   1.0|                0.0|                      0.0|                       0.0|                7.0|                        11.0|                     6.0|                           0.0|\n",
      "|     4500|       4500|         4500.0|   11.31|     147.99|     38500| 4.64|          0|             0|      12|      0|     4472|      15.3|       25|     0.00|         0.00| 4549.2171485504|        4549.22|        4500.00|        49.22|               0.0|       0.0|                    0.0|        4553.46|                         0|          1|             0|                     0.0|          0|                   0|        0|                 0|        2018|                 2003|             2019|                   2019|       0.0|            3.0|             0.0|                 1.0|                      2.0|             0.0|          1.0|             1.0|                      0.0|                   0.0|                0.0|                      0.0|                       0.0|                7.0|                         6.0|                     6.0|                           0.0|\n",
      "|     8425|       8425|         8425.0|   27.27|     345.18|    450000|12.37|          0|             0|      21|      0|    36812|      65.7|       37|     0.00|         0.00| 8735.1489749534|        8735.15|        8425.00|       310.15|               0.0|       0.0|                    0.0|         8754.3|                         0|          1|             0|                     0.0|          0|                   0|        0|                 0|        2018|                 1997|             2019|                   2019|       0.0|           24.0|             3.0|                 0.0|                      1.0|             0.0|          1.0|            14.0|                      0.0|                   1.0|                0.0|                      0.0|                       0.0|                7.0|                         2.0|                     6.0|                           0.0|\n",
      "|    20000|      20000|        20000.0|   17.97|     507.55|     57000|22.18|          0|             0|      10|      0|    33356|      45.9|       16|     0.00|         0.00|20013.5773333332|       20013.58|       20000.00|        13.58|               0.0|       0.0|                    0.0|       20043.53|                         0|          1|             0|                     0.0|          0|                   0|        0|                 0|        2018|                 1995|             2019|                   2019|       1.0|           12.0|             6.0|                 1.0|                      2.0|             0.0|          0.0|            16.0|                      0.0|                   0.0|                0.0|                      0.0|                       0.0|                7.0|                         9.0|                     1.0|                           2.0|\n",
      "|     6600|       6600|         6325.0|   11.31|     217.05|     45000|16.21|          0|             0|       6|      0|     6167|      58.2|       13|     0.00|         0.00| 6622.8090000603|        6346.86|        6600.00|        22.81|               0.0|       0.0|                    0.0|        6629.03|                         0|          1|             0|                     0.0|          0|                   0|        0|                 0|        2018|                 2009|             2019|                   2019|       0.0|            3.0|             0.0|                 1.0|                      2.0|             0.0|          1.0|             1.0|                      1.0|                   0.0|                0.0|                      0.0|                       0.0|                7.0|                         9.0|                     1.0|                           0.0|\n",
      "|     2500|       2500|         2475.0|   13.56|      84.92|     42000|15.09|          0|             0|       3|      0|     3319|      31.6|        6|     0.00|         0.00|  2501.285666669|        2476.27|        2500.00|         1.29|               0.0|       0.0|                    0.0|        2504.11|                         0|          1|             0|                     0.0|          0|                   0|        0|                 0|        2018|                 2004|             2019|                   2019|       0.0|            0.0|             5.0|                 1.0|                      2.0|             0.0|          3.0|             6.0|                      1.0|                   0.0|                0.0|                      0.0|                       0.0|                7.0|                         4.0|                     1.0|                           2.0|\n",
      "|     4000|       4000|         4000.0|   17.97|     144.55|     60000| 19.1|          0|             1|      11|      0|      382|       7.3|       18|     0.00|         0.00| 4049.9166666676|        4049.92|        4000.00|        49.92|               0.0|       0.0|                    0.0|          55.91|                         0|          1|             0|                     0.0|          0|                   0|        0|                 0|        2018|                 2007|             2019|                   2019|       0.0|           12.0|             5.0|                 0.0|                      0.0|             0.0|         10.0|             1.0|                      0.0|                   0.0|                0.0|                      0.0|                       0.0|                7.0|                         8.0|                     6.0|                           2.0|\n",
      "|     2700|       2700|         2675.0|    8.19|      84.85|     24000|24.95|          0|             0|      21|      1|     2696|      36.4|       28|     0.00|         0.00| 2700.8381300019|        2675.83|        2700.00|         0.84|               0.0|       0.0|                    0.0|        2702.68|                         0|          1|             0|                     0.0|          0|                   1|        0|                 0|        2018|                 2002|             2019|                   2019|       0.0|           11.0|             6.0|                 2.0|                      2.0|             0.0|          1.0|            11.0|                      1.0|                   0.0|                0.0|                      0.0|                       0.0|                7.0|                         2.0|                     1.0|                           0.0|\n",
      "|     1000|       1000|         1000.0|    23.4|      38.92|     60000|20.78|          0|             0|       4|      0|    13326|      72.8|       38|     0.00|         0.00|     1022.649016|        1022.65|        1000.00|        22.65|               0.0|       0.0|                    0.0|         1024.6|                         0|          1|             0|                     0.0|          0|                   0|        0|                 0|        2018|                 2007|             2019|                   2019|       0.0|           20.0|             3.0|                 1.0|                      0.0|             0.0|          0.0|             7.0|                      1.0|                   0.0|                0.0|                      0.0|                       0.0|                7.0|                         1.0|                     6.0|                           0.0|\n",
      "|    15000|      15000|        15000.0|    7.56|     467.01|    200000| 2.62|          0|             0|       7|      0|    19386|      39.2|       45|     0.00|         0.00|         15063.0|       15063.00|       15000.00|        63.00|               0.0|       0.0|                    0.0|       15072.45|                         0|          1|             0|                     0.0|          0|                   0|        0|                 0|        2018|                 2006|             2019|                   2019|       0.0|           16.0|             0.0|                 0.0|                      2.0|             0.0|         10.0|            48.0|                      0.0|                   0.0|                0.0|                      0.0|                       0.0|                7.0|                        11.0|                     1.0|                           2.0|\n",
      "|     8000|       8000|         8000.0|    7.56|     249.08|    250000| 20.1|          0|             0|      17|      0|   133414|      61.2|       29|     0.00|         0.00|     8053.551386|        8053.55|        8000.00|        53.55|               0.0|       0.0|                    0.0|        8058.59|                         0|          1|             0|                     0.0|          0|                   0|        0|                 0|        2018|                 1987|             2019|                   2019|       0.0|           16.0|             0.0|                 0.0|                      2.0|             0.0|          3.0|             0.0|                      0.0|                   0.0|                0.0|                      0.0|                       0.0|                7.0|                        10.0|                     6.0|                           0.0|\n",
      "|     5000|       5000|         5000.0|    7.56|     155.67|     98000|14.78|          0|             0|       6|      0|    10190|      55.1|       13|     0.00|         0.00|         5013.65|        5013.65|        5000.00|        13.65|               0.0|       0.0|                    0.0|         5016.8|                         0|          1|             0|                     0.0|          0|                   0|        0|                 0|        2018|                 2008|             2019|                   2019|       0.0|           16.0|             5.0|                 0.0|                      2.0|             0.0|          1.0|             1.0|                      0.0|                   0.0|                0.0|                      0.0|                       0.0|                7.0|                         4.0|                     1.0|                           0.0|\n",
      "|    12950|      12950|        12950.0|    7.56|     403.19|     55000|19.88|          0|             1|      15|      0|     2160|       5.0|       24|     0.00|         0.00|      13020.7055|       13020.71|       12950.00|        70.71|               0.0|       0.0|                    0.0|       13028.87|                         0|          1|             0|                     0.0|          0|                   0|        0|                 0|        2018|                 2005|             2019|                   2019|       0.0|           16.0|             0.0|                 0.0|                      0.0|             0.0|          0.0|            12.0|                      0.0|                   0.0|                0.0|                      0.0|                       0.0|                7.0|                         6.0|                     6.0|                           2.0|\n",
      "|    10450|      10450|        10450.0|   12.98|     237.67|     58000|21.17|          0|             1|      20|      0|     8956|      18.3|       40|     0.00|         0.00|10573.6669265171|       10573.67|       10450.00|       123.67|               0.0|       0.0|                    0.0|       10584.97|                         0|          1|             0|                     0.0|          0|                   0|        0|                 0|        2018|                 2003|             2019|                   2019|       1.0|            2.0|             0.0|                 0.0|                      2.0|             0.0|          1.0|             2.0|                      0.0|                   0.0|                0.0|                      0.0|                       0.0|                7.0|                         7.0|                     1.0|                           0.0|\n",
      "|    20000|      20000|        20000.0|   26.31|     602.49|     58000|22.66|          0|             0|       5|      0|    11580|      84.5|       19|     0.00|         0.00|20306.9500000008|       20306.95|       20000.00|       306.95|               0.0|       0.0|                    0.0|        20350.8|                         0|          1|             0|                     0.0|          0|                   0|        0|                 0|        2018|                 2005|             2019|                   2019|       1.0|           23.0|             6.0|                 0.0|                      2.0|             0.0|          1.0|            27.0|                      0.0|                   1.0|                0.0|                      0.0|                       0.0|                7.0|                         8.0|                     1.0|                           2.0|\n",
      "|    10000|      10000|        10000.0|   12.98|     227.43|     60000|12.25|          1|             1|      23|      0|    15927|      21.8|       40|     0.00|         0.00|10072.1077777788|       10072.11|       10000.00|        72.11|               0.0|       0.0|                    0.0|       10082.93|                         0|          1|             0|                     0.0|          0|                   0|        0|                 0|        2018|                 1995|             2019|                   2019|       1.0|            2.0|             4.0|                 0.0|                      2.0|             0.0|          7.0|            37.0|                      0.0|                   0.0|                0.0|                      0.0|                       0.0|                7.0|                         0.0|                     1.0|                           0.0|\n",
      "|    29050|      29050|        29050.0|   10.33|     941.87|     68000|23.65|          0|             0|      17|      0|     2252|       3.1|       35|     0.00|         0.00| 29275.062083333|       29275.06|       29050.00|       225.06|               0.0|       0.0|                    0.0|       29300.07|                         0|          1|             0|                     0.0|          0|                   0|        0|                 0|        2018|                 2009|             2019|                   2019|       0.0|            8.0|             2.0|                 0.0|                      0.0|             0.0|          2.0|             4.0|                      0.0|                   0.0|                0.0|                      1.0|                       0.0|                7.0|                        10.0|                     6.0|                           2.0|\n",
      "|     1000|       1000|         1000.0|   13.56|      33.97|     42140|24.18|          0|             2|       7|      0|      398|       5.8|       14|     0.00|         0.00| 1007.5333333357|        1007.53|        1000.00|         7.53|               0.0|       0.0|                    0.0|        1008.66|                         0|          1|             0|                     0.0|          0|                   0|        0|                 0|        2018|                 2003|             2019|                   2019|       0.0|            0.0|             4.0|                 1.0|                      0.0|             0.0|          8.0|            20.0|                      1.0|                   0.0|                0.0|                      0.0|                       0.0|                7.0|                         4.0|                     1.0|                           0.0|\n",
      "+---------+-----------+---------------+--------+-----------+----------+-----+-----------+--------------+--------+-------+---------+----------+---------+---------+-------------+----------------+---------------+---------------+-------------+------------------+----------+-----------------------+---------------+--------------------------+-----------+--------------+------------------------+-----------+--------------------+---------+------------------+------------+---------------------+-----------------+-----------------------+----------+---------------+----------------+--------------------+-------------------------+----------------+-------------+----------------+-------------------------+----------------------+-------------------+-------------------------+--------------------------+-------------------+----------------------------+------------------------+------------------------------+\n",
      "only showing top 20 rows\n",
      "\n"
     ]
    }
   ],
   "source": [
    "df_cleaned.show()"
   ]
  },
  {
   "cell_type": "code",
   "execution_count": 238,
   "metadata": {},
   "outputs": [],
   "source": [
    "# add id columns from zero to over to df_cleaned\n",
    "df_cleaned = df_cleaned.withColumn(\"id\", monotonically_increasing_id())\n",
    "\n",
    "df_encode = df_cleaned\n",
    "\n",
    "for col_name in df_encode.columns:\n",
    "    try:\n",
    "        df_encode = df_encode.withColumn(col_name, col(col_name).cast(FloatType()))\n",
    "    except ValueError:\n",
    "        print(f\"Column '{col_name}' contains values that cannot be converted to FloatType.\")\n",
    "\n",
    "df_encode = df_encode.dropna()\n"
   ]
  },
  {
   "cell_type": "code",
   "execution_count": 239,
   "metadata": {},
   "outputs": [
    {
     "name": "stdout",
     "output_type": "stream",
     "text": [
      "root\n",
      " |-- loan_amnt: float (nullable = false)\n",
      " |-- funded_amnt: float (nullable = false)\n",
      " |-- funded_amnt_inv: float (nullable = false)\n",
      " |-- int_rate: float (nullable = false)\n",
      " |-- installment: float (nullable = false)\n",
      " |-- annual_inc: float (nullable = true)\n",
      " |-- dti: float (nullable = true)\n",
      " |-- delinq_2yrs: float (nullable = true)\n",
      " |-- inq_last_6mths: float (nullable = true)\n",
      " |-- open_acc: float (nullable = true)\n",
      " |-- pub_rec: float (nullable = true)\n",
      " |-- revol_bal: float (nullable = true)\n",
      " |-- revol_util: float (nullable = true)\n",
      " |-- total_acc: float (nullable = true)\n",
      " |-- out_prncp: float (nullable = true)\n",
      " |-- out_prncp_inv: float (nullable = true)\n",
      " |-- total_pymnt: float (nullable = true)\n",
      " |-- total_pymnt_inv: float (nullable = true)\n",
      " |-- total_rec_prncp: float (nullable = true)\n",
      " |-- total_rec_int: float (nullable = true)\n",
      " |-- total_rec_late_fee: float (nullable = true)\n",
      " |-- recoveries: float (nullable = true)\n",
      " |-- collection_recovery_fee: float (nullable = true)\n",
      " |-- last_pymnt_amnt: float (nullable = true)\n",
      " |-- collections_12_mths_ex_med: float (nullable = true)\n",
      " |-- policy_code: float (nullable = true)\n",
      " |-- acc_now_delinq: float (nullable = true)\n",
      " |-- chargeoff_within_12_mths: float (nullable = false)\n",
      " |-- delinq_amnt: float (nullable = false)\n",
      " |-- pub_rec_bankruptcies: float (nullable = false)\n",
      " |-- tax_liens: float (nullable = false)\n",
      " |-- loan_status_binary: float (nullable = false)\n",
      " |-- year_issue_d: float (nullable = true)\n",
      " |-- year_earliest_cr_line: float (nullable = true)\n",
      " |-- year_last_pymnt_d: float (nullable = true)\n",
      " |-- year_last_credit_pull_d: float (nullable = true)\n",
      " |-- term_index: float (nullable = false)\n",
      " |-- sub_grade_index: float (nullable = false)\n",
      " |-- emp_length_index: float (nullable = false)\n",
      " |-- home_ownership_index: float (nullable = false)\n",
      " |-- verification_status_index: float (nullable = false)\n",
      " |-- pymnt_plan_index: float (nullable = false)\n",
      " |-- purpose_index: float (nullable = false)\n",
      " |-- addr_state_index: float (nullable = false)\n",
      " |-- initial_list_status_index: float (nullable = false)\n",
      " |-- application_type_index: float (nullable = false)\n",
      " |-- hardship_flag_index: float (nullable = false)\n",
      " |-- disbursement_method_index: float (nullable = false)\n",
      " |-- debt_settlement_flag_index: float (nullable = false)\n",
      " |-- month_issue_d_index: float (nullable = false)\n",
      " |-- month_earliest_cr_line_index: float (nullable = false)\n",
      " |-- month_last_pymnt_d_index: float (nullable = false)\n",
      " |-- month_last_credit_pull_d_index: float (nullable = false)\n",
      " |-- id: float (nullable = false)\n",
      "\n"
     ]
    }
   ],
   "source": [
    "df_encode.printSchema()"
   ]
  },
  {
   "cell_type": "code",
   "execution_count": 240,
   "metadata": {},
   "outputs": [
    {
     "name": "stderr",
     "output_type": "stream",
     "text": [
      "[Stage 1813:=============================================>        (10 + 2) / 12]\r"
     ]
    },
    {
     "name": "stdout",
     "output_type": "stream",
     "text": [
      "+---------+-----------+---------------+--------+-----------+----------+---+-----------+--------------+--------+-------+---------+----------+---------+---------+-------------+-----------+---------------+---------------+-------------+------------------+----------+-----------------------+---------------+--------------------------+-----------+--------------+------------------------+-----------+--------------------+---------+------------------+------------+---------------------+-----------------+-----------------------+----------+---------------+----------------+--------------------+-------------------------+----------------+-------------+----------------+-------------------------+----------------------+-------------------+-------------------------+--------------------------+-------------------+----------------------------+------------------------+------------------------------+---+\n",
      "|loan_amnt|funded_amnt|funded_amnt_inv|int_rate|installment|annual_inc|dti|delinq_2yrs|inq_last_6mths|open_acc|pub_rec|revol_bal|revol_util|total_acc|out_prncp|out_prncp_inv|total_pymnt|total_pymnt_inv|total_rec_prncp|total_rec_int|total_rec_late_fee|recoveries|collection_recovery_fee|last_pymnt_amnt|collections_12_mths_ex_med|policy_code|acc_now_delinq|chargeoff_within_12_mths|delinq_amnt|pub_rec_bankruptcies|tax_liens|loan_status_binary|year_issue_d|year_earliest_cr_line|year_last_pymnt_d|year_last_credit_pull_d|term_index|sub_grade_index|emp_length_index|home_ownership_index|verification_status_index|pymnt_plan_index|purpose_index|addr_state_index|initial_list_status_index|application_type_index|hardship_flag_index|disbursement_method_index|debt_settlement_flag_index|month_issue_d_index|month_earliest_cr_line_index|month_last_pymnt_d_index|month_last_credit_pull_d_index| id|\n",
      "+---------+-----------+---------------+--------+-----------+----------+---+-----------+--------------+--------+-------+---------+----------+---------+---------+-------------+-----------+---------------+---------------+-------------+------------------+----------+-----------------------+---------------+--------------------------+-----------+--------------+------------------------+-----------+--------------------+---------+------------------+------------+---------------------+-----------------+-----------------------+----------+---------------+----------------+--------------------+-------------------------+----------------+-------------+----------------+-------------------------+----------------------+-------------------+-------------------------+--------------------------+-------------------+----------------------------+------------------------+------------------------------+---+\n",
      "|        0|          0|              0|       0|          0|         0|  0|          0|             0|       0|      0|        0|         0|        0|        0|            0|          0|              0|              0|            0|                 0|         0|                      0|              0|                         0|          0|             0|                       0|          0|                   0|        0|                 0|           0|                    0|                0|                      0|         0|              0|               0|                   0|                        0|               0|            0|               0|                        0|                     0|                  0|                        0|                         0|                  0|                           0|                       0|                             0|  0|\n",
      "+---------+-----------+---------------+--------+-----------+----------+---+-----------+--------------+--------+-------+---------+----------+---------+---------+-------------+-----------+---------------+---------------+-------------+------------------+----------+-----------------------+---------------+--------------------------+-----------+--------------+------------------------+-----------+--------------------+---------+------------------+------------+---------------------+-----------------+-----------------------+----------+---------------+----------------+--------------------+-------------------------+----------------+-------------+----------------+-------------------------+----------------------+-------------------+-------------------------+--------------------------+-------------------+----------------------------+------------------------+------------------------------+---+\n",
      "\n"
     ]
    },
    {
     "name": "stderr",
     "output_type": "stream",
     "text": [
      "                                                                                \r"
     ]
    }
   ],
   "source": [
    "# count the number of missing values in each column of new dataframe\n",
    "null_counts_cleaned = df_encode.select([sum(col(c).isNull().cast(\"int\")).alias(c) for c in df_encode.columns])\n",
    "null_counts_cleaned.show()"
   ]
  },
  {
   "cell_type": "code",
   "execution_count": 241,
   "metadata": {},
   "outputs": [
    {
     "data": {
      "text/plain": [
       "54"
      ]
     },
     "execution_count": 241,
     "metadata": {},
     "output_type": "execute_result"
    }
   ],
   "source": [
    "len(df_encode.columns)"
   ]
  },
  {
   "cell_type": "markdown",
   "metadata": {},
   "source": [
    "# Chia train test"
   ]
  },
  {
   "cell_type": "code",
   "execution_count": 242,
   "metadata": {},
   "outputs": [
    {
     "name": "stderr",
     "output_type": "stream",
     "text": [
      "[Stage 1819:====================================>                  (8 + 4) / 12]\r"
     ]
    },
    {
     "name": "stdout",
     "output_type": "stream",
     "text": [
      "+------------------+-----------+-------------------+\n",
      "|loan_status_binary|class_count|        class_ratio|\n",
      "+------------------+-----------+-------------------+\n",
      "|               1.0|     261652|0.20074389371894688|\n",
      "|               0.0|    1041760| 0.7992561062810531|\n",
      "+------------------+-----------+-------------------+\n",
      "\n"
     ]
    },
    {
     "name": "stderr",
     "output_type": "stream",
     "text": [
      "                                                                                \r"
     ]
    }
   ],
   "source": [
    "class_distribution = df_encode.groupBy('loan_status_binary').count().withColumnRenamed('count', 'class_count')\n",
    "total_count = df_encode.count()\n",
    "class_distribution = class_distribution.withColumn('class_ratio', col('class_count') / total_count)\n",
    "\n",
    "# Hiển thị tỷ lệ mỗi lớp\n",
    "class_distribution.show()"
   ]
  },
  {
   "cell_type": "code",
   "execution_count": 243,
   "metadata": {},
   "outputs": [
    {
     "name": "stderr",
     "output_type": "stream",
     "text": [
      "[Stage 1822:=================================================>    (11 + 1) / 12]\r"
     ]
    },
    {
     "name": "stdout",
     "output_type": "stream",
     "text": [
      "{1.0: 0.20074389371894688, 0.0: 0.7992561062810531}\n"
     ]
    },
    {
     "name": "stderr",
     "output_type": "stream",
     "text": [
      "                                                                                \r"
     ]
    }
   ],
   "source": [
    "ratios = class_distribution.select('loan_status_binary', 'class_ratio').rdd.collectAsMap()\n",
    "print(ratios)"
   ]
  },
  {
   "cell_type": "code",
   "execution_count": 244,
   "metadata": {},
   "outputs": [
    {
     "name": "stderr",
     "output_type": "stream",
     "text": [
      "                                                                                \r"
     ]
    },
    {
     "name": "stdout",
     "output_type": "stream",
     "text": [
      "Train DataFrame Count:  1042125\n"
     ]
    },
    {
     "name": "stderr",
     "output_type": "stream",
     "text": [
      "                                                                                \r"
     ]
    },
    {
     "name": "stdout",
     "output_type": "stream",
     "text": [
      "Test DataFrame Count:  261287\n"
     ]
    },
    {
     "name": "stderr",
     "output_type": "stream",
     "text": [
      "24/06/27 12:33:35 WARN RowBasedKeyValueBatch: Calling spill() on RowBasedKeyValueBatch. Will not spill but return 0.\n",
      "24/06/27 12:33:35 WARN RowBasedKeyValueBatch: Calling spill() on RowBasedKeyValueBatch. Will not spill but return 0.\n",
      "24/06/27 12:33:35 WARN RowBasedKeyValueBatch: Calling spill() on RowBasedKeyValueBatch. Will not spill but return 0.\n",
      "24/06/27 12:33:35 WARN RowBasedKeyValueBatch: Calling spill() on RowBasedKeyValueBatch. Will not spill but return 0.\n",
      "24/06/27 12:33:36 WARN RowBasedKeyValueBatch: Calling spill() on RowBasedKeyValueBatch. Will not spill but return 0.\n",
      "24/06/27 12:33:36 WARN RowBasedKeyValueBatch: Calling spill() on RowBasedKeyValueBatch. Will not spill but return 0.\n",
      "24/06/27 12:33:37 WARN RowBasedKeyValueBatch: Calling spill() on RowBasedKeyValueBatch. Will not spill but return 0.\n",
      "24/06/27 12:33:40 WARN RowBasedKeyValueBatch: Calling spill() on RowBasedKeyValueBatch. Will not spill but return 0.\n",
      "24/06/27 12:33:40 WARN RowBasedKeyValueBatch: Calling spill() on RowBasedKeyValueBatch. Will not spill but return 0.\n",
      "                                                                                \r"
     ]
    },
    {
     "name": "stdout",
     "output_type": "stream",
     "text": [
      "+------------------+------+\n",
      "|loan_status_binary| count|\n",
      "+------------------+------+\n",
      "|               0.0|832879|\n",
      "|               1.0|209246|\n",
      "+------------------+------+\n",
      "\n"
     ]
    },
    {
     "name": "stderr",
     "output_type": "stream",
     "text": [
      "24/06/27 12:33:50 WARN RowBasedKeyValueBatch: Calling spill() on RowBasedKeyValueBatch. Will not spill but return 0.\n",
      "24/06/27 12:33:50 WARN RowBasedKeyValueBatch: Calling spill() on RowBasedKeyValueBatch. Will not spill but return 0.\n",
      "24/06/27 12:33:50 WARN RowBasedKeyValueBatch: Calling spill() on RowBasedKeyValueBatch. Will not spill but return 0.\n",
      "24/06/27 12:33:51 WARN RowBasedKeyValueBatch: Calling spill() on RowBasedKeyValueBatch. Will not spill but return 0.\n",
      "24/06/27 12:33:51 WARN RowBasedKeyValueBatch: Calling spill() on RowBasedKeyValueBatch. Will not spill but return 0.\n",
      "24/06/27 12:33:51 WARN RowBasedKeyValueBatch: Calling spill() on RowBasedKeyValueBatch. Will not spill but return 0.\n",
      "24/06/27 12:33:51 WARN RowBasedKeyValueBatch: Calling spill() on RowBasedKeyValueBatch. Will not spill but return 0.\n",
      "24/06/27 12:33:55 WARN RowBasedKeyValueBatch: Calling spill() on RowBasedKeyValueBatch. Will not spill but return 0.\n",
      "24/06/27 12:33:55 WARN RowBasedKeyValueBatch: Calling spill() on RowBasedKeyValueBatch. Will not spill but return 0.\n",
      "[Stage 1834:===================================================>  (23 + 1) / 24]\r"
     ]
    },
    {
     "name": "stdout",
     "output_type": "stream",
     "text": [
      "+------------------+------+\n",
      "|loan_status_binary| count|\n",
      "+------------------+------+\n",
      "|               0.0|208881|\n",
      "|               1.0| 52406|\n",
      "+------------------+------+\n",
      "\n"
     ]
    },
    {
     "name": "stderr",
     "output_type": "stream",
     "text": [
      "                                                                                \r"
     ]
    }
   ],
   "source": [
    "train_ratio = 0.8\n",
    "\n",
    "# Tạo DataFrame cho mỗi lớp (label)\n",
    "df_0 = df_encode.filter(col(\"loan_status_binary\") == 0)\n",
    "df_1 = df_encode.filter(col(\"loan_status_binary\") == 1)\n",
    "\n",
    "# Chia dữ liệu cho lớp 0\n",
    "train_df_0, test_df_0 = df_0.randomSplit([train_ratio, 1 - train_ratio], seed=12345)\n",
    "\n",
    "# Chia dữ liệu cho lớp 1\n",
    "train_df_1, test_df_1 = df_1.randomSplit([train_ratio, 1 - train_ratio], seed=12345)\n",
    "\n",
    "# Kết hợp lại để tạo thành tập huấn luyện và tập kiểm tra cuối cùng\n",
    "train_df = train_df_0.union(train_df_1)\n",
    "test_df = test_df_0.union(test_df_1)\n",
    "\n",
    "# Xáo trộn tập huấn luyện và tập kiểm tra\n",
    "train_df = train_df.orderBy(rand())\n",
    "test_df = test_df.orderBy(rand())\n",
    "\n",
    "# Hiển thị kết quả\n",
    "print(\"Train DataFrame Count: \", train_df.count())\n",
    "print(\"Test DataFrame Count: \", test_df.count())\n",
    "\n",
    "train_df.groupBy(\"loan_status_binary\").count().show()\n",
    "test_df.groupBy(\"loan_status_binary\").count().show()"
   ]
  },
  {
   "cell_type": "markdown",
   "metadata": {},
   "source": [
    "# Dùng PCA giảm chiều dữ liệu"
   ]
  },
  {
   "cell_type": "code",
   "execution_count": 245,
   "metadata": {},
   "outputs": [
    {
     "name": "stderr",
     "output_type": "stream",
     "text": [
      "[Stage 1837:===================================================>  (23 + 1) / 24]\r"
     ]
    },
    {
     "name": "stdout",
     "output_type": "stream",
     "text": [
      "+---------+-----------+---------------+--------+-----------+----------+---+-----------+--------------+--------+-------+---------+----------+---------+---------+-------------+-----------+---------------+---------------+-------------+------------------+----------+-----------------------+---------------+--------------------------+-----------+--------------+------------------------+-----------+--------------------+---------+------------------+------------+---------------------+-----------------+-----------------------+----------+---------------+----------------+--------------------+-------------------------+----------------+-------------+----------------+-------------------------+----------------------+-------------------+-------------------------+--------------------------+-------------------+----------------------------+------------------------+------------------------------+---+\n",
      "|loan_amnt|funded_amnt|funded_amnt_inv|int_rate|installment|annual_inc|dti|delinq_2yrs|inq_last_6mths|open_acc|pub_rec|revol_bal|revol_util|total_acc|out_prncp|out_prncp_inv|total_pymnt|total_pymnt_inv|total_rec_prncp|total_rec_int|total_rec_late_fee|recoveries|collection_recovery_fee|last_pymnt_amnt|collections_12_mths_ex_med|policy_code|acc_now_delinq|chargeoff_within_12_mths|delinq_amnt|pub_rec_bankruptcies|tax_liens|loan_status_binary|year_issue_d|year_earliest_cr_line|year_last_pymnt_d|year_last_credit_pull_d|term_index|sub_grade_index|emp_length_index|home_ownership_index|verification_status_index|pymnt_plan_index|purpose_index|addr_state_index|initial_list_status_index|application_type_index|hardship_flag_index|disbursement_method_index|debt_settlement_flag_index|month_issue_d_index|month_earliest_cr_line_index|month_last_pymnt_d_index|month_last_credit_pull_d_index| id|\n",
      "+---------+-----------+---------------+--------+-----------+----------+---+-----------+--------------+--------+-------+---------+----------+---------+---------+-------------+-----------+---------------+---------------+-------------+------------------+----------+-----------------------+---------------+--------------------------+-----------+--------------+------------------------+-----------+--------------------+---------+------------------+------------+---------------------+-----------------+-----------------------+----------+---------------+----------------+--------------------+-------------------------+----------------+-------------+----------------+-------------------------+----------------------+-------------------+-------------------------+--------------------------+-------------------+----------------------------+------------------------+------------------------------+---+\n",
      "|        0|          0|              0|       0|          0|         0|  0|          0|             0|       0|      0|        0|         0|        0|        0|            0|          0|              0|              0|            0|                 0|         0|                      0|              0|                         0|          0|             0|                       0|          0|                   0|        0|                 0|           0|                    0|                0|                      0|         0|              0|               0|                   0|                        0|               0|            0|               0|                        0|                     0|                  0|                        0|                         0|                  0|                           0|                       0|                             0|  0|\n",
      "+---------+-----------+---------------+--------+-----------+----------+---+-----------+--------------+--------+-------+---------+----------+---------+---------+-------------+-----------+---------------+---------------+-------------+------------------+----------+-----------------------+---------------+--------------------------+-----------+--------------+------------------------+-----------+--------------------+---------+------------------+------------+---------------------+-----------------+-----------------------+----------+---------------+----------------+--------------------+-------------------------+----------------+-------------+----------------+-------------------------+----------------------+-------------------+-------------------------+--------------------------+-------------------+----------------------------+------------------------+------------------------------+---+\n",
      "\n"
     ]
    },
    {
     "name": "stderr",
     "output_type": "stream",
     "text": [
      "                                                                                \r"
     ]
    }
   ],
   "source": [
    "# count the number of missing values in each column of new dataframe\n",
    "a = train_df.select([sum(col(c).isNull().cast(\"int\")).alias(c) for c in train_df.columns])\n",
    "a.show()"
   ]
  },
  {
   "cell_type": "code",
   "execution_count": 246,
   "metadata": {},
   "outputs": [
    {
     "name": "stderr",
     "output_type": "stream",
     "text": [
      "24/06/27 12:35:19 WARN InstanceBuilder: Failed to load implementation from:dev.ludovic.netlib.blas.JNIBLAS\n",
      "24/06/27 12:35:19 WARN InstanceBuilder: Failed to load implementation from:dev.ludovic.netlib.blas.VectorBLAS\n",
      "24/06/27 12:35:21 WARN InstanceBuilder: Failed to load implementation from:dev.ludovic.netlib.lapack.JNILAPACK\n"
     ]
    }
   ],
   "source": [
    "features_cols = train_df.columns\n",
    "features_cols.remove('loan_status_binary')\n",
    "\n",
    "# Tạo VectorAssembler để kết hợp các cột đặc trưng thành một vector đặc trưng\n",
    "assembler = VectorAssembler(inputCols=features_cols, outputCol='features')\n",
    "\n",
    "# Áp dụng VectorAssembler vào DataFrame ban đầu để biến đổi dữ liệu\n",
    "train_df_transformed = assembler.transform(train_df)\n",
    "\n",
    "# Chuẩn hóa các đặc trưng sử dụng StandardScaler\n",
    "scaler = StandardScaler(inputCol='features', outputCol='scaled_features', withMean=True, withStd=True)\n",
    "scaler_model = scaler.fit(train_df_transformed)\n",
    "train_df_scaled = scaler_model.transform(train_df_transformed)\n",
    "\n",
    "# Áp dụng PCA vào dữ liệu đã chuẩn hóa\n",
    "pca = PCA(k=10, inputCol='scaled_features', outputCol='pca_features')\n",
    "pca_model = pca.fit(train_df_scaled)\n",
    "train_df_pca = pca_model.transform(train_df_scaled).select('loan_status_binary', 'pca_features')"
   ]
  },
  {
   "cell_type": "code",
   "execution_count": 247,
   "metadata": {},
   "outputs": [
    {
     "name": "stderr",
     "output_type": "stream",
     "text": [
      "[Stage 1862:=================================================>    (22 + 2) / 24]\r"
     ]
    },
    {
     "name": "stdout",
     "output_type": "stream",
     "text": [
      "+------------------+--------------------+\n",
      "|loan_status_binary|        pca_features|\n",
      "+------------------+--------------------+\n",
      "|               0.0|[3.45812610507071...|\n",
      "|               0.0|[1.60937960549625...|\n",
      "|               0.0|[1.05390113723742...|\n",
      "|               0.0|[-3.1329797672121...|\n",
      "|               0.0|[0.34484347127299...|\n",
      "+------------------+--------------------+\n",
      "only showing top 5 rows\n",
      "\n"
     ]
    },
    {
     "name": "stderr",
     "output_type": "stream",
     "text": [
      "                                                                                \r"
     ]
    }
   ],
   "source": [
    "# Biến đổi VectorAssembler cho test_df\n",
    "assembler = VectorAssembler(inputCols=features_cols, outputCol='features')\n",
    "test_df_transformed = assembler.transform(test_df)\n",
    "\n",
    "# Chuẩn hóa đặc trưng sử dụng StandardScaler\n",
    "test_df_scaled = scaler_model.transform(test_df_transformed)\n",
    "\n",
    "# Áp dụng PCA cho test_df\n",
    "test_df_pca = pca_model.transform(test_df_scaled).select('loan_status_binary', 'pca_features')\n",
    "\n",
    "# Hiển thị kết quả\n",
    "test_df_pca.show(5)"
   ]
  },
  {
   "cell_type": "markdown",
   "metadata": {},
   "source": [
    "# Train models"
   ]
  },
  {
   "cell_type": "code",
   "execution_count": 257,
   "metadata": {},
   "outputs": [
    {
     "name": "stderr",
     "output_type": "stream",
     "text": [
      "[Stage 2196:===================================================>  (23 + 1) / 24]\r"
     ]
    }
   ],
   "source": [
    "# Mô hình Logistic Regression\n",
    "lr = LogisticRegression(featuresCol='pca_features', labelCol='loan_status_binary')\n",
    "lr_model = lr.fit(test_df_pca)\n",
    "\n",
    "# Mô hình Decision Tree\n",
    "dt = DecisionTreeClassifier(featuresCol='pca_features', labelCol='loan_status_binary')\n",
    "dt_model = dt.fit(test_df_pca)\n",
    "\n",
    "# Mô hình Random Forest\n",
    "rf = RandomForestClassifier(featuresCol='pca_features', labelCol='loan_status_binary')\n",
    "rf_model = rf.fit(test_df_pca)"
   ]
  },
  {
   "cell_type": "code",
   "execution_count": 258,
   "metadata": {},
   "outputs": [
    {
     "name": "stderr",
     "output_type": "stream",
     "text": [
      "[Stage 2232:=================================================>    (22 + 2) / 24]\r"
     ]
    },
    {
     "name": "stdout",
     "output_type": "stream",
     "text": [
      "Logistic Regression - Accuracy: 0.9890055217554621\n",
      "Decision Tree - Accuracy: 0.6790877795072015\n",
      "Random Forest - Accuracy: 0.9347159441848437\n"
     ]
    },
    {
     "name": "stderr",
     "output_type": "stream",
     "text": [
      "                                                                                \r"
     ]
    }
   ],
   "source": [
    "# Bước 3: Đánh giá các mô hình trên tập kiểm tra\n",
    "\n",
    "# Đánh giá mô hình Logistic Regression\n",
    "lr_predictions = lr_model.transform(test_df_pca)\n",
    "lr_evaluator = BinaryClassificationEvaluator(labelCol='loan_status_binary')\n",
    "lr_accuracy = lr_evaluator.evaluate(lr_predictions)\n",
    "\n",
    "# Đánh giá mô hình Decision Tree\n",
    "dt_predictions = dt_model.transform(test_df_pca)\n",
    "dt_evaluator = BinaryClassificationEvaluator(labelCol='loan_status_binary')\n",
    "dt_accuracy = dt_evaluator.evaluate(dt_predictions)\n",
    "\n",
    "# Đánh giá mô hình Random Forest\n",
    "rf_predictions = rf_model.transform(test_df_pca)\n",
    "rf_evaluator = BinaryClassificationEvaluator(labelCol='loan_status_binary')\n",
    "rf_accuracy = rf_evaluator.evaluate(rf_predictions)\n",
    "\n",
    "# Hiển thị kết quả đánh giá\n",
    "print(f\"Logistic Regression - Accuracy: {lr_accuracy}\")\n",
    "print(f\"Decision Tree - Accuracy: {dt_accuracy}\")\n",
    "print(f\"Random Forest - Accuracy: {rf_accuracy}\")"
   ]
  },
  {
   "cell_type": "code",
   "execution_count": 260,
   "metadata": {},
   "outputs": [
    {
     "name": "stderr",
     "output_type": "stream",
     "text": [
      "                                                                                \r"
     ]
    }
   ],
   "source": [
    "# Trích xuất dự đoán và nhãn từ kết quả của mô hình Random Forest trên test_df_pca\n",
    "rf_predictions = rf_model.transform(test_df_pca)\n",
    "rf_predictions = rf_predictions.select(\"prediction\", \"loan_status_binary\").toPandas()\n"
   ]
  },
  {
   "cell_type": "code",
   "execution_count": 261,
   "metadata": {},
   "outputs": [
    {
     "data": {
      "image/png": "[encoded data removed]",
      "text/plain": [
       "<Figure size 800x600 with 2 Axes>"
      ]
     },
     "metadata": {},
     "output_type": "display_data"
    }
   ],
   "source": [
    "# Import các thư viện cần thiết\n",
    "from sklearn.metrics import confusion_matrix\n",
    "import matplotlib.pyplot as plt\n",
    "import seaborn as sns\n",
    "\n",
    "# Tính toán confusion matrix\n",
    "cm = confusion_matrix(rf_predictions['loan_status_binary'], rf_predictions['prediction'])\n",
    "\n",
    "# Vẽ confusion matrix bằng heatmap\n",
    "plt.figure(figsize=(8, 6))\n",
    "sns.heatmap(cm, annot=True, fmt='g', cmap='Blues', \n",
    "            xticklabels=['0', '1'],\n",
    "            yticklabels=['0', '1'])\n",
    "plt.xlabel('Predicted')\n",
    "plt.ylabel('Actual')\n",
    "plt.title('Confusion Matrix - Random Forest')\n",
    "plt.show()"
   ]
  },
  {
   "cell_type": "code",
   "execution_count": 262,
   "metadata": {},
   "outputs": [
    {
     "name": "stderr",
     "output_type": "stream",
     "text": [
      "                                                                                \r"
     ]
    }
   ],
   "source": [
    "# Trích xuất dự đoán và nhãn từ kết quả của mô hình Random Forest trên test_df_pca\n",
    "lr_predictions = lr_model.transform(test_df_pca)\n",
    "lr_predictions = lr_predictions.select(\"prediction\", \"loan_status_binary\").toPandas()"
   ]
  },
  {
   "cell_type": "code",
   "execution_count": 264,
   "metadata": {},
   "outputs": [
    {
     "data": {
      "image/png": "[encoded data removed]",
      "text/plain": [
       "<Figure size 800x600 with 2 Axes>"
      ]
     },
     "metadata": {},
     "output_type": "display_data"
    }
   ],
   "source": [
    "cm = confusion_matrix(lr_predictions['loan_status_binary'], lr_predictions['prediction'])\n",
    "\n",
    "# Vẽ confusion matrix bằng heatmap\n",
    "plt.figure(figsize=(8, 6))\n",
    "sns.heatmap(cm, annot=True, fmt='g', cmap='Blues', \n",
    "            xticklabels=['0', '1'],\n",
    "            yticklabels=['0', '1'])\n",
    "plt.xlabel('Predicted')\n",
    "plt.ylabel('Actual')\n",
    "plt.title('Confusion Matrix - Linear Regression')\n",
    "plt.show()"
   ]
  }
 ],
 "metadata": {
  "kernelspec": {
   "display_name": "pro_for_ai",
   "language": "python",
   "name": "python3"
  },
  "language_info": {
   "codemirror_mode": {
    "name": "ipython",
    "version": 3
   },
   "file_extension": ".py",
   "mimetype": "text/x-python",
   "name": "python",
   "nbconvert_exporter": "python",
   "pygments_lexer": "ipython3",
   "version": "3.12.3"
  }
 },
 "nbformat": 4,
 "nbformat_minor": 2
}
