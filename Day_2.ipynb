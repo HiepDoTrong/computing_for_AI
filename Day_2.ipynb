{
  "cells": [
    {
      "cell_type": "markdown",
      "metadata": {
        "id": "8hQxXlBTjfkC"
      },
      "source": [
        "# Bai 1"
      ]
    },
    {
      "cell_type": "code",
      "execution_count": 1,
      "metadata": {
        "colab": {
          "base_uri": "https://localhost:8080/"
        },
        "id": "tHmsMQrGeifY",
        "outputId": "4353dd33-3a23-4fa2-b6ac-afbe483a2a5b"
      },
      "outputs": [
        {
          "name": "stdout",
          "output_type": "stream",
          "text": [
            "34 không phải là số nguyên tố.\n"
          ]
        }
      ],
      "source": [
        "def is_prime(N):\n",
        "    if N < 2:\n",
        "        return False\n",
        "    for i in range(2, int(N**0.5) + 1):\n",
        "        if N % i == 0:\n",
        "            return False\n",
        "    return True\n",
        "\n",
        "N = int(input(\"Nhập số nguyên N: \"))\n",
        "if is_prime(N):\n",
        "    print(f\"{N} là số nguyên tố.\")\n",
        "else:\n",
        "    print(f\"{N} không phải là số nguyên tố.\")\n"
      ]
    },
    {
      "cell_type": "markdown",
      "metadata": {
        "id": "DvulA1ePie0g"
      },
      "source": [
        "# Bài 2"
      ]
    },
    {
      "cell_type": "code",
      "execution_count": 2,
      "metadata": {
        "colab": {
          "base_uri": "https://localhost:8080/"
        },
        "id": "CHW2xnbmiEqU",
        "outputId": "1d00a5fa-d294-4ae4-ff6f-432dc11cd17a"
      },
      "outputs": [
        {
          "name": "stdout",
          "output_type": "stream",
          "text": [
            "23\n",
            "29\n",
            "31\n"
          ]
        }
      ],
      "source": [
        "def find_prime(A, B):\n",
        "    for i in range(A, B):\n",
        "        if is_prime(i):\n",
        "            print(i)\n",
        "\n",
        "A = int(input(\"Nhập số nguyên A: \"))\n",
        "B = int(input(\"Nhập số nguyên B: \"))\n",
        "find_prime(A, B)"
      ]
    },
    {
      "cell_type": "markdown",
      "metadata": {
        "id": "VWAVUC71jcXL"
      },
      "source": [
        "# Bai 3"
      ]
    },
    {
      "cell_type": "code",
      "execution_count": 3,
      "metadata": {
        "colab": {
          "base_uri": "https://localhost:8080/"
        },
        "id": "I74LoQaIjZNh",
        "outputId": "04e48216-69d1-46f9-ece9-c22526c4b598"
      },
      "outputs": [
        {
          "name": "stdout",
          "output_type": "stream",
          "text": [
            "Ước chung lớn nhất của 5 và 3 là: 1\n",
            "Bội chung nhỏ nhất của 5 và 3 là: 15\n"
          ]
        }
      ],
      "source": [
        "def ucln(A, B):\n",
        "    while B != 0:\n",
        "        A, B = B, A % B\n",
        "    return A\n",
        "\n",
        "def bcnn(A, B):\n",
        "    return abs(A * B) // ucln(A, B)\n",
        "\n",
        "def ucln_bcnn(A, B):\n",
        "    # Tính UCLN của A và B\n",
        "    u = ucln(A, B)\n",
        "\n",
        "    # Tính BCNN của A và B\n",
        "    b = bcnn(A, B)\n",
        "\n",
        "    # In ra kết quả\n",
        "    print(f\"Ước chung lớn nhất của {A} và {B} là: {u}\")\n",
        "    print(f\"Bội chung nhỏ nhất của {A} và {B} là: {b}\")\n",
        "\n",
        "# Nhập số nguyên dương A và B từ người dùng\n",
        "A = int(input(\"Nhập số nguyên dương A: \"))\n",
        "B = int(input(\"Nhập số nguyên dương B: \"))\n",
        "\n",
        "# Gọi hàm để tính và in ra UCLN và BCNN của A và B\n",
        "ucln_bcnn(A, B)\n"
      ]
    },
    {
      "cell_type": "markdown",
      "metadata": {
        "id": "hrzctA3uk7N2"
      },
      "source": [
        "# Bai 4\n"
      ]
    },
    {
      "cell_type": "code",
      "execution_count": 4,
      "metadata": {
        "id": "jQlcMEP6k9S1"
      },
      "outputs": [],
      "source": [
        "def ucln_bcnn_day_so(numbers):\n",
        "    u = numbers[0]\n",
        "    b = numbers[0]\n",
        "    for num in numbers[1:]:\n",
        "        u = ucln(u, num)\n",
        "        b = bcnn(b, num)\n",
        "    return u, b"
      ]
    },
    {
      "cell_type": "code",
      "execution_count": 5,
      "metadata": {},
      "outputs": [],
      "source": [
        "def nhap_day_so():\n",
        "    numbers = []\n",
        "    while True:\n",
        "        n = int(input(\"Nhập số nguyên dương (nhập 0 để kết thúc): \"))\n",
        "        if n == 0:\n",
        "            break\n",
        "        numbers.append(n)\n",
        "    return numbers"
      ]
    },
    {
      "cell_type": "code",
      "execution_count": 6,
      "metadata": {},
      "outputs": [
        {
          "name": "stdout",
          "output_type": "stream",
          "text": [
            "Day so ban nhap la: [7, 67, 567]\n",
            "Ước chung lớn nhất của dãy số là: 1\n",
            "Bội chung nhỏ nhất của dãy số là: 37989\n"
          ]
        }
      ],
      "source": [
        "numbers = []\n",
        "numbers = nhap_day_so()\n",
        "\n",
        "print(\"Day so ban nhap la:\", numbers)\n",
        "if len(numbers) == 0:\n",
        "    print(\"Bạn chưa nhập bất kỳ số tự nhiên nào.\")\n",
        "else:\n",
        "    u, b = ucln_bcnn_day_so(numbers)\n",
        "    \n",
        "    # In ra kết quả\n",
        "    print(f\"Ước chung lớn nhất của dãy số là: {u}\")\n",
        "    print(f\"Bội chung nhỏ nhất của dãy số là: {b}\")"
      ]
    },
    {
      "cell_type": "markdown",
      "metadata": {},
      "source": [
        "# Bai 5"
      ]
    },
    {
      "cell_type": "code",
      "execution_count": 7,
      "metadata": {},
      "outputs": [
        {
          "name": "stdout",
          "output_type": "stream",
          "text": [
            "Day so ban nhap la: [6574, 35, 345]\n",
            "Số lượng số đã nhập: 3\n",
            "Giá trị lớn nhất: 6574\n",
            "Giá trị nhỏ nhất: 35\n"
          ]
        }
      ],
      "source": [
        "numbers = []\n",
        "numbers = nhap_day_so()\n",
        "\n",
        "print(\"Day so ban nhap la:\", numbers)                \n",
        "\n",
        "count = len(numbers)\n",
        "max_value = max(numbers)\n",
        "min_value = min(numbers)\n",
        "\n",
        "print(f\"Số lượng số đã nhập: {count}\")\n",
        "print(f\"Giá trị lớn nhất: {max_value}\")\n",
        "print(f\"Giá trị nhỏ nhất: {min_value}\")"
      ]
    },
    {
      "cell_type": "markdown",
      "metadata": {},
      "source": [
        "# Bai 5 - str"
      ]
    },
    {
      "cell_type": "code",
      "execution_count": 8,
      "metadata": {},
      "outputs": [
        {
          "name": "stdout",
          "output_type": "stream",
          "text": [
            "Chuỗi vừa nhập: nhieu khi anh mong duoc mot lan noi ra het tat ca thay vi\n",
            "Từ dài nhất có độ dài 5:\n",
            "nhieu\n"
          ]
        }
      ],
      "source": [
        "def process_input():\n",
        "    sentence = input(\"Nhập một chuỗi: \")\n",
        "    print(f\"Chuỗi vừa nhập: {sentence}\")\n",
        "    \n",
        "    words = sentence.split()\n",
        "    \n",
        "    if len(words) == 0:\n",
        "        print(\"Không có từ nào trong chuỗi đã nhập.\")\n",
        "    else:\n",
        "        max_length = max(len(word) for word in words)\n",
        "        \n",
        "        longest_words = [word for word in words if len(word) == max_length]\n",
        "        \n",
        "        print(f\"Từ dài nhất có độ dài {max_length}:\")\n",
        "        for word in longest_words:\n",
        "            print(word)\n",
        "\n",
        "process_input()\n"
      ]
    },
    {
      "cell_type": "markdown",
      "metadata": {},
      "source": [
        "# Bai 6"
      ]
    },
    {
      "cell_type": "code",
      "execution_count": 9,
      "metadata": {},
      "outputs": [
        {
          "name": "stdout",
          "output_type": "stream",
          "text": [
            "Chuỗi vừa nhập: ngoi lang im nghe em ke ve anh ta bang doi mat lap lanh\n",
            "Thống kê số lần xuất hiện của mỗi chữ cái:\n",
            "'n': 6 lần\n",
            "'g': 4 lần\n",
            "'o': 2 lần\n",
            "'i': 3 lần\n",
            "'l': 3 lần\n",
            "'a': 7 lần\n",
            "'m': 3 lần\n",
            "'h': 3 lần\n",
            "'e': 4 lần\n",
            "'k': 1 lần\n",
            "'v': 1 lần\n",
            "'t': 2 lần\n",
            "'b': 1 lần\n",
            "'d': 1 lần\n",
            "'p': 1 lần\n"
          ]
        }
      ],
      "source": [
        "def process_words():\n",
        "    sentence = input(\"Nhập dãy các từ: \")\n",
        "    print(f\"Chuỗi vừa nhập: {sentence}\")\n",
        "    \n",
        "    char_count = {}\n",
        "    \n",
        "    for char in sentence:\n",
        "        if char.isalpha():\n",
        "            char = char.lower()\n",
        "            if char in char_count:\n",
        "                char_count[char] += 1\n",
        "            else:\n",
        "                char_count[char] = 1\n",
        "    \n",
        "    print(\"Thống kê số lần xuất hiện của mỗi chữ cái:\")\n",
        "    for char, count in char_count.items():\n",
        "        print(f\"'{char}': {count} lần\")\n",
        "\n",
        "process_words()\n"
      ]
    },
    {
      "cell_type": "markdown",
      "metadata": {},
      "source": [
        "# Bai 7"
      ]
    },
    {
      "cell_type": "code",
      "execution_count": 10,
      "metadata": {},
      "outputs": [],
      "source": [
        "def convert_string_to_integer_list(S):\n",
        "    integer_list = []\n",
        "    \n",
        "    for char in S:\n",
        "        if char.isdigit():\n",
        "            integer_list.append(int(char))\n",
        "    \n",
        "    return integer_list"
      ]
    },
    {
      "cell_type": "code",
      "execution_count": 11,
      "metadata": {},
      "outputs": [
        {
          "name": "stdout",
          "output_type": "stream",
          "text": [
            "[8, 0, 0]\n"
          ]
        }
      ],
      "source": [
        "S = '2341813'\n",
        "N = 4\n",
        "remain = len(S) - N\n",
        "new = []\n",
        "index = 0\n",
        "for i in range(remain):\n",
        "    num = 0\n",
        "    for i in range(index, len(S) - index):\n",
        "        if num < int(S[i]):\n",
        "            num = int(S[i])\n",
        "            index = i\n",
        "    remain -= 1\n",
        "    new.append(num)\n",
        "print(new)\n"
      ]
    },
    {
      "cell_type": "markdown",
      "metadata": {},
      "source": [
        "# Bai 8"
      ]
    },
    {
      "cell_type": "code",
      "execution_count": 12,
      "metadata": {},
      "outputs": [
        {
          "name": "stdout",
          "output_type": "stream",
          "text": [
            "??????\n"
          ]
        }
      ],
      "source": [
        "S = input(\"Enter a string S: \")\n",
        "new_S = ''.join(['?' if c.isdigit() else c for c in S])\n",
        "print(new_S)"
      ]
    },
    {
      "cell_type": "markdown",
      "metadata": {},
      "source": [
        "# Bai 9"
      ]
    },
    {
      "cell_type": "code",
      "execution_count": 15,
      "metadata": {},
      "outputs": [
        {
          "name": "stdout",
          "output_type": "stream",
          "text": [
            "False\n"
          ]
        }
      ],
      "source": [
        "S = input(\"Enter a string S: \")\n",
        "is_symmetric = True\n",
        "for i in range(len(S) // 2):\n",
        "    if S[i] != S[len(S) - i - 1]:\n",
        "        is_symmetric = False\n",
        "        break\n",
        "print(is_symmetric)"
      ]
    }
  ],
  "metadata": {
    "colab": {
      "provenance": []
    },
    "kernelspec": {
      "display_name": "Python 3",
      "name": "python3"
    },
    "language_info": {
      "codemirror_mode": {
        "name": "ipython",
        "version": 3
      },
      "file_extension": ".py",
      "mimetype": "text/x-python",
      "name": "python",
      "nbconvert_exporter": "python",
      "pygments_lexer": "ipython3",
      "version": "3.12.3"
    }
  },
  "nbformat": 4,
  "nbformat_minor": 0
}
