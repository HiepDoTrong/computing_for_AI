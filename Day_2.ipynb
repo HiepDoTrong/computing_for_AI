{
  "cells": [
    {
      "cell_type": "markdown",
      "metadata": {
        "id": "8hQxXlBTjfkC"
      },
      "source": [
        "# Bai 1"
      ]
    },
    {
      "cell_type": "code",
      "execution_count": 4,
      "metadata": {
        "colab": {
          "base_uri": "https://localhost:8080/"
        },
        "id": "tHmsMQrGeifY",
        "outputId": "4353dd33-3a23-4fa2-b6ac-afbe483a2a5b"
      },
      "outputs": [
        {
          "name": "stdout",
          "output_type": "stream",
          "text": [
            "12 không phải là số nguyên tố.\n"
          ]
        }
      ],
      "source": [
        "def is_prime(N):\n",
        "    if N < 2:\n",
        "        return False\n",
        "    for i in range(2, int(N**0.5) + 1):\n",
        "        if N % i == 0:\n",
        "            return False\n",
        "    return True\n",
        "\n",
        "N = int(input(\"Nhập số nguyên N: \"))\n",
        "if is_prime(N):\n",
        "    print(f\"{N} là số nguyên tố.\")\n",
        "else:\n",
        "    print(f\"{N} không phải là số nguyên tố.\")\n"
      ]
    },
    {
      "cell_type": "markdown",
      "metadata": {
        "id": "DvulA1ePie0g"
      },
      "source": [
        "# Bài 2"
      ]
    },
    {
      "cell_type": "code",
      "execution_count": null,
      "metadata": {
        "colab": {
          "base_uri": "https://localhost:8080/"
        },
        "id": "CHW2xnbmiEqU",
        "outputId": "1d00a5fa-d294-4ae4-ff6f-432dc11cd17a"
      },
      "outputs": [
        {
          "name": "stdout",
          "output_type": "stream",
          "text": [
            "Nhập số nguyên A: 2\n",
            "Nhập số nguyên B: 10\n",
            "2\n",
            "3\n",
            "5\n",
            "7\n"
          ]
        }
      ],
      "source": [
        "def find_prime(A, B):\n",
        "    for i in range(A, B):\n",
        "        if is_prime(i):\n",
        "            print(i)\n",
        "\n",
        "A = int(input(\"Nhập số nguyên A: \"))\n",
        "B = int(input(\"Nhập số nguyên B: \"))\n",
        "find_prime(A, B)"
      ]
    },
    {
      "cell_type": "markdown",
      "metadata": {
        "id": "VWAVUC71jcXL"
      },
      "source": [
        "# Bai 3"
      ]
    },
    {
      "cell_type": "code",
      "execution_count": 8,
      "metadata": {
        "colab": {
          "base_uri": "https://localhost:8080/"
        },
        "id": "I74LoQaIjZNh",
        "outputId": "04e48216-69d1-46f9-ece9-c22526c4b598"
      },
      "outputs": [
        {
          "name": "stdout",
          "output_type": "stream",
          "text": [
            "Ước chung lớn nhất của 3 và 9 là: 3\n",
            "Bội chung nhỏ nhất của 3 và 9 là: 9\n"
          ]
        }
      ],
      "source": [
        "def ucln(A, B):\n",
        "    while B != 0:\n",
        "        A, B = B, A % B\n",
        "    return A\n",
        "\n",
        "def bcnn(A, B):\n",
        "    return abs(A * B) // ucln(A, B)\n",
        "\n",
        "def ucln_bcnn(A, B):\n",
        "    # Tính UCLN của A và B\n",
        "    u = ucln(A, B)\n",
        "\n",
        "    # Tính BCNN của A và B\n",
        "    b = bcnn(A, B)\n",
        "\n",
        "    # In ra kết quả\n",
        "    print(f\"Ước chung lớn nhất của {A} và {B} là: {u}\")\n",
        "    print(f\"Bội chung nhỏ nhất của {A} và {B} là: {b}\")\n",
        "\n",
        "# Nhập số nguyên dương A và B từ người dùng\n",
        "A = int(input(\"Nhập số nguyên dương A: \"))\n",
        "B = int(input(\"Nhập số nguyên dương B: \"))\n",
        "\n",
        "# Gọi hàm để tính và in ra UCLN và BCNN của A và B\n",
        "ucln_bcnn(A, B)\n"
      ]
    },
    {
      "cell_type": "markdown",
      "metadata": {
        "id": "hrzctA3uk7N2"
      },
      "source": [
        "# Bai 4\n"
      ]
    },
    {
      "cell_type": "code",
      "execution_count": 10,
      "metadata": {
        "id": "jQlcMEP6k9S1"
      },
      "outputs": [],
      "source": [
        "def ucln_bcnn_day_so(numbers):\n",
        "    u = numbers[0]\n",
        "    b = numbers[0]\n",
        "    for num in numbers[1:]:\n",
        "        u = ucln(u, num)\n",
        "        b = bcnn(b, num)\n",
        "    return u, b"
      ]
    },
    {
      "cell_type": "code",
      "execution_count": 14,
      "metadata": {},
      "outputs": [],
      "source": [
        "def nhap_day_so():\n",
        "    numbers = []\n",
        "    while True:\n",
        "        n = int(input(\"Nhập số nguyên dương (nhập 0 để kết thúc): \"))\n",
        "        if n == 0:\n",
        "            break\n",
        "        numbers.append(n)\n",
        "    return numbers"
      ]
    },
    {
      "cell_type": "code",
      "execution_count": 15,
      "metadata": {},
      "outputs": [
        {
          "name": "stdout",
          "output_type": "stream",
          "text": [
            "Day so ban nhap la: [2, 6, 8, 35, 7]\n",
            "Ước chung lớn nhất của dãy số là: 1\n",
            "Bội chung nhỏ nhất của dãy số là: 840\n"
          ]
        }
      ],
      "source": [
        "numbers = []\n",
        "numbers = nhap_day_so()\n",
        "\n",
        "print(\"Day so ban nhap la:\", numbers)\n",
        "if len(numbers) == 0:\n",
        "    print(\"Bạn chưa nhập bất kỳ số tự nhiên nào.\")\n",
        "else:\n",
        "    u, b = ucln_bcnn_day_so(numbers)\n",
        "    \n",
        "    # In ra kết quả\n",
        "    print(f\"Ước chung lớn nhất của dãy số là: {u}\")\n",
        "    print(f\"Bội chung nhỏ nhất của dãy số là: {b}\")"
      ]
    },
    {
      "cell_type": "markdown",
      "metadata": {},
      "source": [
        "# Bai 5"
      ]
    },
    {
      "cell_type": "code",
      "execution_count": 16,
      "metadata": {},
      "outputs": [
        {
          "name": "stdout",
          "output_type": "stream",
          "text": [
            "Day so ban nhap la: [1, 7, 4, 7]\n",
            "Số lượng số đã nhập: 4\n",
            "Giá trị lớn nhất: 7\n",
            "Giá trị nhỏ nhất: 1\n"
          ]
        }
      ],
      "source": [
        "numbers = []\n",
        "numbers = nhap_day_so()\n",
        "\n",
        "print(\"Day so ban nhap la:\", numbers)                \n",
        "\n",
        "count = len(numbers)\n",
        "max_value = max(numbers)\n",
        "min_value = min(numbers)\n",
        "\n",
        "print(f\"Số lượng số đã nhập: {count}\")\n",
        "print(f\"Giá trị lớn nhất: {max_value}\")\n",
        "print(f\"Giá trị nhỏ nhất: {min_value}\")"
      ]
    }
  ],
  "metadata": {
    "colab": {
      "provenance": []
    },
    "kernelspec": {
      "display_name": "Python 3",
      "name": "python3"
    },
    "language_info": {
      "codemirror_mode": {
        "name": "ipython",
        "version": 3
      },
      "file_extension": ".py",
      "mimetype": "text/x-python",
      "name": "python",
      "nbconvert_exporter": "python",
      "pygments_lexer": "ipython3",
      "version": "3.12.3"
    }
  },
  "nbformat": 4,
  "nbformat_minor": 0
}
