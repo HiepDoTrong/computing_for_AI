{
  "nbformat": 4,
  "nbformat_minor": 0,
  "metadata": {
    "colab": {
      "provenance": []
    },
    "kernelspec": {
      "name": "python3",
      "display_name": "Python 3"
    },
    "language_info": {
      "name": "python"
    }
  },
  "cells": [
    {
      "cell_type": "markdown",
      "source": [
        "# Bai 1"
      ],
      "metadata": {
        "id": "8hQxXlBTjfkC"
      }
    },
    {
      "cell_type": "code",
      "execution_count": 1,
      "metadata": {
        "colab": {
          "base_uri": "https://localhost:8080/"
        },
        "id": "tHmsMQrGeifY",
        "outputId": "4353dd33-3a23-4fa2-b6ac-afbe483a2a5b"
      },
      "outputs": [
        {
          "output_type": "stream",
          "name": "stdout",
          "text": [
            "Nhập số nguyên N: 17\n",
            "17 là số nguyên tố.\n"
          ]
        }
      ],
      "source": [
        "def is_prime(N):\n",
        "    if N < 2:\n",
        "        return False\n",
        "    for i in range(2, int(N**0.5) + 1):\n",
        "        if N % i == 0:\n",
        "            return False\n",
        "    return True\n",
        "\n",
        "N = int(input(\"Nhập số nguyên N: \"))\n",
        "if is_prime(N):\n",
        "    print(f\"{N} là số nguyên tố.\")\n",
        "else:\n",
        "    print(f\"{N} không phải là số nguyên tố.\")\n"
      ]
    },
    {
      "cell_type": "markdown",
      "source": [
        "# Bài 2"
      ],
      "metadata": {
        "id": "DvulA1ePie0g"
      }
    },
    {
      "cell_type": "code",
      "source": [
        "def find_prime(A, B):\n",
        "    for i in range(A, B):\n",
        "        if is_prime(i):\n",
        "            print(i)\n",
        "\n",
        "A = int(input(\"Nhập số nguyên A: \"))\n",
        "B = int(input(\"Nhập số nguyên B: \"))\n",
        "find_prime(A, B)"
      ],
      "metadata": {
        "colab": {
          "base_uri": "https://localhost:8080/"
        },
        "id": "CHW2xnbmiEqU",
        "outputId": "1d00a5fa-d294-4ae4-ff6f-432dc11cd17a"
      },
      "execution_count": 2,
      "outputs": [
        {
          "output_type": "stream",
          "name": "stdout",
          "text": [
            "Nhập số nguyên A: 2\n",
            "Nhập số nguyên B: 10\n",
            "2\n",
            "3\n",
            "5\n",
            "7\n"
          ]
        }
      ]
    },
    {
      "cell_type": "markdown",
      "source": [
        "# Bai 3"
      ],
      "metadata": {
        "id": "VWAVUC71jcXL"
      }
    },
    {
      "cell_type": "code",
      "source": [
        "def ucln(A, B):\n",
        "    while B != 0:\n",
        "        A, B = B, A % B\n",
        "    return A\n",
        "\n",
        "def bcnn(A, B):\n",
        "    return abs(A * B) // ucln(A, B)\n",
        "\n",
        "def ucln_bcnn(A, B):\n",
        "    # Tính UCLN của A và B\n",
        "    u = ucln(A, B)\n",
        "\n",
        "    # Tính BCNN của A và B\n",
        "    b = bcnn(A, B)\n",
        "\n",
        "    # In ra kết quả\n",
        "    print(f\"Ước chung lớn nhất của {A} và {B} là: {u}\")\n",
        "    print(f\"Bội chung nhỏ nhất của {A} và {B} là: {b}\")\n",
        "\n",
        "# Nhập số nguyên dương A và B từ người dùng\n",
        "A = int(input(\"Nhập số nguyên dương A: \"))\n",
        "B = int(input(\"Nhập số nguyên dương B: \"))\n",
        "\n",
        "# Gọi hàm để tính và in ra UCLN và BCNN của A và B\n",
        "ucln_bcnn(A, B)\n"
      ],
      "metadata": {
        "colab": {
          "base_uri": "https://localhost:8080/"
        },
        "id": "I74LoQaIjZNh",
        "outputId": "04e48216-69d1-46f9-ece9-c22526c4b598"
      },
      "execution_count": 4,
      "outputs": [
        {
          "output_type": "stream",
          "name": "stdout",
          "text": [
            "Nhập số nguyên dương A: 7\n",
            "Nhập số nguyên dương B: 23\n",
            "Ước chung lớn nhất của 7 và 23 là: 1\n",
            "Bội chung nhỏ nhất của 7 và 23 là: 161\n"
          ]
        }
      ]
    },
    {
      "cell_type": "markdown",
      "source": [
        "# Bai 4\n"
      ],
      "metadata": {
        "id": "hrzctA3uk7N2"
      }
    },
    {
      "cell_type": "code",
      "source": [
        "temp = input(\"Nhap day so tu nhien\")"
      ],
      "metadata": {
        "id": "jQlcMEP6k9S1"
      },
      "execution_count": null,
      "outputs": []
    }
  ]
}