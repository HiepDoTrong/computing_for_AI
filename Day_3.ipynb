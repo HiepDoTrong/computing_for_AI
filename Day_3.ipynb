{
 "cells": [
  {
   "cell_type": "code",
   "execution_count": 6,
   "metadata": {},
   "outputs": [],
   "source": [
    "import numpy as np"
   ]
  },
  {
   "cell_type": "markdown",
   "metadata": {},
   "source": [
    "## Bai 1"
   ]
  },
  {
   "cell_type": "code",
   "execution_count": 1,
   "metadata": {},
   "outputs": [
    {
     "name": "stdout",
     "output_type": "stream",
     "text": [
      "[0, 1, 2, 3, 4, 5, 6, 7, 8, 9, 10, 11, 12, 13, 14, 15, 16, 17, 18, 19, 20, 21, 22, 23, 24, 25, 26, 27, 28, 29, 30, 31, 32, 33, 34, 35, 36, 37, 38, 39, 40, 41, 42, 43, 44, 45, 46, 47, 48, 49, 50, 51, 52, 53, 54, 55, 56, 57, 58, 59, 60, 61, 62, 63, 64, 65, 66, 67, 68, 69, 70, 71, 72, 73, 74, 75, 76, 77, 78, 79, 80, 81, 82, 83, 84, 85, 86, 87, 88, 89, 90, 91, 92, 93, 94, 95, 96, 97, 98, 99]\n"
     ]
    }
   ],
   "source": [
    "list1 = []\n",
    "for i in range(0, 100):\n",
    "    list1.append(i)\n",
    "print(list1)"
   ]
  },
  {
   "cell_type": "markdown",
   "metadata": {},
   "source": [
    "## Bai 2"
   ]
  },
  {
   "cell_type": "code",
   "execution_count": 3,
   "metadata": {},
   "outputs": [
    {
     "name": "stdout",
     "output_type": "stream",
     "text": [
      "[1, 3, 5, 7, 9, 11, 13, 15, 17, 19, 21, 23, 25, 27, 29, 31, 33, 35, 37, 39, 41, 43, 45, 47, 49, 51, 53, 55, 57, 59, 61, 63, 65, 67, 69, 71, 73, 75, 77, 79, 81, 83, 85, 87, 89, 91, 93, 95, 97, 99, 101, 103, 105, 107, 109, 111, 113, 115, 117, 119, 121, 123, 125, 127, 129, 131, 133, 135, 137, 139, 141, 143, 145, 147, 149, 151, 153, 155, 157, 159, 161, 163, 165, 167, 169, 171, 173, 175, 177, 179, 181, 183, 185, 187, 189, 191, 193, 195, 197, 199]\n"
     ]
    }
   ],
   "source": [
    "list1 = []\n",
    "for i in range(1, 200, 2):\n",
    "    list1.append(i)\n",
    "print(list1)"
   ]
  },
  {
   "cell_type": "markdown",
   "metadata": {},
   "source": [
    "## Bai 3"
   ]
  },
  {
   "cell_type": "code",
   "execution_count": 4,
   "metadata": {},
   "outputs": [
    {
     "name": "stdout",
     "output_type": "stream",
     "text": [
      "Length of the list is:  6\n",
      "Max of the list is:  8568.0\n",
      "Min of the list is:  67.0\n"
     ]
    }
   ],
   "source": [
    "string = input(\"Enter a string: \")\n",
    "list3 = string.split(\" \")\n",
    "list3 = [float(i) for i in list3]\n",
    "print(\"Length of the list is: \", len(list3))\n",
    "print(\"Max of the list is: \", max(list3))\n",
    "print(\"Min of the list is: \", min(list3))"
   ]
  },
  {
   "cell_type": "markdown",
   "metadata": {},
   "source": [
    "## Bai 4"
   ]
  },
  {
   "cell_type": "code",
   "execution_count": 5,
   "metadata": {},
   "outputs": [
    {
     "name": "stdout",
     "output_type": "stream",
     "text": [
      "Do Trong Hiep\n",
      "Nguyen Quoc Khanh\n",
      "Nguyen Hoang Linh Phuong\n"
     ]
    }
   ],
   "source": [
    "list4 = []\n",
    "end = False\n",
    "while end == False:\n",
    "    string = input(\"Enter a name: \")\n",
    "    if string == \"\":\n",
    "        end = True\n",
    "    else:\n",
    "        list4.append(string)\n",
    "\n",
    "for i in list4:\n",
    "    print(i)"
   ]
  },
  {
   "cell_type": "markdown",
   "metadata": {},
   "source": [
    "## Bai 5"
   ]
  },
  {
   "cell_type": "code",
   "execution_count": 9,
   "metadata": {},
   "outputs": [
    {
     "name": "stdout",
     "output_type": "stream",
     "text": [
      "1\n",
      "3\n",
      "5\n",
      "9\n",
      "15\n"
     ]
    }
   ],
   "source": [
    "N = int(input(\"Enter an integer: \"))\n",
    "list5 = []\n",
    "for i in range(1, int(N/2) + 1):\n",
    "    if N % i == 0:\n",
    "        list5.append(i)\n",
    "        print(i)"
   ]
  },
  {
   "cell_type": "markdown",
   "metadata": {},
   "source": [
    "## Bai 6"
   ]
  },
  {
   "cell_type": "code",
   "execution_count": 13,
   "metadata": {},
   "outputs": [
    {
     "name": "stdout",
     "output_type": "stream",
     "text": [
      "12 16\n",
      "[1, 2, 4]\n"
     ]
    }
   ],
   "source": [
    "def tim_uoc_chung(a, b):\n",
    "    c = min(a, b)\n",
    "    uoc_chung = []\n",
    "    for i in range(1, c + 1):\n",
    "        if a % i == 0 and b % i == 0:\n",
    "            uoc_chung.append(i)\n",
    "    return uoc_chung\n",
    "\n",
    "# Nhập hai số từ người dùng\n",
    "a = int(input(\"Input a: \"))\n",
    "b = int(input(\"Input b: \"))\n",
    "\n",
    "# Tìm tất cả các ước chung của hai số và in ra kết quả\n",
    "uoc_chung = tim_uoc_chung(a, b)\n",
    "print(a, b)\n",
    "print(uoc_chung)\n"
   ]
  },
  {
   "cell_type": "markdown",
   "metadata": {},
   "source": [
    "## Bai 7"
   ]
  },
  {
   "cell_type": "code",
   "execution_count": 17,
   "metadata": {},
   "outputs": [
    {
     "name": "stdout",
     "output_type": "stream",
     "text": [
      "Day so:  34;56;67;45;45;34;45;34\n",
      "So luong so khac nhau trong day: 4\n"
     ]
    }
   ],
   "source": [
    "def dem_so_khac_nhau(danh_sach):\n",
    "    return len(set(danh_sach))\n",
    "\n",
    "chuoi_so = input(\"Nhập dãy số nguyên, các số cách nhau bởi dấu ';' : \")\n",
    "\n",
    "danh_sach_so = chuoi_so.split(';')\n",
    "danh_sach_so = [int(so) for so in danh_sach_so]  \n",
    "\n",
    "so_luong_khac_nhau = dem_so_khac_nhau(danh_sach_so)\n",
    "print(\"Day so: \", chuoi_so)\n",
    "print(\"So luong so khac nhau trong day:\", so_luong_khac_nhau)\n"
   ]
  },
  {
   "cell_type": "markdown",
   "metadata": {},
   "source": [
    "## Bai 8"
   ]
  },
  {
   "cell_type": "code",
   "execution_count": 19,
   "metadata": {},
   "outputs": [
    {
     "name": "stdout",
     "output_type": "stream",
     "text": [
      "Các bộ số của người chơi thắng cuộc:\n",
      "Người chơi 1 ['1', '2', '3', '4', '5', '6']\n"
     ]
    }
   ],
   "source": [
    "def kiem_tra_thang_cuoc(bo_so_nguoi_choi, bo_so_giai_dac_biet):\n",
    "    so_luong_trung = len(set(bo_so_nguoi_choi) & set(bo_so_giai_dac_biet))\n",
    "    return so_luong_trung >= 5\n",
    "\n",
    "N = int(input(\"Nhập số lượng người chơi: \"))\n",
    "\n",
    "danh_sach_bo_so_nguoi_choi = []\n",
    "for i in range(N):\n",
    "    bo_so_nguoi_choi = input(f\"Nhập bộ số của người chơi {i+1} (6 số từ 01 đến 45, cách nhau bởi dấu cách): \").split()\n",
    "    danh_sach_bo_so_nguoi_choi.append(bo_so_nguoi_choi)\n",
    "\n",
    "bo_so_giai_dac_biet = input(\"Nhập bộ số của giải đặc biệt (6 số từ 01 đến 45, cách nhau bởi dấu cách): \").split()\n",
    "\n",
    "print(\"Các bộ số của người chơi thắng cuộc:\")\n",
    "for i, bo_so_nguoi_choi in enumerate(danh_sach_bo_so_nguoi_choi, 1):\n",
    "    if kiem_tra_thang_cuoc(bo_so_nguoi_choi, bo_so_giai_dac_biet):\n",
    "        print(\"Người chơi\",i,  bo_so_nguoi_choi)\n"
   ]
  },
  {
   "cell_type": "markdown",
   "metadata": {},
   "source": [
    "# Dictionary, module"
   ]
  },
  {
   "cell_type": "markdown",
   "metadata": {},
   "source": [
    "## Bai 6"
   ]
  },
  {
   "cell_type": "code",
   "execution_count": 20,
   "metadata": {},
   "outputs": [
    {
     "name": "stdout",
     "output_type": "stream",
     "text": [
      "Từ điển lượng mưa trung bình trong các tháng từ năm 2000 đến 2019:\n",
      "Tháng 1: [247.83, 1660.12, 567.95, 110.19, 1912.5, 883.94, 3106.71, 2496.88, 417.83, 2455.2, 2826.5, 3590.23, 2044.32, 1509.35, 926.01, 1034.21, 637.96, 955.65, 1764.3, 3693.44]\n",
      "Tháng 2: [2741.42, 2995.03, 3911.21, 3982.64, 1757.6, 3752.54, 1199.85, 739.84, 1321.73, 1065.1, 1692.28, 2233.91, 1559.03, 2200.18, 1150.33, 1061.38, 697.71, 2103.6, 3700.41, 222.85]\n",
      "Tháng 3: [3283.72, 3799.08, 1646.3, 2342.13, 2338.6, 3056.76, 1314.54, 1954.7, 1676.26, 630.98, 1397.1, 3328.26, 2283.99, 3203.92, 271.94, 420.36, 1492.64, 2496.64, 2151.13, 1989.51]\n",
      "Tháng 4: [317.44, 1165.89, 3674.53, 3161.95, 597.74, 1586.38, 1990.85, 2300.79, 2518.18, 3770.62, 3542.11, 2190.76, 276.56, 3397.63, 133.52, 851.56, 1063.92, 1202.58, 1373.0, 3998.96]\n",
      "Tháng 5: [2673.17, 3563.65, 1198.59, 2010.3, 3781.81, 2168.58, 796.77, 1283.67, 1098.88, 2730.59, 2688.63, 531.26, 2700.05, 1704.75, 170.41, 145.18, 329.6, 2015.89, 3563.53, 3726.04]\n",
      "Tháng 6: [1175.82, 3185.68, 127.66, 3989.08, 3020.37, 3834.07, 719.59, 3406.52, 1247.18, 3262.01, 1335.73, 2816.46, 3126.59, 2706.84, 969.83, 2143.15, 3982.67, 880.21, 2157.94, 1545.54]\n",
      "Tháng 7: [3632.67, 3554.82, 404.88, 3924.6, 2038.08, 3256.66, 3908.65, 2540.57, 2844.71, 1713.2, 1338.19, 1005.62, 1590.74, 1565.7, 3175.07, 1065.91, 1788.93, 647.35, 143.85, 1245.08]\n",
      "Tháng 8: [1349.23, 3847.73, 3768.37, 3289.29, 3829.56, 647.63, 270.2, 1181.01, 367.43, 1223.47, 511.34, 2801.21, 2580.89, 956.61, 2843.85, 899.48, 1951.73, 199.12, 2232.48, 633.83]\n",
      "Tháng 9: [1088.08, 2499.63, 2166.56, 2828.84, 752.46, 3482.06, 147.35, 768.8, 222.51, 3091.46, 958.74, 114.11, 3877.01, 144.55, 643.9, 2825.07, 1530.03, 1807.81, 526.09, 1246.52]\n",
      "Tháng 10: [3472.85, 1558.29, 1524.18, 3919.99, 3860.69, 915.98, 1142.69, 3989.07, 2372.05, 1581.75, 890.66, 1498.83, 3268.73, 1894.55, 570.17, 1633.98, 2783.3, 802.97, 3865.48, 2567.7]\n",
      "Tháng 11: [2817.6, 666.0, 2700.39, 267.68, 1282.75, 2358.2, 3903.02, 1324.71, 705.56, 1657.92, 2782.55, 1534.34, 1683.18, 652.02, 393.49, 3485.88, 3629.95, 2745.43, 3951.57, 3135.23]\n",
      "Tháng 12: [1499.6, 3045.72, 121.83, 2863.8, 1513.25, 3675.32, 1976.95, 2087.95, 379.11, 568.07, 1392.75, 1085.91, 142.89, 392.85, 1421.76, 1991.94, 1813.5, 3661.36, 839.93, 3040.27]\n"
     ]
    }
   ],
   "source": [
    "import random\n",
    "\n",
    "def tao_luong_mua_ngau_nhien():\n",
    "    return round(random.uniform(100, 4000), 2)\n",
    "\n",
    "luong_mua_trung_binh = {}\n",
    "for thang in range(1, 13):\n",
    "    luong_mua_trung_binh[thang] = [tao_luong_mua_ngau_nhien() for _ in range(20)]\n",
    "\n",
    "print(\"Từ điển lượng mưa trung bình trong các tháng từ năm 2000 đến 2019:\")\n",
    "for thang, luong_mua in luong_mua_trung_binh.items():\n",
    "    print(f\"Tháng {thang}: {luong_mua}\")"
   ]
  },
  {
   "cell_type": "markdown",
   "metadata": {},
   "source": [
    "## Bai 7"
   ]
  },
  {
   "cell_type": "code",
   "execution_count": 23,
   "metadata": {},
   "outputs": [
    {
     "name": "stdout",
     "output_type": "stream",
     "text": [
      "Nhập từ điển A:\n",
      "Nhập từ điển B:\n",
      "Từ điển A: {'mot': '1', 'hai': '2'}\n",
      "Từ điển B: {'ba': '1', 'mot': '2', 'hai': '7'}\n",
      "Từ điển C: {'mot': '2', 'hai': '7', 'ba': '1'}\n"
     ]
    }
   ],
   "source": [
    "def tao_tu_dien_C(tu_dien_A, tu_dien_B):\n",
    "    tu_dien_C = {}\n",
    "    for key, value in tu_dien_A.items():\n",
    "        tu_dien_C[key] = value\n",
    "    for key, value in tu_dien_B.items():\n",
    "        if key in tu_dien_C:\n",
    "            tu_dien_C[key] = max(tu_dien_C[key], value)\n",
    "        else:\n",
    "            tu_dien_C[key] = value\n",
    "    return tu_dien_C\n",
    "N = int(input(\"Nhập số lượng cho A: \"))\n",
    "M = int(input(\"Nhập số lượng cho B: \"))\n",
    "\n",
    "tu_dien_A = {}\n",
    "print(\"Nhập từ điển A:\")\n",
    "for _ in range(N):\n",
    "    key = input(\"Nhập key: \")\n",
    "    value = input(\"Nhập value: \")\n",
    "    tu_dien_A[key] = value\n",
    "\n",
    "tu_dien_B = {}\n",
    "print(\"Nhập từ điển B:\")\n",
    "for _ in range(M):\n",
    "    key = input(\"Nhập key: \")\n",
    "    value = input(\"Nhập value: \")\n",
    "    tu_dien_B[key] = value\n",
    "tu_dien_C = tao_tu_dien_C(tu_dien_A, tu_dien_B)\n",
    "\n",
    "print(\"Từ điển A:\", tu_dien_A)\n",
    "print(\"Từ điển B:\", tu_dien_B)\n",
    "print(\"Từ điển C:\", tu_dien_C)"
   ]
  },
  {
   "cell_type": "markdown",
   "metadata": {},
   "source": [
    "# Exceptions"
   ]
  },
  {
   "cell_type": "markdown",
   "metadata": {},
   "source": [
    "## Bai 2"
   ]
  },
  {
   "cell_type": "code",
   "execution_count": 1,
   "metadata": {},
   "outputs": [
    {
     "name": "stdout",
     "output_type": "stream",
     "text": [
      "Error: could not convert string to float: ''\n",
      "Error: could not convert string to float: 'd'\n",
      "Error: could not convert string to float: 'd'\n",
      "Error: could not convert string to float: 'f'\n",
      "Error: could not convert string to float: ' '\n",
      "Error: could not convert string to float: ' '\n",
      "Error: could not convert string to float: 'd'\n",
      "Error: 3 angles must be positive numbers\n",
      "Error: could not convert string to float: ''\n",
      "Error: could not convert string to float: ''\n",
      "Error: could not convert string to float: ''\n",
      "Error: could not convert string to float: ''\n",
      "Error: could not convert string to float: ''\n",
      "Error: could not convert string to float: ''\n",
      "Error: could not convert string to float: ''\n",
      "Error: could not convert string to float: ''\n",
      "Error: could not convert string to float: ''\n",
      "Error: could not convert string to float: ''\n",
      "Error: could not convert string to float: ''\n",
      "Error: could not convert string to float: ''\n",
      "Error: could not convert string to float: ''\n",
      "Error: could not convert string to float: ''\n",
      "Error: could not convert string to float: ''\n",
      "Error: could not convert string to float: ''\n",
      "Error: could not convert string to float: ''\n",
      "Error: could not convert string to float: ''\n",
      "Error: could not convert string to float: ''\n",
      "Error: could not convert string to float: ''\n",
      "Error: could not convert string to float: ''\n",
      "Error: could not convert string to float: ''\n",
      "Error: could not convert string to float: ''\n",
      "Error: could not convert string to float: ''\n",
      "Error: could not convert string to float: ''\n",
      "Error: could not convert string to float: ''\n",
      "Error: could not convert string to float: ''\n",
      "Error: could not convert string to float: ''\n",
      "Error: could not convert string to float: ''\n",
      "Error: could not convert string to float: ''\n",
      "Error: could not convert string to float: ''\n",
      "Error: could not convert string to float: ''\n"
     ]
    }
   ],
   "source": [
    "def check(a, b, c):\n",
    "    if a + b <= c or a + c <= b or b + c <= a:\n",
    "        return False\n",
    "    return True\n",
    "\n",
    "while True:\n",
    "    try:\n",
    "        try:\n",
    "            a = float(input(\"a: \"))\n",
    "            b = float(input(\"b: \"))\n",
    "            c = float(input(\"c: \"))\n",
    "        except:\n",
    "            ValueError(\"3 angles must be number\")\n",
    "            continue\n",
    "        if a <= 0 or b <= 0 or c <= 0:\n",
    "            raise ValueError(\"3 angles must be positive numbers\")\n",
    "        if not check(a, b, c):\n",
    "            raise ValueError(\"3 angle is not availble to create a triangle\")\n",
    "        break\n",
    "    \n",
    "    except ValueError as ve:\n",
    "        print(f\"Error: {ve}\")\n",
    "print(a, b, c)\n"
   ]
  }
 ],
 "metadata": {
  "kernelspec": {
   "display_name": "pro_for_ai",
   "language": "python",
   "name": "python3"
  },
  "language_info": {
   "codemirror_mode": {
    "name": "ipython",
    "version": 3
   },
   "file_extension": ".py",
   "mimetype": "text/x-python",
   "name": "python",
   "nbconvert_exporter": "python",
   "pygments_lexer": "ipython3",
   "version": "3.12.3"
  }
 },
 "nbformat": 4,
 "nbformat_minor": 2
}
