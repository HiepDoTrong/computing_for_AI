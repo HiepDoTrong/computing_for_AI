{
 "cells": [
  {
   "cell_type": "code",
   "execution_count": 25,
   "metadata": {},
   "outputs": [],
   "source": [
    "import numpy as np\n",
    "import math"
   ]
  },
  {
   "cell_type": "markdown",
   "metadata": {},
   "source": [
    "# Bai 2"
   ]
  },
  {
   "cell_type": "code",
   "execution_count": 10,
   "metadata": {},
   "outputs": [],
   "source": [
    "def lai_suat_kep(tien, lai_suat, nam):\n",
    "    for i in range(nam):\n",
    "        tien = tien * (100+lai_suat) / 100\n",
    "    return tien"
   ]
  },
  {
   "cell_type": "code",
   "execution_count": 11,
   "metadata": {},
   "outputs": [
    {
     "name": "stdout",
     "output_type": "stream",
     "text": [
      "Sau 10 nam toi co 16.44474563565989 trieu dong\n"
     ]
    }
   ],
   "source": [
    "print(f\"Sau 10 nam toi co {lai_suat_kep(10, 5.1, 10)} trieu dong\")"
   ]
  },
  {
   "cell_type": "code",
   "execution_count": 12,
   "metadata": {},
   "outputs": [],
   "source": [
    "def lai_suat_kep_nam(tien_ban_dau, tien_sau, lai_suat):\n",
    "    nam = 0\n",
    "    while tien_ban_dau < tien_sau:\n",
    "        nam+=1\n",
    "        tien_ban_dau = tien_ban_dau*(100+lai_suat) / 100\n",
    "    return nam"
   ]
  },
  {
   "cell_type": "code",
   "execution_count": 13,
   "metadata": {},
   "outputs": [
    {
     "name": "stdout",
     "output_type": "stream",
     "text": [
      "So nam de toi co 10 trieu dong la 33\n"
     ]
    }
   ],
   "source": [
    "print(f\"So nam de toi co 10 trieu dong la {lai_suat_kep_nam(10, 50, 5.1)}\")"
   ]
  },
  {
   "cell_type": "markdown",
   "metadata": {},
   "source": [
    "# Bai 3"
   ]
  },
  {
   "cell_type": "code",
   "execution_count": 14,
   "metadata": {},
   "outputs": [
    {
     "name": "stdout",
     "output_type": "stream",
     "text": [
      "Số 34 ở dạng cơ số 16: 0x22\n",
      "Số 34 ở dạng cơ số 8: 0o42\n",
      "Số 34 ở dạng cơ số 2: 0b100010\n"
     ]
    }
   ],
   "source": [
    "def convert_number_bases(n):\n",
    "    # Chuyển đổi số nguyên n sang cơ số 16\n",
    "    hex_value = hex(n)\n",
    "    \n",
    "    # Chuyển đổi số nguyên n sang cơ số 8\n",
    "    oct_value = oct(n)\n",
    "    \n",
    "    # Chuyển đổi số nguyên n sang cơ số 2\n",
    "    bin_value = bin(n)\n",
    "    \n",
    "    print(f\"Số {n} ở dạng cơ số 16: {hex_value}\")\n",
    "    print(f\"Số {n} ở dạng cơ số 8: {oct_value}\")\n",
    "    print(f\"Số {n} ở dạng cơ số 2: {bin_value}\")\n",
    "\n",
    "n = int(input(\"Nhập số nguyên n: \"))\n",
    "\n",
    "convert_number_bases(n)"
   ]
  },
  {
   "cell_type": "markdown",
   "metadata": {},
   "source": [
    "# Bai 4"
   ]
  },
  {
   "cell_type": "code",
   "execution_count": 15,
   "metadata": {},
   "outputs": [
    {
     "name": "stdout",
     "output_type": "stream",
     "text": [
      "Căn bậc 6.0 của 4.0 là: 1.2599210498948732\n"
     ]
    }
   ],
   "source": [
    "def calculate_nth_root(a, b):\n",
    "    # Tính căn bậc b của a\n",
    "    root_value = a ** (1 / b)\n",
    "    print(f\"Căn bậc {b} của {a} là: {root_value}\")\n",
    "\n",
    "a = float(input(\"Nhập số a: \"))\n",
    "b = float(input(\"Nhập số b: \"))\n",
    "\n",
    "calculate_nth_root(a, b)"
   ]
  },
  {
   "cell_type": "markdown",
   "metadata": {},
   "source": [
    "# Bai 5"
   ]
  },
  {
   "cell_type": "code",
   "execution_count": 16,
   "metadata": {},
   "outputs": [
    {
     "name": "stdout",
     "output_type": "stream",
     "text": [
      "Số 23462 có 5 chữ số.\n",
      "Chữ số đầu tiên của 23462 là: 2\n"
     ]
    }
   ],
   "source": [
    "def count_digits_and_first_digit(X):\n",
    "    str_X = str(X)\n",
    "    \n",
    "    num_digits = len(str_X)\n",
    "    \n",
    "    first_digit = str_X[0]\n",
    "    \n",
    "    print(f\"Số {X} có {num_digits} chữ số.\")\n",
    "    print(f\"Chữ số đầu tiên của {X} là: {first_digit}\")\n",
    "\n",
    "X = int(input(\"Nhập số nguyên X: \"))\n",
    "count_digits_and_first_digit(X)\n"
   ]
  },
  {
   "cell_type": "markdown",
   "metadata": {},
   "source": [
    "# Bai tap"
   ]
  },
  {
   "cell_type": "markdown",
   "metadata": {},
   "source": [
    "# Bai 1"
   ]
  },
  {
   "cell_type": "code",
   "execution_count": 18,
   "metadata": {},
   "outputs": [
    {
     "name": "stdout",
     "output_type": "stream",
     "text": [
      "The average of the variants is: 18.8\n"
     ]
    }
   ],
   "source": [
    "variants = []\n",
    "for i in range(5):\n",
    "    variant = int(input(f\"Enter variant {i+1}: \"))\n",
    "    variants.append(variant)\n",
    "\n",
    "average = sum(variants) / len(variants)\n",
    "print(f\"The average of the variants is: {average}\")"
   ]
  },
  {
   "cell_type": "markdown",
   "metadata": {},
   "source": [
    "# Bai 2"
   ]
  },
  {
   "cell_type": "code",
   "execution_count": 19,
   "metadata": {},
   "outputs": [
    {
     "name": "stdout",
     "output_type": "stream",
     "text": [
      "The area of the triangle is: 2.9047375096555625\n"
     ]
    }
   ],
   "source": [
    "import math\n",
    "def compute_triangle_area(a, b, c):\n",
    "    s = (a + b + c) / 2\n",
    "\n",
    "    area = math.sqrt(s * (s - a) * (s - b) * (s - c))\n",
    "\n",
    "    return area\n",
    "\n",
    "a = 3\n",
    "b = 4\n",
    "c = 2\n",
    "\n",
    "triangle_area = compute_triangle_area(a, b, c)\n",
    "print(f\"The area of the triangle is: {triangle_area}\")\n"
   ]
  },
  {
   "cell_type": "markdown",
   "metadata": {},
   "source": [
    "# Bai 3"
   ]
  },
  {
   "cell_type": "code",
   "execution_count": 20,
   "metadata": {},
   "outputs": [],
   "source": [
    "def compute_triangle_area2(x1, y1, x2, y2, x3, y3):\n",
    "    area = 0.5 * abs(x1 * (y2 - y3) + x2 * (y3 - y1) + x3 * (y1 - y2))\n",
    "    return area"
   ]
  },
  {
   "cell_type": "code",
   "execution_count": 21,
   "metadata": {},
   "outputs": [
    {
     "name": "stdout",
     "output_type": "stream",
     "text": [
      "The area of the triangle is: 6.0\n"
     ]
    }
   ],
   "source": [
    "x1, y1 = 0, 0\n",
    "x2, y2 = 4, 0\n",
    "x3, y3 = 0, 3\n",
    "area = compute_triangle_area2(x1, y1, x2, y2, x3, y3)\n",
    "print(f\"The area of the triangle is: {area}\")"
   ]
  },
  {
   "cell_type": "markdown",
   "metadata": {},
   "source": [
    "# Bai 4"
   ]
  },
  {
   "cell_type": "code",
   "execution_count": 22,
   "metadata": {},
   "outputs": [],
   "source": [
    "def sum_of_digits(N):\n",
    "    str_N = str(N)\n",
    "\n",
    "    sum_digits = 0\n",
    "\n",
    "    for char in str_N:\n",
    "        sum_digits += int(char)\n",
    "\n",
    "    return sum_digits"
   ]
  },
  {
   "cell_type": "code",
   "execution_count": 23,
   "metadata": {},
   "outputs": [
    {
     "name": "stdout",
     "output_type": "stream",
     "text": [
      "The sum of digits of 12345 is: 15\n"
     ]
    }
   ],
   "source": [
    "N = 12345\n",
    "sum_digits = sum_of_digits(N)\n",
    "print(f\"The sum of digits of {N} is: {sum_digits}\")"
   ]
  },
  {
   "cell_type": "markdown",
   "metadata": {},
   "source": [
    "# Bai 5"
   ]
  },
  {
   "cell_type": "code",
   "execution_count": 26,
   "metadata": {},
   "outputs": [
    {
     "name": "stdout",
     "output_type": "stream",
     "text": [
      "True\n"
     ]
    }
   ],
   "source": [
    "def is_fibonacci_number(n):\n",
    "    return math.isqrt(5*n*n + 4)**2 == 5*n*n + 4 or math.isqrt(5*n*n - 4)**2 == 5*n*n - 4\n",
    "\n",
    "n = 13\n",
    "print(is_fibonacci_number(n))"
   ]
  },
  {
   "cell_type": "markdown",
   "metadata": {},
   "source": [
    "# Bai 6"
   ]
  },
  {
   "cell_type": "code",
   "execution_count": 27,
   "metadata": {},
   "outputs": [
    {
     "name": "stdout",
     "output_type": "stream",
     "text": [
      "153\n"
     ]
    }
   ],
   "source": [
    "def factorial(n):\n",
    "    if n==0:\n",
    "        return 1\n",
    "    else:\n",
    "        factorial = 1\n",
    "        for i in range(1, n+1):\n",
    "            factorial *= i\n",
    "        return factorial\n",
    "\n",
    "def total_chain(n):\n",
    "    if n == 0 or n == 1:\n",
    "        return 1\n",
    "    else: \n",
    "        return  total_chain(n - 1) + factorial(n)\n",
    "    \n",
    "n = 5\n",
    "print(total_chain(n))"
   ]
  },
  {
   "cell_type": "markdown",
   "metadata": {},
   "source": [
    "# Bai 7"
   ]
  },
  {
   "cell_type": "code",
   "execution_count": 30,
   "metadata": {},
   "outputs": [
    {
     "name": "stdout",
     "output_type": "stream",
     "text": [
      "Kha\n"
     ]
    }
   ],
   "source": [
    "def student_type(grade):\n",
    "    if grade < 3.5:\n",
    "        return \"Yeu\"\n",
    "    elif grade < 5:\n",
    "        return \"Kem\"\n",
    "    elif grade < 6.5:\n",
    "        return \"Trung binh\"\n",
    "    elif grade < 8:\n",
    "        return \"Kha\"\n",
    "    elif grade < 9:\n",
    "        return \"Gioi\"\n",
    "    else:\n",
    "        return \"Xuat sac\"\n",
    "\n",
    "\n",
    "grade = int(input(\"Nhap diem: \"))\n",
    "print(student_type(grade))"
   ]
  },
  {
   "cell_type": "markdown",
   "metadata": {},
   "source": [
    "# Bai 8"
   ]
  },
  {
   "cell_type": "code",
   "execution_count": 31,
   "metadata": {},
   "outputs": [
    {
     "name": "stdout",
     "output_type": "stream",
     "text": [
      "Max =  8\n",
      "Left digit =  8\n"
     ]
    }
   ],
   "source": [
    "def three_digits(a, b, c):\n",
    "    print(\"Max = \", max(a, b, c))\n",
    "    if a==b:\n",
    "        print(\"Left digit = \", c)\n",
    "    elif a==c:\n",
    "        print(\"Left digit = \", b)\n",
    "    else:\n",
    "        print(\"Left digit = \", a)\n",
    "\n",
    "a, b, c = int(input(\"Nhap a: \")), int(input(\"Nhap b: \")), int(input(\"Nhap c: \"))\n",
    "three_digits(a, b, c)"
   ]
  },
  {
   "cell_type": "markdown",
   "metadata": {},
   "source": [
    "# Bai 9"
   ]
  },
  {
   "cell_type": "code",
   "execution_count": 32,
   "metadata": {},
   "outputs": [
    {
     "name": "stdout",
     "output_type": "stream",
     "text": [
      "The next day is: (24, 2, 1119)\n"
     ]
    }
   ],
   "source": [
    "def is_leap_year(year):\n",
    "    return (year % 4 == 0 and year % 100 != 0) or (year % 400 == 0)\n",
    "\n",
    "def next_day(day, month, year):\n",
    "    # Số ngày trong mỗi tháng\n",
    "    days_in_month = [31, 28, 31, 30, 31, 30, 31, 31, 30, 31, 30, 31]\n",
    "\n",
    "    # Kiểm tra năm nhuận\n",
    "    if is_leap_year(year):\n",
    "        days_in_month[1] = 29\n",
    "\n",
    "    # Kiểm tra ngày hợp lệ\n",
    "    if day < 1 or day > days_in_month[month - 1] or month < 1 or month > 12:\n",
    "        return \"Invalid date!\"\n",
    "\n",
    "    # Tăng ngày lên 1\n",
    "    day += 1\n",
    "\n",
    "    # Kiểm tra xem có cần điều chỉnh tháng và năm không\n",
    "    if day > days_in_month[month - 1]:\n",
    "        day = 1\n",
    "        month += 1\n",
    "        if month > 12:\n",
    "            month = 1\n",
    "            year += 1\n",
    "\n",
    "    return day, month, year\n",
    "\n",
    "day = int(input(\"Day: \"))\n",
    "month = int(input(\"Month: \"))\n",
    "year = int(input(\"Year: \"))\n",
    "\n",
    "next_date = next_day(day, month, year)\n",
    "\n",
    "print(\"The next day is:\", next_date)"
   ]
  }
 ],
 "metadata": {
  "kernelspec": {
   "display_name": "pro_for_ai",
   "language": "python",
   "name": "python3"
  },
  "language_info": {
   "codemirror_mode": {
    "name": "ipython",
    "version": 3
   },
   "file_extension": ".py",
   "mimetype": "text/x-python",
   "name": "python",
   "nbconvert_exporter": "python",
   "pygments_lexer": "ipython3",
   "version": "3.12.3"
  }
 },
 "nbformat": 4,
 "nbformat_minor": 2
}
