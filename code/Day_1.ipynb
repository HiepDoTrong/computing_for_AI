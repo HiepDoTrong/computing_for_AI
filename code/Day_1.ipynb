{
 "cells": [
  {
   "cell_type": "markdown",
   "metadata": {},
   "source": [
    "# Bai 2"
   ]
  },
  {
   "cell_type": "code",
   "execution_count": 3,
   "metadata": {},
   "outputs": [],
   "source": [
    "def lai_suat_kep(tien, lai_suat, nam):\n",
    "    for i in range(nam):\n",
    "        tien = tien * (100+lai_suat) / 100\n",
    "    return tien"
   ]
  },
  {
   "cell_type": "code",
   "execution_count": 4,
   "metadata": {},
   "outputs": [
    {
     "name": "stdout",
     "output_type": "stream",
     "text": [
      "Sau 10 nam toi co 16.44474563565989 trieu dong\n"
     ]
    }
   ],
   "source": [
    "print(f\"Sau 10 nam toi co {lai_suat_kep(10, 5.1, 10)} trieu dong\")"
   ]
  },
  {
   "cell_type": "code",
   "execution_count": 5,
   "metadata": {},
   "outputs": [],
   "source": [
    "def lai_suat_kep_nam(tien_ban_dau, tien_sau, lai_suat):\n",
    "    nam = 0\n",
    "    while tien_ban_dau < tien_sau:\n",
    "        nam+=1\n",
    "        tien_ban_dau = tien_ban_dau*(100+lai_suat) / 100\n",
    "    return nam"
   ]
  },
  {
   "cell_type": "code",
   "execution_count": 6,
   "metadata": {},
   "outputs": [
    {
     "name": "stdout",
     "output_type": "stream",
     "text": [
      "So nam de toi co 10 trieu dong la 33\n"
     ]
    }
   ],
   "source": [
    "print(f\"So nam de toi co 10 trieu dong la {lai_suat_kep_nam(10, 50, 5.1)}\")"
   ]
  },
  {
   "cell_type": "markdown",
   "metadata": {},
   "source": [
    "# Bai 3"
   ]
  },
  {
   "cell_type": "code",
   "execution_count": 1,
   "metadata": {},
   "outputs": [
    {
     "name": "stdout",
     "output_type": "stream",
     "text": [
      "Số 8 ở dạng cơ số 16: 0x8\n",
      "Số 8 ở dạng cơ số 8: 0o10\n",
      "Số 8 ở dạng cơ số 2: 0b1000\n"
     ]
    }
   ],
   "source": [
    "def convert_number_bases(n):\n",
    "    # Chuyển đổi số nguyên n sang cơ số 16\n",
    "    hex_value = hex(n)\n",
    "    \n",
    "    # Chuyển đổi số nguyên n sang cơ số 8\n",
    "    oct_value = oct(n)\n",
    "    \n",
    "    # Chuyển đổi số nguyên n sang cơ số 2\n",
    "    bin_value = bin(n)\n",
    "    \n",
    "    # In ra kết quả\n",
    "    print(f\"Số {n} ở dạng cơ số 16: {hex_value}\")\n",
    "    print(f\"Số {n} ở dạng cơ số 8: {oct_value}\")\n",
    "    print(f\"Số {n} ở dạng cơ số 2: {bin_value}\")\n",
    "\n",
    "# Nhập số nguyên n từ người dùng\n",
    "n = int(input(\"Nhập số nguyên n: \"))\n",
    "\n",
    "# Gọi hàm để in ra các giá trị chuyển đổi\n",
    "convert_number_bases(n)"
   ]
  },
  {
   "cell_type": "markdown",
   "metadata": {},
   "source": [
    "# Bai 4"
   ]
  },
  {
   "cell_type": "code",
   "execution_count": 4,
   "metadata": {},
   "outputs": [
    {
     "name": "stdout",
     "output_type": "stream",
     "text": [
      "Căn bậc 4.0 của 3.0 là: 1.3160740129524924\n"
     ]
    }
   ],
   "source": [
    "def calculate_nth_root(a, b):\n",
    "    # Tính căn bậc b của a\n",
    "    root_value = a ** (1 / b)\n",
    "    \n",
    "    # In ra kết quả\n",
    "    print(f\"Căn bậc {b} của {a} là: {root_value}\")\n",
    "\n",
    "# Nhập số nguyên a và b từ người dùng\n",
    "a = float(input(\"Nhập số a: \"))\n",
    "b = float(input(\"Nhập số b: \"))\n",
    "\n",
    "# Gọi hàm để tính và in ra căn bậc b của a\n",
    "calculate_nth_root(a, b)\n"
   ]
  },
  {
   "cell_type": "markdown",
   "metadata": {},
   "source": [
    "# Bai 5"
   ]
  },
  {
   "cell_type": "code",
   "execution_count": 3,
   "metadata": {},
   "outputs": [
    {
     "name": "stdout",
     "output_type": "stream",
     "text": [
      "Số 1334 có 4 chữ số.\n",
      "Chữ số đầu tiên của 1334 là: 1\n"
     ]
    }
   ],
   "source": [
    "def count_digits_and_first_digit(X):\n",
    "    # Chuyển đổi số nguyên X thành chuỗi\n",
    "    str_X = str(X)\n",
    "    \n",
    "    # Đếm số chữ số\n",
    "    num_digits = len(str_X)\n",
    "    \n",
    "    # Lấy chữ số đầu tiên\n",
    "    first_digit = str_X[0]\n",
    "    \n",
    "    # In ra kết quả\n",
    "    print(f\"Số {X} có {num_digits} chữ số.\")\n",
    "    print(f\"Chữ số đầu tiên của {X} là: {first_digit}\")\n",
    "\n",
    "# Nhập số nguyên X từ người dùng\n",
    "X = int(input(\"Nhập số nguyên X: \"))\n",
    "\n",
    "# Gọi hàm để đếm số chữ số và in ra chữ số đầu tiên của X\n",
    "count_digits_and_first_digit(X)\n"
   ]
  },
  {
   "cell_type": "markdown",
   "metadata": {},
   "source": [
    "# Bai tap"
   ]
  },
  {
   "cell_type": "code",
   "execution_count": 9,
   "metadata": {},
   "outputs": [
    {
     "name": "stdout",
     "output_type": "stream",
     "text": [
      "The average of the variants is: 7.0\n"
     ]
    }
   ],
   "source": [
    "variants = []\n",
    "for i in range(5):\n",
    "    variant = int(input(f\"Enter variant {i+1}: \"))\n",
    "    variants.append(variant)\n",
    "\n",
    "average = sum(variants) / len(variants)\n",
    "print(f\"The average of the variants is: {average}\")"
   ]
  },
  {
   "cell_type": "code",
   "execution_count": 11,
   "metadata": {},
   "outputs": [
    {
     "name": "stdout",
     "output_type": "stream",
     "text": [
      "The area of the triangle is: 2.9047375096555625\n"
     ]
    }
   ],
   "source": [
    "import math\n",
    "# compute area of triangle which know length of triangle\n",
    "def compute_triangle_area(a, b, c):\n",
    "    # calculate the semi-perimeter\n",
    "    s = (a + b + c) / 2\n",
    "\n",
    "    # calculate the area using Heron's formula\n",
    "    area = math.sqrt(s * (s - a) * (s - b) * (s - c))\n",
    "\n",
    "    return area\n",
    "\n",
    "# Example usage\n",
    "a = 3\n",
    "b = 4\n",
    "c = 2\n",
    "\n",
    "triangle_area = compute_triangle_area(a, b, c)\n",
    "print(f\"The area of the triangle is: {triangle_area}\")\n"
   ]
  },
  {
   "cell_type": "code",
   "execution_count": null,
   "metadata": {},
   "outputs": [],
   "source": []
  }
 ],
 "metadata": {
  "kernelspec": {
   "display_name": "pro_for_ai",
   "language": "python",
   "name": "python3"
  },
  "language_info": {
   "codemirror_mode": {
    "name": "ipython",
    "version": 3
   },
   "file_extension": ".py",
   "mimetype": "text/x-python",
   "name": "python",
   "nbconvert_exporter": "python",
   "pygments_lexer": "ipython3",
   "version": "3.12.3"
  }
 },
 "nbformat": 4,
 "nbformat_minor": 2
}
